{
  "cells": [
    {
      "cell_type": "markdown",
      "metadata": {
        "id": "view-in-github",
        "colab_type": "text"
      },
      "source": [
        "<a href=\"https://colab.research.google.com/github/anahita-najafi/NeuroMatchAcademy-DLcourse2022/blob/main/CNNs/Copy_of_W2D2_Tutorial2.ipynb\" target=\"_parent\"><img src=\"https://colab.research.google.com/assets/colab-badge.svg\" alt=\"Open In Colab\"/></a>"
      ]
    },
    {
      "cell_type": "markdown",
      "metadata": {
        "execution": {},
        "id": "Qj-vgnyqijmY"
      },
      "source": [
        "# Tutorial 2: Deep Learning Thinking 1: Cost Functions\n",
        "\n",
        "**Week 2, Day 2: Convnets and DL Thinking**\n",
        "\n",
        "**By Neuromatch Academy**\n",
        "\n",
        "\n",
        "__Content creators:__ Konrad Kording, Lyle ungar, Ashish Sahoo \n",
        " \n",
        "__Content reviewers:__ Kelson Shilling-Scrivo\n",
        "\n",
        "__Content editors:__ Kelson Shilling-Scrivo\n",
        "\n",
        "__Production editors:__ Gagana B, Spiros Chavlis "
      ]
    },
    {
      "cell_type": "markdown",
      "metadata": {
        "execution": {},
        "id": "yyttPKokijmd"
      },
      "source": [
        "<p align='center'><img src='https://github.com/NeuromatchAcademy/widgets/blob/master/sponsors.png?raw=True'/></p>"
      ]
    },
    {
      "cell_type": "markdown",
      "metadata": {
        "execution": {},
        "id": "orR36HUuijme"
      },
      "source": [
        "---\n",
        "# Tutorial Objectives\n",
        "\n",
        "In this tutorial, you will practice thinking like a deep learning practitioner and determine how to design cost functions for different scenarios. \n",
        "\n",
        "By the end of this tutorial, you will be better able to:\n",
        "\n",
        "* Appreciate the importance of cost function engineering\n",
        "* Translate domain knowledge into cost functions\n",
        "* Ask questions about DL systems and customer needs"
      ]
    },
    {
      "cell_type": "code",
      "execution_count": null,
      "metadata": {
        "cellView": "form",
        "execution": {},
        "id": "9zfyIyd9ijmf"
      },
      "outputs": [],
      "source": [
        "# @title Tutorial slides\n",
        "\n",
        "# @title insert tutorial slide link\n",
        "from IPython.display import IFrame\n",
        "IFrame(src=\"https://mfr.ca-1.osf.io/render?url=https://osf.io/szcjn/?direct%26mode=render%26action=download%26mode=render\", width=854, height=480)"
      ]
    },
    {
      "cell_type": "markdown",
      "metadata": {
        "execution": {},
        "id": "DMM8r1rFijmg"
      },
      "source": [
        "These are the slides for all videos in this tutorial. If you want to download locally the slides, click [here](https://osf.io/szcjn/download)."
      ]
    },
    {
      "cell_type": "markdown",
      "metadata": {
        "execution": {},
        "id": "YLYz9lqjijmg"
      },
      "source": [
        "---\n",
        "# Setup"
      ]
    },
    {
      "cell_type": "code",
      "execution_count": null,
      "metadata": {
        "cellView": "form",
        "execution": {},
        "id": "t9apJGIMijmh",
        "colab": {
          "base_uri": "https://localhost:8080/"
        },
        "outputId": "470898da-04a0-433f-8b25-ebf735eacafb"
      },
      "outputs": [
        {
          "output_type": "stream",
          "name": "stdout",
          "text": [
            "  Building wheel for evaltools (setup.py) ... \u001b[?25l\u001b[?25hdone\n"
          ]
        }
      ],
      "source": [
        "# @title Install dependencies\n",
        "!pip install git+https://github.com/NeuromatchAcademy/evaltools --quiet\n",
        "\n",
        "from evaltools.airtable import AirtableForm\n",
        "atform = AirtableForm('appn7VdPRseSoMXEG', 'W2D2_T2', 'https://portal.neuromatchacademy.org/api/redirect/to/3b139c3a-b116-4963-82bf-aeb5a73246eb')"
      ]
    },
    {
      "cell_type": "markdown",
      "metadata": {
        "execution": {},
        "id": "Qu71E9Krijmh"
      },
      "source": [
        "---\n",
        "# Section 1: Intro to Deep Learning Thinking\n",
        "\n",
        "\n",
        "\n",
        "\n",
        "\n",
        "\n",
        "\n"
      ]
    },
    {
      "cell_type": "code",
      "execution_count": null,
      "metadata": {
        "cellView": "form",
        "execution": {},
        "id": "RB80CCaRijmi",
        "colab": {
          "base_uri": "https://localhost:8080/",
          "height": 597,
          "referenced_widgets": [
            "858f7a3a36bd4ab2ac95675f93eb89a6",
            "825ebf7235b9414f87447b0412cac6fa",
            "c48d8d19b91f40848511efb36878e922",
            "412204e89fc54c78ae2ea5fde2303e5c",
            "216daaaee223414ab28c6b6432b66864",
            "95adf3dd1e1142479d8ecb99b6df1858"
          ]
        },
        "outputId": "74d4676d-1181-4608-d448-5e04bb2211c7"
      },
      "outputs": [
        {
          "output_type": "display_data",
          "data": {
            "text/plain": [
              "Tab(children=(Output(), Output()), _titles={'0': 'Youtube', '1': 'Bilibili'})"
            ],
            "application/vnd.jupyter.widget-view+json": {
              "version_major": 2,
              "version_minor": 0,
              "model_id": "858f7a3a36bd4ab2ac95675f93eb89a6"
            }
          },
          "metadata": {}
        }
      ],
      "source": [
        "# @title Video 1: Intro to DL Thinking\n",
        "from ipywidgets import widgets\n",
        "\n",
        "out2 = widgets.Output()\n",
        "with out2:\n",
        "  from IPython.display import IFrame\n",
        "  class BiliVideo(IFrame):\n",
        "    def __init__(self, id, page=1, width=400, height=300, **kwargs):\n",
        "      self.id=id\n",
        "      src = \"https://player.bilibili.com/player.html?bvid={0}&page={1}\".format(id, page)\n",
        "      super(BiliVideo, self).__init__(src, width, height, **kwargs)\n",
        "\n",
        "  video = BiliVideo(id=f\"\", width=854, height=480, fs=1)\n",
        "  print(\"Video available at https://www.bilibili.com/video/{0}\".format(video.id))\n",
        "  display(video)\n",
        "\n",
        "out1 = widgets.Output()\n",
        "with out1:\n",
        "  from IPython.display import YouTubeVideo\n",
        "  video = YouTubeVideo(id=f\"iEqd0MY5pxI\", width=854, height=480, fs=1, rel=0)\n",
        "  print(\"Video available at https://youtube.com/watch?v=\" + video.id)\n",
        "  display(video)\n",
        "\n",
        "out = widgets.Tab([out1, out2])\n",
        "out.set_title(0, 'Youtube')\n",
        "out.set_title(1, 'Bilibili')\n",
        "\n",
        "# Add event to airtable\n",
        "atform.add_event('Video 1: Intro to DL Thinking')\n",
        "\n",
        "display(out)"
      ]
    },
    {
      "cell_type": "markdown",
      "metadata": {
        "execution": {},
        "id": "ZnOymFYzijmj"
      },
      "source": [
        "This tutorial is a bit different from others - there will be no coding! Instead you will watch a series of vignettes about various scenarios where you want to use a neural network. This tutorial will focus on cost functions, a tutorial you will see later in the course will be similar but focused on designing architectures. \n",
        "\n",
        "Each section below will start with a vignette where either Lyle or Konrad is trying to figure out how to set up a neural network for a specific problem. Try to think of questions you want to ask them as you watch, then pay attention to what questions Lyle and Konrad are asking. Were they what you would have asked? How do their questions help quickly clarify the situation?\n",
        "\n",
        "\n",
        "You will work together as a group to try to come up with cost functions for each example, with hints available along the way. This may be difficult - deep learning in the real world often is! So try your best but don't get discouraged if you don't reach the solution - you'll learn a lot from the process of trying to.\n",
        "\n",
        "You have already seen cost functions (sometimes also called objective functions or loss functions) for deep neural networks - you need one to perform gradient descent and train a neural network.  It turns out what cost function you choose to minimize is incredibly important - it is how you define success of your network after all, so you want to define success in a good way! And cost functions are not one size fits all - you need to carefully choose cost functions according to what you want your neural network to do - as you will seen in the following scenarios.\n",
        "\n",
        "\n"
      ]
    },
    {
      "cell_type": "markdown",
      "metadata": {
        "execution": {},
        "id": "HK-IrTx3ijmk"
      },
      "source": [
        "---\n",
        "# Section 2: Cost function for neurons\n"
      ]
    },
    {
      "cell_type": "code",
      "execution_count": null,
      "metadata": {
        "cellView": "form",
        "execution": {},
        "id": "y-oGEY-_ijml",
        "colab": {
          "base_uri": "https://localhost:8080/",
          "height": 597,
          "referenced_widgets": [
            "feba950c33a84fb19fdb127f947d2f2f",
            "3708609295db4b66b01698f4da24d9fc",
            "00d868ff0ad6446f85d0b6516e6362df",
            "f87147f338ee40efbc1b3027cac83a77",
            "ff876a643ff14893877bf36340ce0c87",
            "7f9b659133ed40028c67b8e41b99b1d5"
          ]
        },
        "outputId": "f87ed1dd-4500-4bc4-eee8-9e6eeef320b2"
      },
      "outputs": [
        {
          "output_type": "display_data",
          "data": {
            "text/plain": [
              "Tab(children=(Output(), Output()), _titles={'0': 'Youtube', '1': 'Bilibili'})"
            ],
            "application/vnd.jupyter.widget-view+json": {
              "version_major": 2,
              "version_minor": 0,
              "model_id": "feba950c33a84fb19fdb127f947d2f2f"
            }
          },
          "metadata": {}
        }
      ],
      "source": [
        "# @title Video 2: Spiking Neuron Predictions Vignette\n",
        "from ipywidgets import widgets\n",
        "\n",
        "out2 = widgets.Output()\n",
        "with out2:\n",
        "  from IPython.display import IFrame\n",
        "  class BiliVideo(IFrame):\n",
        "    def __init__(self, id, page=1, width=400, height=300, **kwargs):\n",
        "      self.id=id\n",
        "      src = \"https://player.bilibili.com/player.html?bvid={0}&page={1}\".format(id, page)\n",
        "      super(BiliVideo, self).__init__(src, width, height, **kwargs)\n",
        "\n",
        "  video = BiliVideo(id=f\"\", width=854, height=480, fs=1)\n",
        "  print(\"Video available at https://www.bilibili.com/video/{0}\".format(video.id))\n",
        "  display(video)\n",
        "\n",
        "out1 = widgets.Output()\n",
        "with out1:\n",
        "  from IPython.display import YouTubeVideo\n",
        "  video = YouTubeVideo(id=f\"CC4gMRrE31g\", width=854, height=480, fs=1, rel=0)\n",
        "  print(\"Video available at https://youtube.com/watch?v=\" + video.id)\n",
        "  display(video)\n",
        "\n",
        "out = widgets.Tab([out1, out2])\n",
        "out.set_title(0, 'Youtube')\n",
        "out.set_title(1, 'Bilibili')\n",
        "\n",
        "# Add event to airtable\n",
        "atform.add_event('Video 2: Spiking Neuron Predictions Vignette')\n",
        "\n",
        "display(out)"
      ]
    },
    {
      "cell_type": "code",
      "execution_count": null,
      "metadata": {
        "cellView": "form",
        "execution": {},
        "id": "47u4m2eIijmm"
      },
      "outputs": [],
      "source": [
        "# @title Video 3: Spiking Neuron Predictions Set-up\n",
        "from ipywidgets import widgets\n",
        "\n",
        "out2 = widgets.Output()\n",
        "with out2:\n",
        "  from IPython.display import IFrame\n",
        "  class BiliVideo(IFrame):\n",
        "    def __init__(self, id, page=1, width=400, height=300, **kwargs):\n",
        "      self.id=id\n",
        "      src = \"https://player.bilibili.com/player.html?bvid={0}&page={1}\".format(id, page)\n",
        "      super(BiliVideo, self).__init__(src, width, height, **kwargs)\n",
        "\n",
        "  video = BiliVideo(id=f\"\", width=854, height=480, fs=1)\n",
        "  print(\"Video available at https://www.bilibili.com/video/{0}\".format(video.id))\n",
        "  display(video)\n",
        "\n",
        "out1 = widgets.Output()\n",
        "with out1:\n",
        "  from IPython.display import YouTubeVideo\n",
        "  video = YouTubeVideo(id=f\"vJ7MixhmDh8\", width=854, height=480, fs=1, rel=0)\n",
        "  print(\"Video available at https://youtube.com/watch?v=\" + video.id)\n",
        "  display(video)\n",
        "\n",
        "out = widgets.Tab([out1, out2])\n",
        "out.set_title(0, 'Youtube')\n",
        "out.set_title(1, 'Bilibili')\n",
        "\n",
        "# Add event to airtable\n",
        "atform.add_event('Video 3: Spiking Neuron Predictions Set-up')\n",
        "\n",
        "display(out)"
      ]
    },
    {
      "cell_type": "markdown",
      "metadata": {
        "execution": {},
        "id": "c7MoWOjpijmm"
      },
      "source": [
        "Konrad, a neuroscientist, wants to predict what neurons in someone's motor cortex are doing while they are riding a motorcycle. \n",
        "\n",
        "Upon discussion with Lyle, it emerges that we have data on 12 parameters of motorcycle riding, including acceleration, angle, braking, degrees of leaning. These inputs are fairly smooth over time, the angle of the motorcycle typically does not change much in 100 ms for example.\n",
        "\n",
        "We also have recorded data on the timing of spikes of $N$ neurons in motor cortex. The underlying firing rate is smooth but every millisecond spikes are random and independent. This means we can assume that the number of spikes in a short interval can be modeled using a Poisson distribution with an underlying firing rate for that interval $\\lambda$. \n",
        "\n",
        "For neuron $i$, the probability of seeing $k_{i}$ spikes in some interval given an underlying firing rate $\\lambda_{i}$ is:\n",
        "\n",
        "\\begin{equation}\n",
        "\\mathcal{f(k_{i}:λ_{i})} = \\mathcal{Pr(X=k_{i})} = \\frac {\\lambda_{i}^{k_{i}}e^{-\\lambda_{i}}}{k_{i}!}\n",
        "\\end{equation}\n",
        "\n",
        "So this poisson distribution may be relevant if we want to, in a way, have a good model for the spiking of neurons."
      ]
    },
    {
      "cell_type": "markdown",
      "metadata": {
        "execution": {},
        "id": "UrgMpdD9ijmn"
      },
      "source": [
        "## Think! 1: Designing a cost function to predict neural activities\n",
        "\n",
        "Given everything you know, how would you design a cost function for a neural network that Konrad is training to predict neural activity given the motorcycle riding parameters? Remember that we are predicting the activity of all $N$ neurons, not just one. Try to write out an equation!\n",
        "\n",
        "\n",
        "Please discuss as a group. If you get stuck, you can uncover the hints below one at a time. Please spend some time discussing before uncovering the next hint though! You are being real deep learning scientists now and the answers won't be easy\n"
      ]
    },
    {
      "cell_type": "code",
      "execution_count": null,
      "metadata": {
        "cellView": "form",
        "execution": {},
        "id": "rrPKwH0Xijmo",
        "colab": {
          "base_uri": "https://localhost:8080/",
          "height": 94,
          "referenced_widgets": [
            "41d21b1a323b4595bcf20da3cda77810",
            "3f1ba187ad7b4eadbe016c4c77391b0f",
            "d844ecb268e645278bb0e4928a789cf5",
            "9872f7a644424c59aba98c744d39c882",
            "9583e88984044effac9855cee7b73e0a",
            "5038b3f921cb45828a71b08eec7630f2"
          ]
        },
        "outputId": "5a86e7d8-ead0-4ba2-ad54-b7f48c44921b"
      },
      "outputs": [
        {
          "output_type": "display_data",
          "data": {
            "text/plain": [
              "Textarea(value='Type your answer here and click on `Submit!`', placeholder='Type something')"
            ],
            "application/vnd.jupyter.widget-view+json": {
              "version_major": 2,
              "version_minor": 0,
              "model_id": "41d21b1a323b4595bcf20da3cda77810"
            }
          },
          "metadata": {}
        },
        {
          "output_type": "display_data",
          "data": {
            "text/plain": [
              "Button(description='Submit!', style=ButtonStyle())"
            ],
            "application/vnd.jupyter.widget-view+json": {
              "version_major": 2,
              "version_minor": 0,
              "model_id": "9872f7a644424c59aba98c744d39c882"
            }
          },
          "metadata": {}
        }
      ],
      "source": [
        "# @title Student Response\n",
        "from ipywidgets import widgets\n",
        "\n",
        "\n",
        "text=widgets.Textarea(\n",
        "   value='Type your answer here and click on `Submit!`',\n",
        "   placeholder='Type something',\n",
        "   description='',\n",
        "   disabled=False\n",
        ")\n",
        "\n",
        "button = widgets.Button(description=\"Submit!\")\n",
        "\n",
        "display(text,button)\n",
        "\n",
        "def on_button_clicked(b):\n",
        "   atform.add_answer('q1', text.value)\n",
        "   print(\"Submission successful!\")\n",
        "\n",
        "\n",
        "button.on_click(on_button_clicked)"
      ]
    },
    {
      "cell_type": "markdown",
      "metadata": {
        "execution": {},
        "id": "3WBiQhNMijmp"
      },
      "source": [
        "<details>\n",
        "<summary> <font color='green'>Click here for hint 1 </font></summary>\n",
        "\n",
        "You get time-stamps for the spikes. You will want to do binning into 50 ms bins. You get $k_{i, t}$ for every neuron $i$ and time bin $t$, the spike count for that neuron in that time bin.  What will the neural network predict?"
      ]
    },
    {
      "cell_type": "markdown",
      "metadata": {
        "execution": {},
        "id": "FI_rBt0Fijmp"
      },
      "source": [
        "<details>\n",
        "<summary> <font color='green'>Click here for hint 2 </font></summary>\n",
        "\n",
        "For each bin you can use your neural network model to predict an estimate of $\\lambda_{i,t}$, the number of spikes for neuron $i$ expected at that time bin $t$. The network should get as input the relevant aspects of the motorcycle riding at the relevant times (and potentially of the previous times).  "
      ]
    },
    {
      "cell_type": "markdown",
      "metadata": {
        "execution": {},
        "id": "dHsybjjkijmq"
      },
      "source": [
        "<details>\n",
        "<summary> <font color='green'>Click here for hint 3 </font></summary>\n",
        "\n",
        "You need an equation relating $\\lambda_{i,t}$ (the model prediction) with $k_{i, t}$ (your data) where changing $\\lambda_{i,t}$  to minimize or maximize the number resulting from this equation results in better predictions.  What do we already know about the relationship between $\\lambda_{i,t}$ and $k_{i, t}$ that helps us here?\n",
        "\n",
        "Once you have that, how do you extend to incorporate all neurons and time bins?"
      ]
    },
    {
      "cell_type": "markdown",
      "metadata": {
        "execution": {},
        "id": "7gD36_-_ijmq"
      },
      "source": [
        "<details>\n",
        "<summary> <font color='green'>Click here for hint 4 </font></summary>\n",
        "\n",
        "We can treat the bins independently as the spikes are random and independent every millisecond. "
      ]
    },
    {
      "cell_type": "markdown",
      "metadata": {
        "execution": {},
        "id": "uJ_E8FPiijmr"
      },
      "source": [
        "<details>\n",
        "<summary> <font color='green'>Click here for the solution </font></summary>\n",
        "\n",
        "\n",
        "First, we will convert our spike timing data to the number of spikes per time bin for time bins of size 50 ms. This gives us $k_{i,t}$ for every neuron $i$ and time bin $t$.\n",
        "\n",
        "We are assuming a Poisson distribution for our spiking. That means that we get the probability of seeing spike count $k_{i, t}$  given underlying firing rate $\\lambda_{i, t}$ using this equation:\n",
        "\n",
        "\n",
        "\\begin{equation}\n",
        "\\mathcal{f(k_{i,t}:\\lambda_{i,t})} = \\mathcal{Pr}(X=k_{i,t}) = \\frac {\\lambda_{i,t}^{k_{i,t}}e^{-\\lambda_{i,t}}}{k_{i,t}!}\n",
        "\\end{equation}\n",
        "\n",
        "That seems a pretty good thing to optimize to make our predictions as good as possible! We want a high probability of seeing the actual spike count we recorded given the neural network prediction of the underlying firing rate. \n",
        "\n",
        "We will make this negative later so we have an equation that we want to minimize rather than maximize, so we can use all our normal tricks for minimization (instead of maximization). First though, let's scale up to include all our neurons and time bins. \n",
        "\n",
        "We can treat each time bin as independent because, while the underlying probability of firing changes slowly, every milisecond spiking is random and independent. From probability, we know that we can compute the probability of a set of independent events (all the spike counts) by multiplying the probabilities of each event. So the probability of seeing all of our data given the neural network predictions is all of our probabilities of $k_{i,t}$ multiplied together:\n",
        "\n",
        "\\begin{align}\n",
        "\\mathcal{Pr}(\\text{all_data}) &= \\prod_{i=1}^{N}\\prod_{t=1}^\\top \\mathcal{Pr}(X=k_{i,t})\\\\\n",
        "&= \\prod_{i=1}^{N}\\prod_{t=1}^\\top \\frac {\\lambda_{i,t}^{k_{i,t}}e^{-\\lambda_{i,t}}}{k_{i,t}!}\n",
        "\\end{align}\n",
        "\n",
        "This is also known as our likelihood!\n",
        "\n",
        "We usually use the log likelihood instead of the likelihood when minimizing or maximizing for numerical computation reasons. W We can convert the above equation to log likelihood:\n",
        "\n",
        "\\begin{align}\n",
        "\\text{log likelihood} &= \\sum_{i=1}^N\\sum_{t=1}^\\top \\text{log}(\\mathcal{Pr}(X=k_{i,t}) \\\\\n",
        "&= \\sum_{i=1}^N\\sum_{t=1}^\\top k_{i,t} \\text{log}(\\lambda_{i,t}) - \\lambda_{i,t} - \\text{log}(k_{i,t}!)\n",
        "\\end{align}\n",
        "\n",
        "And last but not least, we want to make it negative so we can minimize instead of maximize:\n",
        "\n",
        "\\begin{equation}\n",
        "\\text{negative log likelihood} \n",
        "= \\sum_{i=1}^N\\sum_{t=1}^\\top - k_{i,t} \\text{log}(\\lambda_{i,t}) + \\lambda_{i,t} + \\text{log}(k_{i,t}!)\n",
        "\\end{equation}"
      ]
    },
    {
      "cell_type": "code",
      "execution_count": null,
      "metadata": {
        "cellView": "form",
        "execution": {},
        "id": "w79uObdTijms",
        "colab": {
          "base_uri": "https://localhost:8080/",
          "height": 597,
          "referenced_widgets": [
            "ceac0e7c4f27419491284d798a9face2",
            "0aa197309fb0415a8e92743a1c9d6499",
            "647046b7304c4e47984c0abfa34aa4d5",
            "102ddaf22b9641e69d4687ee2c04d7e0",
            "d359e5b0872347f690c0092a0196a42e",
            "a343c947027742b5a700d8478c135291"
          ]
        },
        "outputId": "f3807a39-17d4-416d-e474-7bbe5190e066"
      },
      "outputs": [
        {
          "output_type": "display_data",
          "data": {
            "text/plain": [
              "Tab(children=(Output(), Output()), _titles={'0': 'Youtube', '1': 'Bilibili'})"
            ],
            "application/vnd.jupyter.widget-view+json": {
              "version_major": 2,
              "version_minor": 0,
              "model_id": "ceac0e7c4f27419491284d798a9face2"
            }
          },
          "metadata": {}
        }
      ],
      "source": [
        "# @title Video 4: Spiking Neurons Wrap-up\n",
        "from ipywidgets import widgets\n",
        "\n",
        "out2 = widgets.Output()\n",
        "with out2:\n",
        "  from IPython.display import IFrame\n",
        "  class BiliVideo(IFrame):\n",
        "    def __init__(self, id, page=1, width=400, height=300, **kwargs):\n",
        "      self.id=id\n",
        "      src = \"https://player.bilibili.com/player.html?bvid={0}&page={1}\".format(id, page)\n",
        "      super(BiliVideo, self).__init__(src, width, height, **kwargs)\n",
        "\n",
        "  video = BiliVideo(id=f\"\", width=854, height=480, fs=1)\n",
        "  print(\"Video available at https://www.bilibili.com/video/{0}\".format(video.id))\n",
        "  display(video)\n",
        "\n",
        "out1 = widgets.Output()\n",
        "with out1:\n",
        "  from IPython.display import YouTubeVideo\n",
        "  video = YouTubeVideo(id=f\"fb6A03B2U5g\", width=854, height=480, fs=1, rel=0)\n",
        "  print(\"Video available at https://youtube.com/watch?v=\" + video.id)\n",
        "  display(video)\n",
        "\n",
        "out = widgets.Tab([out1, out2])\n",
        "out.set_title(0, 'Youtube')\n",
        "out.set_title(1, 'Bilibili')\n",
        "\n",
        "# Add event to airtable\n",
        "atform.add_event('Video 4: Spiking Neurons Wrap-up')\n",
        "\n",
        "display(out)"
      ]
    },
    {
      "cell_type": "markdown",
      "metadata": {
        "execution": {},
        "id": "lJk0ZkCwijms"
      },
      "source": [
        "Check out the papers mentioned in the above video:\n",
        "\n",
        "- [Fast inference in generalized linear models via expected log likelihood](https://link.springer.com/article/10.1007/s10827-013-0466-4)\n",
        "\n",
        "- [Machine Learning for Neural Decoding](https://www.eneuro.org/content/7/4/ENEURO.0506-19.2020)"
      ]
    },
    {
      "cell_type": "markdown",
      "metadata": {
        "execution": {},
        "id": "jiJcSQ3Oijmt"
      },
      "source": [
        "## (Bonus) Think!: Non-Poisson neurons\n",
        "\n",
        "If you have time discuss the following. The spiking distributions don't seem quite Poisson.  Find a good replacement for your cost function."
      ]
    },
    {
      "cell_type": "markdown",
      "metadata": {
        "execution": {},
        "id": "u0g9NSLXijmt"
      },
      "source": [
        "---\n",
        "# Section 3: How can an ANN know its uncertainty"
      ]
    },
    {
      "cell_type": "code",
      "execution_count": null,
      "metadata": {
        "cellView": "form",
        "execution": {},
        "id": "nayOxMG7ijmt",
        "colab": {
          "base_uri": "https://localhost:8080/",
          "height": 597,
          "referenced_widgets": [
            "853344145e7646c88375a1192f4c2af5",
            "1831628f42fe41f2a66da7abbb53915e",
            "9a5fab1572f244f3b2bd86387b892f9d",
            "ea2350e1e75148429cfb54b521769090",
            "78fa22cca1014e66b9108f13747f29ef",
            "092f3eaf9d5941fa92ec1a9d3caf5b8f"
          ]
        },
        "outputId": "1b41e4b4-e5eb-4989-9fba-d1b6c037e9cf"
      },
      "outputs": [
        {
          "output_type": "display_data",
          "data": {
            "text/plain": [
              "Tab(children=(Output(), Output()), _titles={'0': 'Youtube', '1': 'Bilibili'})"
            ],
            "application/vnd.jupyter.widget-view+json": {
              "version_major": 2,
              "version_minor": 0,
              "model_id": "853344145e7646c88375a1192f4c2af5"
            }
          },
          "metadata": {}
        }
      ],
      "source": [
        "# @title Video 5: ANN Uncertainty Vignette\n",
        "from ipywidgets import widgets\n",
        "\n",
        "out2 = widgets.Output()\n",
        "with out2:\n",
        "  from IPython.display import IFrame\n",
        "  class BiliVideo(IFrame):\n",
        "    def __init__(self, id, page=1, width=400, height=300, **kwargs):\n",
        "      self.id=id\n",
        "      src = \"https://player.bilibili.com/player.html?bvid={0}&page={1}\".format(id, page)\n",
        "      super(BiliVideo, self).__init__(src, width, height, **kwargs)\n",
        "\n",
        "  video = BiliVideo(id=f\"\", width=854, height=480, fs=1)\n",
        "  print(\"Video available at https://www.bilibili.com/video/{0}\".format(video.id))\n",
        "  display(video)\n",
        "\n",
        "out1 = widgets.Output()\n",
        "with out1:\n",
        "  from IPython.display import YouTubeVideo\n",
        "  video = YouTubeVideo(id=f\"b2N2OJ2u4AM\", width=854, height=480, fs=1, rel=0)\n",
        "  print(\"Video available at https://youtube.com/watch?v=\" + video.id)\n",
        "  display(video)\n",
        "\n",
        "out = widgets.Tab([out1, out2])\n",
        "out.set_title(0, 'Youtube')\n",
        "out.set_title(1, 'Bilibili')\n",
        "\n",
        "# Add event to airtable\n",
        "atform.add_event('Video 5: ANN Uncertainty Vignette')\n",
        "\n",
        "display(out)"
      ]
    },
    {
      "cell_type": "code",
      "execution_count": null,
      "metadata": {
        "cellView": "form",
        "execution": {},
        "id": "8MkuKV0Sijmu"
      },
      "outputs": [],
      "source": [
        "# @title Video 6: ANN Uncertainty Set-up\n",
        "from ipywidgets import widgets\n",
        "\n",
        "out2 = widgets.Output()\n",
        "with out2:\n",
        "  from IPython.display import IFrame\n",
        "  class BiliVideo(IFrame):\n",
        "    def __init__(self, id, page=1, width=400, height=300, **kwargs):\n",
        "      self.id=id\n",
        "      src = \"https://player.bilibili.com/player.html?bvid={0}&page={1}\".format(id, page)\n",
        "      super(BiliVideo, self).__init__(src, width, height, **kwargs)\n",
        "\n",
        "  video = BiliVideo(id=f\"\", width=854, height=480, fs=1)\n",
        "  print(\"Video available at https://www.bilibili.com/video/{0}\".format(video.id))\n",
        "  display(video)\n",
        "\n",
        "out1 = widgets.Output()\n",
        "with out1:\n",
        "  from IPython.display import YouTubeVideo\n",
        "  video = YouTubeVideo(id=f\"Reh-gNiOwkQ\", width=854, height=480, fs=1, rel=0)\n",
        "  print(\"Video available at https://youtube.com/watch?v=\" + video.id)\n",
        "  display(video)\n",
        "\n",
        "out = widgets.Tab([out1, out2])\n",
        "out.set_title(0, 'Youtube')\n",
        "out.set_title(1, 'Bilibili')\n",
        "\n",
        "# Add event to airtable\n",
        "atform.add_event('Video 6: ANN Uncertainty Set-up')\n",
        "\n",
        "display(out)"
      ]
    },
    {
      "cell_type": "markdown",
      "metadata": {
        "execution": {},
        "id": "QASehLeQijmu"
      },
      "source": [
        "Lyle wants to build an artificial neural network that has a measure of its own uncertainty about it's predictions. He wants the neural network to give a prediction/estimate and an uncertainty, or standard deviation, measurement on it.  \n",
        "\n",
        "Let's say Lyle wants to estimate the location of an atom in a chemical molecule based on various inputs. He wants to have the estimate of the location and an estimate of the variance. We don't train neural networks on one data point at a time though - he wants a cost function that takes in N data points (input and atom location pairings).\n",
        "\n",
        "We think we may be able to use a Gaussian distribution to help Lyle here:\n",
        "\n",
        "\\begin{equation}\n",
        "g(x) = \\frac{1}{\\sigma\\sqrt{2\\pi}} \\text{exp} \\left( -\\frac{1}{2}\\frac{(x-\\mu)^2}{\\sigma^2} \\right)\n",
        "\\end{equation}"
      ]
    },
    {
      "cell_type": "markdown",
      "metadata": {
        "execution": {},
        "id": "ZY3T1h_tijmu"
      },
      "source": [
        "## Think! 2: Designing a cost function so we measure uncertainty\n",
        "\n",
        "Given everything you know, how would you design a cost function for a neural network that Lyle is training so that he can get the estimate and the uncertainty of the estimate? Try to write out an equation!\n",
        "\n",
        "Please discuss as a group. If you get stuck, you can uncover the hints below one at a time. Please spend some time discussing before uncovering the next hint, though! You are being real deep learning scientists now, and the answers won't be easy."
      ]
    },
    {
      "cell_type": "code",
      "execution_count": null,
      "metadata": {
        "cellView": "form",
        "execution": {},
        "id": "r0xNGoO5ijmu"
      },
      "outputs": [],
      "source": [
        "# @title Student Response\n",
        "from ipywidgets import widgets\n",
        "\n",
        "\n",
        "text=widgets.Textarea(\n",
        "   value='Type your answer here and click on `Submit!`',\n",
        "   placeholder='Type something',\n",
        "   description='',\n",
        "   disabled=False\n",
        ")\n",
        "\n",
        "button = widgets.Button(description=\"Submit!\")\n",
        "\n",
        "display(text,button)\n",
        "\n",
        "def on_button_clicked(b):\n",
        "   atform.add_answer('q2', text.value)\n",
        "   print(\"Submission successful!\")\n",
        "\n",
        "\n",
        "button.on_click(on_button_clicked)"
      ]
    },
    {
      "cell_type": "markdown",
      "metadata": {
        "execution": {},
        "id": "J8PhmP4nijmv"
      },
      "source": [
        "<details>\n",
        "<summary> <font color='green'>Click here for hint 1 </font></summary>\n",
        "\n",
        "Look at the Gaussian equation. What is the true location? Where is there the estimate of location? Where is there the uncertainty? \n",
        "\n",
        "What do you want the neural network to predict for one data point (recorded location) given the inputs?"
      ]
    },
    {
      "cell_type": "markdown",
      "metadata": {
        "execution": {},
        "id": "42a9yDf_ijmv"
      },
      "source": [
        "<details>\n",
        "<summary> <font color='green'>Click here for hint 2 </font></summary>\n",
        "\n",
        "What did you learn from working through Section 2 that you can use here?"
      ]
    },
    {
      "cell_type": "markdown",
      "metadata": {
        "execution": {},
        "id": "niIf6rMKijmv"
      },
      "source": [
        "<details>\n",
        "<summary> <font color='green'>Click here for hint 3 </font></summary>\n",
        "\n",
        "In section 2, you learned that you want to go from probabilities to negative log likelihoods to form cost functions."
      ]
    },
    {
      "cell_type": "markdown",
      "metadata": {
        "execution": {},
        "id": "Oz28oJ4Rijmv"
      },
      "source": [
        "<details>\n",
        "<summary> <font color='green'>Click here for the solution </font></summary>\n",
        "\n",
        "For a given set of inputs, we want the neural network to predict the location of the atom and the uncertainty of that estimate. Standard deviation is a great measure of uncertainty so we can predict the mean and standard deviation of the location (instead of just the mean as is more common).\n",
        "\n",
        "So how do we a design a cost function that involves the mean and standard deviation?  We can assume a Gaussian distribution over the location. The neural network can predict the mean of that Gaussian (that's the estimate of the location) and the standard deviation of that Gaussian (that's the uncertainty measure) for a given set of inputs.\n",
        "\n",
        "Now that we've got that figured out, we can take a very similar approach to what we did in Section 2 with spiking neurons. For a given data point $i$, the neural network predicts the mean ($\\mu_i$) and standard deviation ($\\sigma_i$) of the location given the inputs. We can then compute the probability of seeing the actual recorded location ($x_i$) given these predictions:\n",
        "\n",
        "\\begin{equation}\n",
        "g(x) = \\frac{1}{\\sigma\\sqrt{2\\pi}} \\text{exp}\\left( -\\frac{1}{2}\\frac{(x_i-\\mu_i)^2}{\\sigma_i^2} \\right)\n",
        "\\end{equation}\n",
        "\n",
        "The location of the atom is independent in each data point so we can get the overall likelihood by multiplying the probabilities for the individual data points.\n",
        "\\begin{equation}\n",
        "\\text{likelihood} = \\prod_{i=1}^N\\frac{1}{\\sigma\\sqrt{2\\pi}} \\text{exp}\\left( -\\frac{1}{2}\\frac{(x_i-\\mu_i)^2}{\\sigma_i^2} \\right)\n",
        "\\end{equation}\n",
        "\n",
        "\n",
        "And, as before, we want to take the log of this for numerical reasons and convert to negative log likelihood:\n",
        "\n",
        "\\begin{equation}\n",
        "\\text{negative log likelihood} = \\sum_{i=1}^N \\text{log} \\left( \\frac{1}{\\sigma\\sqrt{2\\pi}} \\text{exp}\\left( -\\frac{1}{2}\\frac{(x_i-\\mu_i)^2}{\\sigma_i^2} \\right) \\right) \n",
        "\\end{equation}\n",
        "\n",
        "Changing the parameters of the neural network so it predicts $\\mu_i$ and $\\sigma_i$ that minimize this equation will give us (hopefully fairly accurate) predictions of the location and the network uncertainty about the location!"
      ]
    },
    {
      "cell_type": "code",
      "execution_count": null,
      "metadata": {
        "cellView": "form",
        "execution": {},
        "id": "EcBaM7F1ijmw"
      },
      "outputs": [],
      "source": [
        "# @title Video 7: ANN Uncertainty Wrap-up\n",
        "from ipywidgets import widgets\n",
        "\n",
        "out2 = widgets.Output()\n",
        "with out2:\n",
        "  from IPython.display import IFrame\n",
        "  class BiliVideo(IFrame):\n",
        "    def __init__(self, id, page=1, width=400, height=300, **kwargs):\n",
        "      self.id=id\n",
        "      src = \"https://player.bilibili.com/player.html?bvid={0}&page={1}\".format(id, page)\n",
        "      super(BiliVideo, self).__init__(src, width, height, **kwargs)\n",
        "\n",
        "  video = BiliVideo(id=f\"\", width=854, height=480, fs=1)\n",
        "  print(\"Video available at https://www.bilibili.com/video/{0}\".format(video.id))\n",
        "  display(video)\n",
        "\n",
        "out1 = widgets.Output()\n",
        "with out1:\n",
        "  from IPython.display import YouTubeVideo\n",
        "  video = YouTubeVideo(id=f\"QBKAFRaC8SY\", width=854, height=480, fs=1, rel=0)\n",
        "  print(\"Video available at https://youtube.com/watch?v=\" + video.id)\n",
        "  display(video)\n",
        "\n",
        "out = widgets.Tab([out1, out2])\n",
        "out.set_title(0, 'Youtube')\n",
        "out.set_title(1, 'Bilibili')\n",
        "\n",
        "# Add event to airtable\n",
        "atform.add_event('Video 7: ANN Uncertainty Wrap-up')\n",
        "\n",
        "display(out)"
      ]
    },
    {
      "cell_type": "markdown",
      "metadata": {
        "execution": {},
        "id": "OFi1T_ibijmw"
      },
      "source": [
        "Check out the papers mentioned in the above video:\n",
        "\n",
        "- [Rapid prediction of NMR spectral properties with quantified uncertainty](https://jcheminf.biomedcentral.com/articles/10.1186/s13321-019-0374-3)\n",
        "\n",
        "- [Deep imitation learning for molecular inverse problems](https://papers.nips.cc/paper/2019/file/b0bef4c9a6e50d43880191492d4fc827-Paper.pdf)"
      ]
    },
    {
      "cell_type": "markdown",
      "metadata": {
        "execution": {},
        "id": "vhjj5f9Kijmw"
      },
      "source": [
        "## (Bonus) Think!: Negative standard deviations\n",
        "\n",
        "If the standard deviation is negative, the negative log-likelihood will fail as you'd take the log of a negative number. What should we do to ensure we don't run into this while training our neural network?"
      ]
    },
    {
      "cell_type": "markdown",
      "metadata": {
        "execution": {},
        "id": "Lu1Bi0xKijmw"
      },
      "source": [
        "---\n",
        "# Section 4: Embedding faces"
      ]
    },
    {
      "cell_type": "code",
      "execution_count": null,
      "metadata": {
        "cellView": "form",
        "execution": {},
        "id": "BQrOYleIijmx"
      },
      "outputs": [],
      "source": [
        "# @title Video 8: Embedding Faces Vignette\n",
        "from ipywidgets import widgets\n",
        "\n",
        "out2 = widgets.Output()\n",
        "with out2:\n",
        "  from IPython.display import IFrame\n",
        "  class BiliVideo(IFrame):\n",
        "    def __init__(self, id, page=1, width=400, height=300, **kwargs):\n",
        "      self.id=id\n",
        "      src = \"https://player.bilibili.com/player.html?bvid={0}&page={1}\".format(id, page)\n",
        "      super(BiliVideo, self).__init__(src, width, height, **kwargs)\n",
        "\n",
        "  video = BiliVideo(id=f\"\", width=854, height=480, fs=1)\n",
        "  print(\"Video available at https://www.bilibili.com/video/{0}\".format(video.id))\n",
        "  display(video)\n",
        "\n",
        "out1 = widgets.Output()\n",
        "with out1:\n",
        "  from IPython.display import YouTubeVideo\n",
        "  video = YouTubeVideo(id=f\"tF0iYBAnyrI\", width=854, height=480, fs=1, rel=0)\n",
        "  print(\"Video available at https://youtube.com/watch?v=\" + video.id)\n",
        "  display(video)\n",
        "\n",
        "out = widgets.Tab([out1, out2])\n",
        "out.set_title(0, 'Youtube')\n",
        "out.set_title(1, 'Bilibili')\n",
        "\n",
        "# Add event to airtable\n",
        "atform.add_event('Video 8: Embedding Faces Vignette')\n",
        "\n",
        "display(out)"
      ]
    },
    {
      "cell_type": "code",
      "execution_count": null,
      "metadata": {
        "cellView": "form",
        "execution": {},
        "id": "WwEVv-omijmx"
      },
      "outputs": [],
      "source": [
        "# @title Video 9: Embedding Faces Set-up\n",
        "from ipywidgets import widgets\n",
        "\n",
        "out2 = widgets.Output()\n",
        "with out2:\n",
        "  from IPython.display import IFrame\n",
        "  class BiliVideo(IFrame):\n",
        "    def __init__(self, id, page=1, width=400, height=300, **kwargs):\n",
        "      self.id=id\n",
        "      src = \"https://player.bilibili.com/player.html?bvid={0}&page={1}\".format(id, page)\n",
        "      super(BiliVideo, self).__init__(src, width, height, **kwargs)\n",
        "\n",
        "  video = BiliVideo(id=f\"\", width=854, height=480, fs=1)\n",
        "  print(\"Video available at https://www.bilibili.com/video/{0}\".format(video.id))\n",
        "  display(video)\n",
        "\n",
        "out1 = widgets.Output()\n",
        "with out1:\n",
        "  from IPython.display import YouTubeVideo\n",
        "  video = YouTubeVideo(id=f\"JrzicfOxqP0\", width=854, height=480, fs=1, rel=0)\n",
        "  print(\"Video available at https://youtube.com/watch?v=\" + video.id)\n",
        "  display(video)\n",
        "\n",
        "out = widgets.Tab([out1, out2])\n",
        "out.set_title(0, 'Youtube')\n",
        "out.set_title(1, 'Bilibili')\n",
        "\n",
        "# Add event to airtable\n",
        "atform.add_event('Video 9: Embedding Faces Set-up')\n",
        "\n",
        "display(out)"
      ]
    },
    {
      "cell_type": "markdown",
      "metadata": {
        "execution": {},
        "id": "n5iGXhKrijmx"
      },
      "source": [
        "Konrad needs help recognizing faces. He wants to build a network that embeds photos of faces so that photos of the same person are nearby in the embedding space and photos of different people are far in the embedding space. We can't just use pixel space because the pixels will be very different between a photo of someone straight on vs. from their side! \n",
        "\n",
        "We will use a neural network to go from the pixels of each image to an embedding space. Let's say you have a convolutional neural network with m units in the last layer. If you feed a face photo $i$ through the CNN, the activities of the units in the last layer form an $m$ dimensional vector $\\bar{y}_i$ - this is an embedding of that face photo in $m$ dimensional space. \n",
        "\n",
        "We think we might be able to incorporate Euclidean distance to help us here. The Euclidean distance between two vectors is:\n",
        "\n",
        "\\begin{equation}\n",
        "d(\\bar{y}_i, \\bar{y}_j) = \\sqrt{\\sum_{c=1}^m(\\bar{y}_{i_c} - \\bar{y}_{j_c})^2}\n",
        "\\end{equation}\n",
        "\n",
        "<br>\n",
        "\n",
        "**Note:** a minor remark here, there is an indexing error in the video where it says $i$ instead of $j$."
      ]
    },
    {
      "cell_type": "markdown",
      "metadata": {
        "execution": {},
        "id": "ZO5db6SGijmx"
      },
      "source": [
        "## Think! 3: Designing a cost function for face embedding\n",
        "\n",
        "Given everything you know, how would you design a cost function for a neural network that Konrad is training so that he can get a helpful embedding of faces? Try to write out an equation!\n",
        "\n",
        "Please discuss as a group. If you get stuck, you can uncover the hints below one at a time. Please spend some time discussing before uncovering the next hint, though! You are being real deep learning scientists now, and the answers won't be easy."
      ]
    },
    {
      "cell_type": "code",
      "execution_count": null,
      "metadata": {
        "cellView": "form",
        "execution": {},
        "id": "XdWkJ5JLijmy"
      },
      "outputs": [],
      "source": [
        "# @title Student Response\n",
        "from ipywidgets import widgets\n",
        "\n",
        "\n",
        "text=widgets.Textarea(\n",
        "   value='Type your answer here and click on `Submit!`',\n",
        "   placeholder='Type something',\n",
        "   description='',\n",
        "   disabled=False\n",
        ")\n",
        "\n",
        "button = widgets.Button(description=\"Submit!\")\n",
        "\n",
        "display(text,button)\n",
        "\n",
        "def on_button_clicked(b):\n",
        "   atform.add_answer('q3', text.value)\n",
        "   print(\"Submission successful!\")\n",
        "\n",
        "\n",
        "button.on_click(on_button_clicked)"
      ]
    },
    {
      "cell_type": "markdown",
      "metadata": {
        "execution": {},
        "id": "1gNzLRYxijmy"
      },
      "source": [
        "<details>\n",
        "<summary> <font color='green'>Click here for hint 1 </font></summary>\n",
        "\n",
        "How do we want to deal with the same faces? Can we just build a cost function based on similar faces? What would happen?"
      ]
    },
    {
      "cell_type": "markdown",
      "metadata": {
        "execution": {},
        "id": "TwbXXnjUijmy"
      },
      "source": [
        "<details>\n",
        "<summary> <font color='green'>Click here for hint 2 </font></summary>\n",
        "\n",
        "You need to also include different faces. How do you want to deal with different faces? "
      ]
    },
    {
      "cell_type": "markdown",
      "metadata": {
        "execution": {},
        "id": "iTojZpJbijmy"
      },
      "source": [
        "<details>\n",
        "<summary> <font color='green'>Click here for hint 3 </font></summary>\n",
        "\n",
        "Similar faces should have low Euclidean distance between their embeddings. Different faces should have high Euclidean distance between their embeddings. Can we phrase this with 3 faces?"
      ]
    },
    {
      "cell_type": "markdown",
      "metadata": {
        "execution": {},
        "id": "1uOq_HSmijmz"
      },
      "source": [
        "<details>\n",
        "<summary> <font color='green'>Click here for the solution </font></summary>\n",
        "\n",
        "We want the same faces to have similar embeddings. Let's say we have one photo of Lyle $a$ and another photo of Lyle $p$. We want the embeddings of those photos to be very similar: we want the Euclidean distance between $\\bar{y}_a$ and $\\bar{y}_p$ (the activitys of the last layer of the CNN when photo $a$ and $p$ are fed through) to be small. \n",
        "\n",
        "So one possible cost function is:\n",
        "\n",
        "\\begin{equation}\n",
        "\\text{Cost function} = d(\\bar{y}_a, \\bar{y}_p)\n",
        "\\end{equation}\n",
        "\n",
        "Imagine if we just feed in pairs of the same face and minimize that though. There would be no motivation to ever have different embeddings, we would be only minimizing the distance between embeddings. If the CNN was smart, it would just have the same embedding for every single photo - then the cost function would equal 0!\n",
        "\n",
        "This is clearly not what we want. We want to motivate the CNN to have similar embeddings only when the faces are the same. This means we need to also train it to maximize distance when the faces are different.\n",
        "\n",
        "We could choose another two photos of different people and maximize that distance but then there's no relation to the embeddings we've already established of the two photos of Lyle.  Instead, we will add one more photo to the mix: a photo of Konrad $n$. We want the distance of this photo to be far from our original photos of Lyle $a$ and $p$.  So we want the distance between $a$ and $p$ to be small and the distance between $a$ and $n$ for example to be large:\n",
        "\n",
        "\\begin{equation}\n",
        "\\text{Cost function} = d(\\bar{y}_a, \\bar{y}_p) - d(\\bar{y}_a, \\bar{y}_n)\n",
        "\\end{equation}\n",
        "\n",
        "We could compare $n$ to both $a$ and $p$:\n",
        "\\begin{equation}\n",
        "\\text{Cost function} = d(\\bar{y}_a, \\bar{y}_p) - d(\\bar{y}_a, \\bar{y}_n) - d(\\bar{y}_p, \\bar{y}_n)\n",
        "\\end{equation}\n",
        "\n",
        "But then the cost function is a bit unbalanced, there are two dissimiliarty terms and they might dominate (so achieving the similarity is less important). So let's go with just including one dissimilarity term.\n",
        "\n",
        "This is an established cost function - triplet loss! We chose the subscripts $a$, $p$, and $n$ for a reason: we have an anchor image, a positive image (the same person's face as the anchor) and a negative image (a different person's face as the anchor). We can then sum over N data points where each data point is a set of three images: \n",
        "\n",
        "\\begin{equation}\n",
        "\\text{Cost function} = \\sum_{i=1}^N [d(\\bar{y}_{a, i}, \\bar{y}_{p, i}) - d(\\bar{y}_{a, i}, \\bar{y}_{n, i})]\n",
        "\\end{equation}\n",
        "\n",
        "There's one little addition in triplet loss. Instead of just using the above cost function, researchers add a constant $\\alpha$ and then make the cost function 0 if it becomes negative. Why do you think they do this?\n",
        "\n",
        "\\begin{equation}\n",
        "\\text{Cost function} = \\text{max} \\left( \\sum_{i=1}^N \\left[ d(\\bar{y}_{a, i}, \\bar{y}_{p, i}) - d(\\bar{y}_{a, i}, \\bar{y}_{n, i}) + \\alpha \\right], 0 \\right)\n",
        "\\end{equation}"
      ]
    },
    {
      "cell_type": "code",
      "execution_count": null,
      "metadata": {
        "cellView": "form",
        "execution": {},
        "id": "0qzn6-t1ijmz"
      },
      "outputs": [],
      "source": [
        "# @title Video 10: Embedding Faces Wrap-up\n",
        "from ipywidgets import widgets\n",
        "\n",
        "out2 = widgets.Output()\n",
        "with out2:\n",
        "  from IPython.display import IFrame\n",
        "  class BiliVideo(IFrame):\n",
        "    def __init__(self, id, page=1, width=400, height=300, **kwargs):\n",
        "      self.id=id\n",
        "      src = \"https://player.bilibili.com/player.html?bvid={0}&page={1}\".format(id, page)\n",
        "      super(BiliVideo, self).__init__(src, width, height, **kwargs)\n",
        "\n",
        "  video = BiliVideo(id=f\"\", width=854, height=480, fs=1)\n",
        "  print(\"Video available at https://www.bilibili.com/video/{0}\".format(video.id))\n",
        "  display(video)\n",
        "\n",
        "out1 = widgets.Output()\n",
        "with out1:\n",
        "  from IPython.display import YouTubeVideo\n",
        "  video = YouTubeVideo(id=f\"mVk1W7x6Nps\", width=854, height=480, fs=1, rel=0)\n",
        "  print(\"Video available at https://youtube.com/watch?v=\" + video.id)\n",
        "  display(video)\n",
        "\n",
        "out = widgets.Tab([out1, out2])\n",
        "out.set_title(0, 'Youtube')\n",
        "out.set_title(1, 'Bilibili')\n",
        "\n",
        "# Add event to airtable\n",
        "atform.add_event('Video 10: Embedding Faces Wrap-up')\n",
        "\n",
        "display(out)"
      ]
    },
    {
      "cell_type": "markdown",
      "metadata": {
        "execution": {},
        "id": "1zsTpKgaijmz"
      },
      "source": [
        "Check out the papers mentioned in the above video:\n",
        "\n",
        "- [Large Scale Online Learning of Image Similarity Through Ranking](https://www.jmlr.org/papers/volume11/chechik10a/chechik10a.pdf)\n"
      ]
    },
    {
      "cell_type": "markdown",
      "metadata": {
        "execution": {},
        "id": "lFDL54hRijmz"
      },
      "source": [
        "---\n",
        "# Summary\n",
        "\n",
        "Today we have seen a range of different cost functions. So we want to dwell a bit on what we want people to take away from these exercises. We have seen several cost functions:\n",
        "\n",
        "* Log Poisson likelihood for neurons\n",
        "* Uncertainty as a modeled entity\n",
        "* Face embeddings\n",
        "\n",
        "What we saw in all these cases is that these cost functions emerge from insights into the problem domain. We saw how one needs to, in a way, pull these insights out of the domain experts. And how, at the same time, the cost functions come from computational insights. Coming up with the proper cost functions requires listening to what domain experts say and probing the things they may mean but not say."
      ]
    },
    {
      "cell_type": "code",
      "execution_count": null,
      "metadata": {
        "cellView": "form",
        "execution": {},
        "id": "ICC9YSPqijm0",
        "colab": {
          "base_uri": "https://localhost:8080/",
          "height": 158
        },
        "outputId": "7942871d-76c1-4856-ae68-daa991883f31"
      },
      "outputs": [
        {
          "output_type": "execute_result",
          "data": {
            "text/plain": [
              "<IPython.core.display.HTML object>"
            ],
            "text/html": [
              "\n",
              " <div>\n",
              "   <a href= \"https://portal.neuromatchacademy.org/api/redirect/to/3b139c3a-b116-4963-82bf-aeb5a73246eb?data=eyJmb3JtX2lkIjogImFwcG43VmRQUnNlU29NWEVHIiwgInRhYmxlX25hbWUiOiAiVzJEMl9UMiIsICJhbnN3ZXJzIjoge30sICJldmVudHMiOiBbeyJldmVudCI6ICJpbml0IiwgInRzIjogMTY1ODIxODg0Ny40NDU1MDZ9LCB7ImV2ZW50IjogIlZpZGVvIDE6IEludHJvIHRvIERMIFRoaW5raW5nIiwgInRzIjogMTY1ODIxODg0Ny41NjEzMDIyfSwgeyJldmVudCI6ICJWaWRlbyAyOiBTcGlraW5nIE5ldXJvbiBQcmVkaWN0aW9ucyBWaWduZXR0ZSIsICJ0cyI6IDE2NTgyMTg4NDcuNjY0MTExMX0sIHsiZXZlbnQiOiAidXJsIGdlbmVyYXRlZCIsICJ0cyI6IDE2NTgyMjA0MjUuOTk4ODA1fV19\" target=\"_blank\">\n",
              "   <img src=\"https://github.com/NeuromatchAcademy/course-content-dl/blob/main/tutorials/static/SurveyButton.png?raw=1\"\n",
              " alt=\"button link end of day Survey\" style=\"width:410px\"></a>\n",
              "   </div>"
            ]
          },
          "metadata": {},
          "execution_count": 5
        }
      ],
      "source": [
        "# @title Airtable Submission Link\n",
        "from IPython import display as IPydisplay\n",
        "IPydisplay.HTML(\n",
        "   f\"\"\"\n",
        " <div>\n",
        "   <a href= \"{atform.url()}\" target=\"_blank\">\n",
        "   <img src=\"https://github.com/NeuromatchAcademy/course-content-dl/blob/main/tutorials/static/SurveyButton.png?raw=1\"\n",
        " alt=\"button link end of day Survey\" style=\"width:410px\"></a>\n",
        "   </div>\"\"\" )"
      ]
    }
  ],
  "metadata": {
    "colab": {
      "collapsed_sections": [],
      "provenance": [],
      "toc_visible": true,
      "include_colab_link": true
    },
    "kernel": {
      "display_name": "Python 3",
      "language": "python",
      "name": "python3"
    },
    "kernelspec": {
      "display_name": "Python 3",
      "name": "python3"
    },
    "language_info": {
      "name": "python"
    },
    "widgets": {
      "application/vnd.jupyter.widget-state+json": {
        "858f7a3a36bd4ab2ac95675f93eb89a6": {
          "model_module": "@jupyter-widgets/controls",
          "model_name": "TabModel",
          "model_module_version": "1.5.0",
          "state": {
            "_dom_classes": [],
            "_model_module": "@jupyter-widgets/controls",
            "_model_module_version": "1.5.0",
            "_model_name": "TabModel",
            "_titles": {
              "0": "Youtube",
              "1": "Bilibili"
            },
            "_view_count": null,
            "_view_module": "@jupyter-widgets/controls",
            "_view_module_version": "1.5.0",
            "_view_name": "TabView",
            "box_style": "",
            "children": [
              "IPY_MODEL_825ebf7235b9414f87447b0412cac6fa",
              "IPY_MODEL_c48d8d19b91f40848511efb36878e922"
            ],
            "layout": "IPY_MODEL_412204e89fc54c78ae2ea5fde2303e5c",
            "selected_index": 0
          }
        },
        "825ebf7235b9414f87447b0412cac6fa": {
          "model_module": "@jupyter-widgets/output",
          "model_name": "OutputModel",
          "model_module_version": "1.0.0",
          "state": {
            "_dom_classes": [],
            "_model_module": "@jupyter-widgets/output",
            "_model_module_version": "1.0.0",
            "_model_name": "OutputModel",
            "_view_count": null,
            "_view_module": "@jupyter-widgets/output",
            "_view_module_version": "1.0.0",
            "_view_name": "OutputView",
            "layout": "IPY_MODEL_216daaaee223414ab28c6b6432b66864",
            "msg_id": "",
            "outputs": [
              {
                "output_type": "stream",
                "name": "stdout",
                "text": [
                  "Video available at https://youtube.com/watch?v=iEqd0MY5pxI\n"
                ]
              },
              {
                "output_type": "display_data",
                "data": {
                  "text/plain": "<IPython.lib.display.YouTubeVideo at 0x7f1c373614d0>",
                  "text/html": "\n        <iframe\n            width=\"854\"\n            height=\"480\"\n            src=\"https://www.youtube.com/embed/iEqd0MY5pxI?fs=1&rel=0\"\n            frameborder=\"0\"\n            allowfullscreen\n        ></iframe>\n        ",
                  "image/jpeg": "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\n"
                },
                "metadata": {}
              }
            ]
          }
        },
        "c48d8d19b91f40848511efb36878e922": {
          "model_module": "@jupyter-widgets/output",
          "model_name": "OutputModel",
          "model_module_version": "1.0.0",
          "state": {
            "_dom_classes": [],
            "_model_module": "@jupyter-widgets/output",
            "_model_module_version": "1.0.0",
            "_model_name": "OutputModel",
            "_view_count": null,
            "_view_module": "@jupyter-widgets/output",
            "_view_module_version": "1.0.0",
            "_view_name": "OutputView",
            "layout": "IPY_MODEL_95adf3dd1e1142479d8ecb99b6df1858",
            "msg_id": "",
            "outputs": [
              {
                "output_type": "stream",
                "name": "stdout",
                "text": [
                  "Video available at https://www.bilibili.com/video/\n"
                ]
              },
              {
                "output_type": "display_data",
                "data": {
                  "text/plain": "<__main__.BiliVideo at 0x7f1c23a5ff50>",
                  "text/html": "\n        <iframe\n            width=\"854\"\n            height=\"480\"\n            src=\"https://player.bilibili.com/player.html?bvid=&page=1?fs=1\"\n            frameborder=\"0\"\n            allowfullscreen\n        ></iframe>\n        "
                },
                "metadata": {}
              }
            ]
          }
        },
        "412204e89fc54c78ae2ea5fde2303e5c": {
          "model_module": "@jupyter-widgets/base",
          "model_name": "LayoutModel",
          "model_module_version": "1.2.0",
          "state": {
            "_model_module": "@jupyter-widgets/base",
            "_model_module_version": "1.2.0",
            "_model_name": "LayoutModel",
            "_view_count": null,
            "_view_module": "@jupyter-widgets/base",
            "_view_module_version": "1.2.0",
            "_view_name": "LayoutView",
            "align_content": null,
            "align_items": null,
            "align_self": null,
            "border": null,
            "bottom": null,
            "display": null,
            "flex": null,
            "flex_flow": null,
            "grid_area": null,
            "grid_auto_columns": null,
            "grid_auto_flow": null,
            "grid_auto_rows": null,
            "grid_column": null,
            "grid_gap": null,
            "grid_row": null,
            "grid_template_areas": null,
            "grid_template_columns": null,
            "grid_template_rows": null,
            "height": null,
            "justify_content": null,
            "justify_items": null,
            "left": null,
            "margin": null,
            "max_height": null,
            "max_width": null,
            "min_height": null,
            "min_width": null,
            "object_fit": null,
            "object_position": null,
            "order": null,
            "overflow": null,
            "overflow_x": null,
            "overflow_y": null,
            "padding": null,
            "right": null,
            "top": null,
            "visibility": null,
            "width": null
          }
        },
        "216daaaee223414ab28c6b6432b66864": {
          "model_module": "@jupyter-widgets/base",
          "model_name": "LayoutModel",
          "model_module_version": "1.2.0",
          "state": {
            "_model_module": "@jupyter-widgets/base",
            "_model_module_version": "1.2.0",
            "_model_name": "LayoutModel",
            "_view_count": null,
            "_view_module": "@jupyter-widgets/base",
            "_view_module_version": "1.2.0",
            "_view_name": "LayoutView",
            "align_content": null,
            "align_items": null,
            "align_self": null,
            "border": null,
            "bottom": null,
            "display": null,
            "flex": null,
            "flex_flow": null,
            "grid_area": null,
            "grid_auto_columns": null,
            "grid_auto_flow": null,
            "grid_auto_rows": null,
            "grid_column": null,
            "grid_gap": null,
            "grid_row": null,
            "grid_template_areas": null,
            "grid_template_columns": null,
            "grid_template_rows": null,
            "height": null,
            "justify_content": null,
            "justify_items": null,
            "left": null,
            "margin": null,
            "max_height": null,
            "max_width": null,
            "min_height": null,
            "min_width": null,
            "object_fit": null,
            "object_position": null,
            "order": null,
            "overflow": null,
            "overflow_x": null,
            "overflow_y": null,
            "padding": null,
            "right": null,
            "top": null,
            "visibility": null,
            "width": null
          }
        },
        "95adf3dd1e1142479d8ecb99b6df1858": {
          "model_module": "@jupyter-widgets/base",
          "model_name": "LayoutModel",
          "model_module_version": "1.2.0",
          "state": {
            "_model_module": "@jupyter-widgets/base",
            "_model_module_version": "1.2.0",
            "_model_name": "LayoutModel",
            "_view_count": null,
            "_view_module": "@jupyter-widgets/base",
            "_view_module_version": "1.2.0",
            "_view_name": "LayoutView",
            "align_content": null,
            "align_items": null,
            "align_self": null,
            "border": null,
            "bottom": null,
            "display": null,
            "flex": null,
            "flex_flow": null,
            "grid_area": null,
            "grid_auto_columns": null,
            "grid_auto_flow": null,
            "grid_auto_rows": null,
            "grid_column": null,
            "grid_gap": null,
            "grid_row": null,
            "grid_template_areas": null,
            "grid_template_columns": null,
            "grid_template_rows": null,
            "height": null,
            "justify_content": null,
            "justify_items": null,
            "left": null,
            "margin": null,
            "max_height": null,
            "max_width": null,
            "min_height": null,
            "min_width": null,
            "object_fit": null,
            "object_position": null,
            "order": null,
            "overflow": null,
            "overflow_x": null,
            "overflow_y": null,
            "padding": null,
            "right": null,
            "top": null,
            "visibility": null,
            "width": null
          }
        },
        "feba950c33a84fb19fdb127f947d2f2f": {
          "model_module": "@jupyter-widgets/controls",
          "model_name": "TabModel",
          "model_module_version": "1.5.0",
          "state": {
            "_dom_classes": [],
            "_model_module": "@jupyter-widgets/controls",
            "_model_module_version": "1.5.0",
            "_model_name": "TabModel",
            "_titles": {
              "0": "Youtube",
              "1": "Bilibili"
            },
            "_view_count": null,
            "_view_module": "@jupyter-widgets/controls",
            "_view_module_version": "1.5.0",
            "_view_name": "TabView",
            "box_style": "",
            "children": [
              "IPY_MODEL_3708609295db4b66b01698f4da24d9fc",
              "IPY_MODEL_00d868ff0ad6446f85d0b6516e6362df"
            ],
            "layout": "IPY_MODEL_f87147f338ee40efbc1b3027cac83a77",
            "selected_index": 0
          }
        },
        "3708609295db4b66b01698f4da24d9fc": {
          "model_module": "@jupyter-widgets/output",
          "model_name": "OutputModel",
          "model_module_version": "1.0.0",
          "state": {
            "_dom_classes": [],
            "_model_module": "@jupyter-widgets/output",
            "_model_module_version": "1.0.0",
            "_model_name": "OutputModel",
            "_view_count": null,
            "_view_module": "@jupyter-widgets/output",
            "_view_module_version": "1.0.0",
            "_view_name": "OutputView",
            "layout": "IPY_MODEL_ff876a643ff14893877bf36340ce0c87",
            "msg_id": "",
            "outputs": [
              {
                "output_type": "stream",
                "name": "stdout",
                "text": [
                  "Video available at https://youtube.com/watch?v=CC4gMRrE31g\n"
                ]
              },
              {
                "output_type": "display_data",
                "data": {
                  "text/plain": "<IPython.lib.display.YouTubeVideo at 0x7f1c22bff290>",
                  "text/html": "\n        <iframe\n            width=\"854\"\n            height=\"480\"\n            src=\"https://www.youtube.com/embed/CC4gMRrE31g?fs=1&rel=0\"\n            frameborder=\"0\"\n            allowfullscreen\n        ></iframe>\n        ",
                  "image/jpeg": "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\n"
                },
                "metadata": {}
              }
            ]
          }
        },
        "00d868ff0ad6446f85d0b6516e6362df": {
          "model_module": "@jupyter-widgets/output",
          "model_name": "OutputModel",
          "model_module_version": "1.0.0",
          "state": {
            "_dom_classes": [],
            "_model_module": "@jupyter-widgets/output",
            "_model_module_version": "1.0.0",
            "_model_name": "OutputModel",
            "_view_count": null,
            "_view_module": "@jupyter-widgets/output",
            "_view_module_version": "1.0.0",
            "_view_name": "OutputView",
            "layout": "IPY_MODEL_7f9b659133ed40028c67b8e41b99b1d5",
            "msg_id": "",
            "outputs": [
              {
                "output_type": "stream",
                "name": "stdout",
                "text": [
                  "Video available at https://www.bilibili.com/video/\n"
                ]
              },
              {
                "output_type": "display_data",
                "data": {
                  "text/plain": "<__main__.BiliVideo at 0x7f1c37361950>",
                  "text/html": "\n        <iframe\n            width=\"854\"\n            height=\"480\"\n            src=\"https://player.bilibili.com/player.html?bvid=&page=1?fs=1\"\n            frameborder=\"0\"\n            allowfullscreen\n        ></iframe>\n        "
                },
                "metadata": {}
              }
            ]
          }
        },
        "f87147f338ee40efbc1b3027cac83a77": {
          "model_module": "@jupyter-widgets/base",
          "model_name": "LayoutModel",
          "model_module_version": "1.2.0",
          "state": {
            "_model_module": "@jupyter-widgets/base",
            "_model_module_version": "1.2.0",
            "_model_name": "LayoutModel",
            "_view_count": null,
            "_view_module": "@jupyter-widgets/base",
            "_view_module_version": "1.2.0",
            "_view_name": "LayoutView",
            "align_content": null,
            "align_items": null,
            "align_self": null,
            "border": null,
            "bottom": null,
            "display": null,
            "flex": null,
            "flex_flow": null,
            "grid_area": null,
            "grid_auto_columns": null,
            "grid_auto_flow": null,
            "grid_auto_rows": null,
            "grid_column": null,
            "grid_gap": null,
            "grid_row": null,
            "grid_template_areas": null,
            "grid_template_columns": null,
            "grid_template_rows": null,
            "height": null,
            "justify_content": null,
            "justify_items": null,
            "left": null,
            "margin": null,
            "max_height": null,
            "max_width": null,
            "min_height": null,
            "min_width": null,
            "object_fit": null,
            "object_position": null,
            "order": null,
            "overflow": null,
            "overflow_x": null,
            "overflow_y": null,
            "padding": null,
            "right": null,
            "top": null,
            "visibility": null,
            "width": null
          }
        },
        "ff876a643ff14893877bf36340ce0c87": {
          "model_module": "@jupyter-widgets/base",
          "model_name": "LayoutModel",
          "model_module_version": "1.2.0",
          "state": {
            "_model_module": "@jupyter-widgets/base",
            "_model_module_version": "1.2.0",
            "_model_name": "LayoutModel",
            "_view_count": null,
            "_view_module": "@jupyter-widgets/base",
            "_view_module_version": "1.2.0",
            "_view_name": "LayoutView",
            "align_content": null,
            "align_items": null,
            "align_self": null,
            "border": null,
            "bottom": null,
            "display": null,
            "flex": null,
            "flex_flow": null,
            "grid_area": null,
            "grid_auto_columns": null,
            "grid_auto_flow": null,
            "grid_auto_rows": null,
            "grid_column": null,
            "grid_gap": null,
            "grid_row": null,
            "grid_template_areas": null,
            "grid_template_columns": null,
            "grid_template_rows": null,
            "height": null,
            "justify_content": null,
            "justify_items": null,
            "left": null,
            "margin": null,
            "max_height": null,
            "max_width": null,
            "min_height": null,
            "min_width": null,
            "object_fit": null,
            "object_position": null,
            "order": null,
            "overflow": null,
            "overflow_x": null,
            "overflow_y": null,
            "padding": null,
            "right": null,
            "top": null,
            "visibility": null,
            "width": null
          }
        },
        "7f9b659133ed40028c67b8e41b99b1d5": {
          "model_module": "@jupyter-widgets/base",
          "model_name": "LayoutModel",
          "model_module_version": "1.2.0",
          "state": {
            "_model_module": "@jupyter-widgets/base",
            "_model_module_version": "1.2.0",
            "_model_name": "LayoutModel",
            "_view_count": null,
            "_view_module": "@jupyter-widgets/base",
            "_view_module_version": "1.2.0",
            "_view_name": "LayoutView",
            "align_content": null,
            "align_items": null,
            "align_self": null,
            "border": null,
            "bottom": null,
            "display": null,
            "flex": null,
            "flex_flow": null,
            "grid_area": null,
            "grid_auto_columns": null,
            "grid_auto_flow": null,
            "grid_auto_rows": null,
            "grid_column": null,
            "grid_gap": null,
            "grid_row": null,
            "grid_template_areas": null,
            "grid_template_columns": null,
            "grid_template_rows": null,
            "height": null,
            "justify_content": null,
            "justify_items": null,
            "left": null,
            "margin": null,
            "max_height": null,
            "max_width": null,
            "min_height": null,
            "min_width": null,
            "object_fit": null,
            "object_position": null,
            "order": null,
            "overflow": null,
            "overflow_x": null,
            "overflow_y": null,
            "padding": null,
            "right": null,
            "top": null,
            "visibility": null,
            "width": null
          }
        },
        "41d21b1a323b4595bcf20da3cda77810": {
          "model_module": "@jupyter-widgets/controls",
          "model_name": "TextareaModel",
          "model_module_version": "1.5.0",
          "state": {
            "_dom_classes": [],
            "_model_module": "@jupyter-widgets/controls",
            "_model_module_version": "1.5.0",
            "_model_name": "TextareaModel",
            "_view_count": null,
            "_view_module": "@jupyter-widgets/controls",
            "_view_module_version": "1.5.0",
            "_view_name": "TextareaView",
            "continuous_update": true,
            "description": "",
            "description_tooltip": null,
            "disabled": false,
            "layout": "IPY_MODEL_3f1ba187ad7b4eadbe016c4c77391b0f",
            "placeholder": "Type something",
            "rows": null,
            "style": "IPY_MODEL_d844ecb268e645278bb0e4928a789cf5",
            "value": "Type your answer here and click on `Submit!`"
          }
        },
        "3f1ba187ad7b4eadbe016c4c77391b0f": {
          "model_module": "@jupyter-widgets/base",
          "model_name": "LayoutModel",
          "model_module_version": "1.2.0",
          "state": {
            "_model_module": "@jupyter-widgets/base",
            "_model_module_version": "1.2.0",
            "_model_name": "LayoutModel",
            "_view_count": null,
            "_view_module": "@jupyter-widgets/base",
            "_view_module_version": "1.2.0",
            "_view_name": "LayoutView",
            "align_content": null,
            "align_items": null,
            "align_self": null,
            "border": null,
            "bottom": null,
            "display": null,
            "flex": null,
            "flex_flow": null,
            "grid_area": null,
            "grid_auto_columns": null,
            "grid_auto_flow": null,
            "grid_auto_rows": null,
            "grid_column": null,
            "grid_gap": null,
            "grid_row": null,
            "grid_template_areas": null,
            "grid_template_columns": null,
            "grid_template_rows": null,
            "height": null,
            "justify_content": null,
            "justify_items": null,
            "left": null,
            "margin": null,
            "max_height": null,
            "max_width": null,
            "min_height": null,
            "min_width": null,
            "object_fit": null,
            "object_position": null,
            "order": null,
            "overflow": null,
            "overflow_x": null,
            "overflow_y": null,
            "padding": null,
            "right": null,
            "top": null,
            "visibility": null,
            "width": null
          }
        },
        "d844ecb268e645278bb0e4928a789cf5": {
          "model_module": "@jupyter-widgets/controls",
          "model_name": "DescriptionStyleModel",
          "model_module_version": "1.5.0",
          "state": {
            "_model_module": "@jupyter-widgets/controls",
            "_model_module_version": "1.5.0",
            "_model_name": "DescriptionStyleModel",
            "_view_count": null,
            "_view_module": "@jupyter-widgets/base",
            "_view_module_version": "1.2.0",
            "_view_name": "StyleView",
            "description_width": ""
          }
        },
        "9872f7a644424c59aba98c744d39c882": {
          "model_module": "@jupyter-widgets/controls",
          "model_name": "ButtonModel",
          "model_module_version": "1.5.0",
          "state": {
            "_dom_classes": [],
            "_model_module": "@jupyter-widgets/controls",
            "_model_module_version": "1.5.0",
            "_model_name": "ButtonModel",
            "_view_count": null,
            "_view_module": "@jupyter-widgets/controls",
            "_view_module_version": "1.5.0",
            "_view_name": "ButtonView",
            "button_style": "",
            "description": "Submit!",
            "disabled": false,
            "icon": "",
            "layout": "IPY_MODEL_9583e88984044effac9855cee7b73e0a",
            "style": "IPY_MODEL_5038b3f921cb45828a71b08eec7630f2",
            "tooltip": ""
          }
        },
        "9583e88984044effac9855cee7b73e0a": {
          "model_module": "@jupyter-widgets/base",
          "model_name": "LayoutModel",
          "model_module_version": "1.2.0",
          "state": {
            "_model_module": "@jupyter-widgets/base",
            "_model_module_version": "1.2.0",
            "_model_name": "LayoutModel",
            "_view_count": null,
            "_view_module": "@jupyter-widgets/base",
            "_view_module_version": "1.2.0",
            "_view_name": "LayoutView",
            "align_content": null,
            "align_items": null,
            "align_self": null,
            "border": null,
            "bottom": null,
            "display": null,
            "flex": null,
            "flex_flow": null,
            "grid_area": null,
            "grid_auto_columns": null,
            "grid_auto_flow": null,
            "grid_auto_rows": null,
            "grid_column": null,
            "grid_gap": null,
            "grid_row": null,
            "grid_template_areas": null,
            "grid_template_columns": null,
            "grid_template_rows": null,
            "height": null,
            "justify_content": null,
            "justify_items": null,
            "left": null,
            "margin": null,
            "max_height": null,
            "max_width": null,
            "min_height": null,
            "min_width": null,
            "object_fit": null,
            "object_position": null,
            "order": null,
            "overflow": null,
            "overflow_x": null,
            "overflow_y": null,
            "padding": null,
            "right": null,
            "top": null,
            "visibility": null,
            "width": null
          }
        },
        "5038b3f921cb45828a71b08eec7630f2": {
          "model_module": "@jupyter-widgets/controls",
          "model_name": "ButtonStyleModel",
          "model_module_version": "1.5.0",
          "state": {
            "_model_module": "@jupyter-widgets/controls",
            "_model_module_version": "1.5.0",
            "_model_name": "ButtonStyleModel",
            "_view_count": null,
            "_view_module": "@jupyter-widgets/base",
            "_view_module_version": "1.2.0",
            "_view_name": "StyleView",
            "button_color": null,
            "font_weight": ""
          }
        },
        "ceac0e7c4f27419491284d798a9face2": {
          "model_module": "@jupyter-widgets/controls",
          "model_name": "TabModel",
          "model_module_version": "1.5.0",
          "state": {
            "_dom_classes": [],
            "_model_module": "@jupyter-widgets/controls",
            "_model_module_version": "1.5.0",
            "_model_name": "TabModel",
            "_titles": {
              "0": "Youtube",
              "1": "Bilibili"
            },
            "_view_count": null,
            "_view_module": "@jupyter-widgets/controls",
            "_view_module_version": "1.5.0",
            "_view_name": "TabView",
            "box_style": "",
            "children": [
              "IPY_MODEL_0aa197309fb0415a8e92743a1c9d6499",
              "IPY_MODEL_647046b7304c4e47984c0abfa34aa4d5"
            ],
            "layout": "IPY_MODEL_102ddaf22b9641e69d4687ee2c04d7e0",
            "selected_index": 0
          }
        },
        "0aa197309fb0415a8e92743a1c9d6499": {
          "model_module": "@jupyter-widgets/output",
          "model_name": "OutputModel",
          "model_module_version": "1.0.0",
          "state": {
            "_dom_classes": [],
            "_model_module": "@jupyter-widgets/output",
            "_model_module_version": "1.0.0",
            "_model_name": "OutputModel",
            "_view_count": null,
            "_view_module": "@jupyter-widgets/output",
            "_view_module_version": "1.0.0",
            "_view_name": "OutputView",
            "layout": "IPY_MODEL_d359e5b0872347f690c0092a0196a42e",
            "msg_id": "",
            "outputs": [
              {
                "output_type": "stream",
                "name": "stdout",
                "text": [
                  "Video available at https://youtube.com/watch?v=fb6A03B2U5g\n"
                ]
              },
              {
                "output_type": "display_data",
                "data": {
                  "text/plain": "<IPython.lib.display.YouTubeVideo at 0x7f1c1eecb750>",
                  "text/html": "\n        <iframe\n            width=\"854\"\n            height=\"480\"\n            src=\"https://www.youtube.com/embed/fb6A03B2U5g?fs=1&rel=0\"\n            frameborder=\"0\"\n            allowfullscreen\n        ></iframe>\n        ",
                  "image/jpeg": "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\n"
                },
                "metadata": {}
              }
            ]
          }
        },
        "647046b7304c4e47984c0abfa34aa4d5": {
          "model_module": "@jupyter-widgets/output",
          "model_name": "OutputModel",
          "model_module_version": "1.0.0",
          "state": {
            "_dom_classes": [],
            "_model_module": "@jupyter-widgets/output",
            "_model_module_version": "1.0.0",
            "_model_name": "OutputModel",
            "_view_count": null,
            "_view_module": "@jupyter-widgets/output",
            "_view_module_version": "1.0.0",
            "_view_name": "OutputView",
            "layout": "IPY_MODEL_a343c947027742b5a700d8478c135291",
            "msg_id": "",
            "outputs": [
              {
                "output_type": "stream",
                "name": "stdout",
                "text": [
                  "Video available at https://www.bilibili.com/video/\n"
                ]
              },
              {
                "output_type": "display_data",
                "data": {
                  "text/plain": "<__main__.BiliVideo at 0x7f1c24c7b490>",
                  "text/html": "\n        <iframe\n            width=\"854\"\n            height=\"480\"\n            src=\"https://player.bilibili.com/player.html?bvid=&page=1?fs=1\"\n            frameborder=\"0\"\n            allowfullscreen\n        ></iframe>\n        "
                },
                "metadata": {}
              }
            ]
          }
        },
        "102ddaf22b9641e69d4687ee2c04d7e0": {
          "model_module": "@jupyter-widgets/base",
          "model_name": "LayoutModel",
          "model_module_version": "1.2.0",
          "state": {
            "_model_module": "@jupyter-widgets/base",
            "_model_module_version": "1.2.0",
            "_model_name": "LayoutModel",
            "_view_count": null,
            "_view_module": "@jupyter-widgets/base",
            "_view_module_version": "1.2.0",
            "_view_name": "LayoutView",
            "align_content": null,
            "align_items": null,
            "align_self": null,
            "border": null,
            "bottom": null,
            "display": null,
            "flex": null,
            "flex_flow": null,
            "grid_area": null,
            "grid_auto_columns": null,
            "grid_auto_flow": null,
            "grid_auto_rows": null,
            "grid_column": null,
            "grid_gap": null,
            "grid_row": null,
            "grid_template_areas": null,
            "grid_template_columns": null,
            "grid_template_rows": null,
            "height": null,
            "justify_content": null,
            "justify_items": null,
            "left": null,
            "margin": null,
            "max_height": null,
            "max_width": null,
            "min_height": null,
            "min_width": null,
            "object_fit": null,
            "object_position": null,
            "order": null,
            "overflow": null,
            "overflow_x": null,
            "overflow_y": null,
            "padding": null,
            "right": null,
            "top": null,
            "visibility": null,
            "width": null
          }
        },
        "d359e5b0872347f690c0092a0196a42e": {
          "model_module": "@jupyter-widgets/base",
          "model_name": "LayoutModel",
          "model_module_version": "1.2.0",
          "state": {
            "_model_module": "@jupyter-widgets/base",
            "_model_module_version": "1.2.0",
            "_model_name": "LayoutModel",
            "_view_count": null,
            "_view_module": "@jupyter-widgets/base",
            "_view_module_version": "1.2.0",
            "_view_name": "LayoutView",
            "align_content": null,
            "align_items": null,
            "align_self": null,
            "border": null,
            "bottom": null,
            "display": null,
            "flex": null,
            "flex_flow": null,
            "grid_area": null,
            "grid_auto_columns": null,
            "grid_auto_flow": null,
            "grid_auto_rows": null,
            "grid_column": null,
            "grid_gap": null,
            "grid_row": null,
            "grid_template_areas": null,
            "grid_template_columns": null,
            "grid_template_rows": null,
            "height": null,
            "justify_content": null,
            "justify_items": null,
            "left": null,
            "margin": null,
            "max_height": null,
            "max_width": null,
            "min_height": null,
            "min_width": null,
            "object_fit": null,
            "object_position": null,
            "order": null,
            "overflow": null,
            "overflow_x": null,
            "overflow_y": null,
            "padding": null,
            "right": null,
            "top": null,
            "visibility": null,
            "width": null
          }
        },
        "a343c947027742b5a700d8478c135291": {
          "model_module": "@jupyter-widgets/base",
          "model_name": "LayoutModel",
          "model_module_version": "1.2.0",
          "state": {
            "_model_module": "@jupyter-widgets/base",
            "_model_module_version": "1.2.0",
            "_model_name": "LayoutModel",
            "_view_count": null,
            "_view_module": "@jupyter-widgets/base",
            "_view_module_version": "1.2.0",
            "_view_name": "LayoutView",
            "align_content": null,
            "align_items": null,
            "align_self": null,
            "border": null,
            "bottom": null,
            "display": null,
            "flex": null,
            "flex_flow": null,
            "grid_area": null,
            "grid_auto_columns": null,
            "grid_auto_flow": null,
            "grid_auto_rows": null,
            "grid_column": null,
            "grid_gap": null,
            "grid_row": null,
            "grid_template_areas": null,
            "grid_template_columns": null,
            "grid_template_rows": null,
            "height": null,
            "justify_content": null,
            "justify_items": null,
            "left": null,
            "margin": null,
            "max_height": null,
            "max_width": null,
            "min_height": null,
            "min_width": null,
            "object_fit": null,
            "object_position": null,
            "order": null,
            "overflow": null,
            "overflow_x": null,
            "overflow_y": null,
            "padding": null,
            "right": null,
            "top": null,
            "visibility": null,
            "width": null
          }
        },
        "853344145e7646c88375a1192f4c2af5": {
          "model_module": "@jupyter-widgets/controls",
          "model_name": "TabModel",
          "model_module_version": "1.5.0",
          "state": {
            "_dom_classes": [],
            "_model_module": "@jupyter-widgets/controls",
            "_model_module_version": "1.5.0",
            "_model_name": "TabModel",
            "_titles": {
              "0": "Youtube",
              "1": "Bilibili"
            },
            "_view_count": null,
            "_view_module": "@jupyter-widgets/controls",
            "_view_module_version": "1.5.0",
            "_view_name": "TabView",
            "box_style": "",
            "children": [
              "IPY_MODEL_1831628f42fe41f2a66da7abbb53915e",
              "IPY_MODEL_9a5fab1572f244f3b2bd86387b892f9d"
            ],
            "layout": "IPY_MODEL_ea2350e1e75148429cfb54b521769090",
            "selected_index": 0
          }
        },
        "1831628f42fe41f2a66da7abbb53915e": {
          "model_module": "@jupyter-widgets/output",
          "model_name": "OutputModel",
          "model_module_version": "1.0.0",
          "state": {
            "_dom_classes": [],
            "_model_module": "@jupyter-widgets/output",
            "_model_module_version": "1.0.0",
            "_model_name": "OutputModel",
            "_view_count": null,
            "_view_module": "@jupyter-widgets/output",
            "_view_module_version": "1.0.0",
            "_view_name": "OutputView",
            "layout": "IPY_MODEL_78fa22cca1014e66b9108f13747f29ef",
            "msg_id": "",
            "outputs": [
              {
                "output_type": "stream",
                "name": "stdout",
                "text": [
                  "Video available at https://youtube.com/watch?v=b2N2OJ2u4AM\n"
                ]
              },
              {
                "output_type": "display_data",
                "data": {
                  "text/plain": "<IPython.lib.display.YouTubeVideo at 0x7f1c23450650>",
                  "text/html": "\n        <iframe\n            width=\"854\"\n            height=\"480\"\n            src=\"https://www.youtube.com/embed/b2N2OJ2u4AM?fs=1&rel=0\"\n            frameborder=\"0\"\n            allowfullscreen\n        ></iframe>\n        ",
                  "image/jpeg": "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\n"
                },
                "metadata": {}
              }
            ]
          }
        },
        "9a5fab1572f244f3b2bd86387b892f9d": {
          "model_module": "@jupyter-widgets/output",
          "model_name": "OutputModel",
          "model_module_version": "1.0.0",
          "state": {
            "_dom_classes": [],
            "_model_module": "@jupyter-widgets/output",
            "_model_module_version": "1.0.0",
            "_model_name": "OutputModel",
            "_view_count": null,
            "_view_module": "@jupyter-widgets/output",
            "_view_module_version": "1.0.0",
            "_view_name": "OutputView",
            "layout": "IPY_MODEL_092f3eaf9d5941fa92ec1a9d3caf5b8f",
            "msg_id": "",
            "outputs": [
              {
                "output_type": "stream",
                "name": "stdout",
                "text": [
                  "Video available at https://www.bilibili.com/video/\n"
                ]
              },
              {
                "output_type": "display_data",
                "data": {
                  "text/plain": "<__main__.BiliVideo at 0x7f1c1eee4690>",
                  "text/html": "\n        <iframe\n            width=\"854\"\n            height=\"480\"\n            src=\"https://player.bilibili.com/player.html?bvid=&page=1?fs=1\"\n            frameborder=\"0\"\n            allowfullscreen\n        ></iframe>\n        "
                },
                "metadata": {}
              }
            ]
          }
        },
        "ea2350e1e75148429cfb54b521769090": {
          "model_module": "@jupyter-widgets/base",
          "model_name": "LayoutModel",
          "model_module_version": "1.2.0",
          "state": {
            "_model_module": "@jupyter-widgets/base",
            "_model_module_version": "1.2.0",
            "_model_name": "LayoutModel",
            "_view_count": null,
            "_view_module": "@jupyter-widgets/base",
            "_view_module_version": "1.2.0",
            "_view_name": "LayoutView",
            "align_content": null,
            "align_items": null,
            "align_self": null,
            "border": null,
            "bottom": null,
            "display": null,
            "flex": null,
            "flex_flow": null,
            "grid_area": null,
            "grid_auto_columns": null,
            "grid_auto_flow": null,
            "grid_auto_rows": null,
            "grid_column": null,
            "grid_gap": null,
            "grid_row": null,
            "grid_template_areas": null,
            "grid_template_columns": null,
            "grid_template_rows": null,
            "height": null,
            "justify_content": null,
            "justify_items": null,
            "left": null,
            "margin": null,
            "max_height": null,
            "max_width": null,
            "min_height": null,
            "min_width": null,
            "object_fit": null,
            "object_position": null,
            "order": null,
            "overflow": null,
            "overflow_x": null,
            "overflow_y": null,
            "padding": null,
            "right": null,
            "top": null,
            "visibility": null,
            "width": null
          }
        },
        "78fa22cca1014e66b9108f13747f29ef": {
          "model_module": "@jupyter-widgets/base",
          "model_name": "LayoutModel",
          "model_module_version": "1.2.0",
          "state": {
            "_model_module": "@jupyter-widgets/base",
            "_model_module_version": "1.2.0",
            "_model_name": "LayoutModel",
            "_view_count": null,
            "_view_module": "@jupyter-widgets/base",
            "_view_module_version": "1.2.0",
            "_view_name": "LayoutView",
            "align_content": null,
            "align_items": null,
            "align_self": null,
            "border": null,
            "bottom": null,
            "display": null,
            "flex": null,
            "flex_flow": null,
            "grid_area": null,
            "grid_auto_columns": null,
            "grid_auto_flow": null,
            "grid_auto_rows": null,
            "grid_column": null,
            "grid_gap": null,
            "grid_row": null,
            "grid_template_areas": null,
            "grid_template_columns": null,
            "grid_template_rows": null,
            "height": null,
            "justify_content": null,
            "justify_items": null,
            "left": null,
            "margin": null,
            "max_height": null,
            "max_width": null,
            "min_height": null,
            "min_width": null,
            "object_fit": null,
            "object_position": null,
            "order": null,
            "overflow": null,
            "overflow_x": null,
            "overflow_y": null,
            "padding": null,
            "right": null,
            "top": null,
            "visibility": null,
            "width": null
          }
        },
        "092f3eaf9d5941fa92ec1a9d3caf5b8f": {
          "model_module": "@jupyter-widgets/base",
          "model_name": "LayoutModel",
          "model_module_version": "1.2.0",
          "state": {
            "_model_module": "@jupyter-widgets/base",
            "_model_module_version": "1.2.0",
            "_model_name": "LayoutModel",
            "_view_count": null,
            "_view_module": "@jupyter-widgets/base",
            "_view_module_version": "1.2.0",
            "_view_name": "LayoutView",
            "align_content": null,
            "align_items": null,
            "align_self": null,
            "border": null,
            "bottom": null,
            "display": null,
            "flex": null,
            "flex_flow": null,
            "grid_area": null,
            "grid_auto_columns": null,
            "grid_auto_flow": null,
            "grid_auto_rows": null,
            "grid_column": null,
            "grid_gap": null,
            "grid_row": null,
            "grid_template_areas": null,
            "grid_template_columns": null,
            "grid_template_rows": null,
            "height": null,
            "justify_content": null,
            "justify_items": null,
            "left": null,
            "margin": null,
            "max_height": null,
            "max_width": null,
            "min_height": null,
            "min_width": null,
            "object_fit": null,
            "object_position": null,
            "order": null,
            "overflow": null,
            "overflow_x": null,
            "overflow_y": null,
            "padding": null,
            "right": null,
            "top": null,
            "visibility": null,
            "width": null
          }
        }
      }
    }
  },
  "nbformat": 4,
  "nbformat_minor": 0
}