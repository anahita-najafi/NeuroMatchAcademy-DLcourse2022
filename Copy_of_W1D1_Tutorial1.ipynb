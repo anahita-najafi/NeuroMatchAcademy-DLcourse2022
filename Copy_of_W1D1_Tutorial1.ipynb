{
  "cells": [
    {
      "cell_type": "markdown",
      "metadata": {
        "id": "view-in-github",
        "colab_type": "text"
      },
      "source": [
        "<a href=\"https://colab.research.google.com/github/anahita-najafi/NeuroMatchAcademy-DLcourse2022/blob/main/Copy_of_W1D1_Tutorial1.ipynb\" target=\"_parent\"><img src=\"https://colab.research.google.com/assets/colab-badge.svg\" alt=\"Open In Colab\"/></a>"
      ]
    },
    {
      "cell_type": "markdown",
      "metadata": {
        "id": "nhM-xYZCno9G"
      },
      "source": [
        "# Tutorial 1: PyTorch\n",
        "**Week 1, Day 1: Basics and PyTorch**\n",
        "\n",
        "**By Neuromatch Academy**\n",
        "\n",
        "\n",
        "__Content creators:__ Shubh Pachchigar, Vladimir Haltakov, Matthew Sargent, Konrad Kording\n",
        "\n",
        "__Content reviewers:__ Deepak Raya, Siwei Bai, Kelson Shilling-Scrivo\n",
        "\n",
        "__Content editors:__ Anoop Kulkarni, Spiros Chavlis\n",
        "\n",
        "__Production editors:__ Arush Tagade, Spiros Chavlis"
      ]
    },
    {
      "cell_type": "markdown",
      "metadata": {
        "id": "bUdRQVgwno9P"
      },
      "source": [
        "<p align='center'><img src='https://github.com/NeuromatchAcademy/widgets/blob/master/sponsors.png?raw=True'/></p>"
      ]
    },
    {
      "cell_type": "markdown",
      "metadata": {
        "id": "0-HSOqeLno9Q"
      },
      "source": [
        "---\n",
        "# Tutorial Objectives\n",
        "\n",
        "Then have a few specific objectives for this tutorial:\n",
        "* Learn about PyTorch and tensors\n",
        "* Tensor Manipulations\n",
        "* Data Loading\n",
        "* GPUs and Cuda Tensors\n",
        "* Train NaiveNet\n",
        "* Get to know your pod\n",
        "* Start thinking about the course as a whole"
      ]
    },
    {
      "cell_type": "code",
      "execution_count": null,
      "metadata": {
        "cellView": "form",
        "colab": {
          "base_uri": "https://localhost:8080/",
          "height": 501
        },
        "id": "2Yl0ani5no9S",
        "outputId": "a6718085-16a1-4b44-a99f-e32f39ef709f"
      },
      "outputs": [
        {
          "data": {
            "text/html": [
              "\n",
              "        <iframe\n",
              "            width=\"854\"\n",
              "            height=\"480\"\n",
              "            src=\"https://mfr.ca-1.osf.io/render?url=https://osf.io/wcjrv/?direct%26mode=render%26action=download%26mode=render\"\n",
              "            frameborder=\"0\"\n",
              "            allowfullscreen\n",
              "        ></iframe>\n",
              "        "
            ],
            "text/plain": [
              "<IPython.lib.display.IFrame at 0x7f7fc7c8cad0>"
            ]
          },
          "execution_count": 20,
          "metadata": {},
          "output_type": "execute_result"
        }
      ],
      "source": [
        "# @title Tutorial slides\n",
        "\n",
        "from IPython.display import IFrame\n",
        "IFrame(src=f\"https://mfr.ca-1.osf.io/render?url=https://osf.io/wcjrv/?direct%26mode=render%26action=download%26mode=render\", width=854, height=480)"
      ]
    },
    {
      "cell_type": "markdown",
      "metadata": {
        "id": "NdyIQ-7Lno9V"
      },
      "source": [
        "These are the slides for all videos in this tutorial. If you want to locally dowload the slides, click [here](https://osf.io/wcjrv/download).\n"
      ]
    },
    {
      "cell_type": "markdown",
      "metadata": {
        "id": "T1jcmdKsno9W"
      },
      "source": [
        "---\n",
        "# Setup"
      ]
    },
    {
      "cell_type": "markdown",
      "metadata": {
        "id": "iJu9ZVRono9X"
      },
      "source": [
        "Throughout your Neuromatch tutorials, most (probably all!) notebooks contain setup cells. These cells will import the required Python packages (e.g., PyTorch, NumPy); set global or environment variables, and load in helper functions for things like plotting. In some tutorials, you will notice that we install some dependencies even if they are preinstalled on Google Colab or Kaggle. This happens because we have added automation to our repository through [GitHub Actions](https://docs.github.com/en/actions/learn-github-actions/introduction-to-github-actions).\n",
        "\n",
        "Be sure to run all of the cells in the setup section. Feel free to expand them and have a look at what you are loading in, but you should be able to fulfill the learning objectives of every tutorial without having to look at these cells.\n",
        "\n",
        "If you start building your own projects built on this code base we highly recommend looking at them in more detail."
      ]
    },
    {
      "cell_type": "code",
      "execution_count": null,
      "metadata": {
        "cellView": "form",
        "colab": {
          "base_uri": "https://localhost:8080/"
        },
        "id": "kzWp2hQPno9Z",
        "outputId": "5baef170-f56e-4eb0-e0fe-816b37c11b39"
      },
      "outputs": [
        {
          "name": "stdout",
          "output_type": "stream",
          "text": [
            "  Building wheel for evaltools (setup.py) ... \u001b[?25l\u001b[?25hdone\n"
          ]
        }
      ],
      "source": [
        "# @title Install dependencies\n",
        "!pip install pandas --quiet\n",
        "!pip install git+https://github.com/NeuromatchAcademy/evaltools --quiet\n",
        "\n",
        "from evaltools.airtable import AirtableForm\n",
        "atform = AirtableForm('appn7VdPRseSoMXEG','W1D1_T1','https://portal.neuromatchacademy.org/api/redirect/to/f2da6480-069c-49b9-a37b-8750f9d6f359')"
      ]
    },
    {
      "cell_type": "code",
      "execution_count": null,
      "metadata": {
        "id": "wCpA0nE-no9a"
      },
      "outputs": [],
      "source": [
        "# Imports\n",
        "import time\n",
        "import random\n",
        "import numpy as np\n",
        "import pandas as pd\n",
        "import matplotlib.pyplot as plt\n",
        "\n",
        "# PyTorch libraries\n",
        "import torch\n",
        "from torch import nn\n",
        "from torchvision import datasets\n",
        "from torch.utils.data import DataLoader\n",
        "from torchvision.transforms import ToTensor"
      ]
    },
    {
      "cell_type": "code",
      "execution_count": null,
      "metadata": {
        "cellView": "form",
        "id": "W9SxQJLEno9c"
      },
      "outputs": [],
      "source": [
        "# @title Figure Settings\n",
        "import ipywidgets as widgets\n",
        "%config InlineBackend.figure_format = 'retina'\n",
        "plt.style.use(\"https://raw.githubusercontent.com/NeuromatchAcademy/content-creation/main/nma.mplstyle\")"
      ]
    },
    {
      "cell_type": "code",
      "execution_count": null,
      "metadata": {
        "cellView": "form",
        "id": "q8ZMYqhmno9d"
      },
      "outputs": [],
      "source": [
        "# @title Helper Functions\n",
        "\n",
        "def checkExercise1(A, B, C, D):\n",
        "  \"\"\"\n",
        "  Helper function for checking Exercise 1.\n",
        "\n",
        "  Args:\n",
        "    A: torch.Tensor\n",
        "      Torch Tensor of shape (20, 21) consisting of ones.\n",
        "    B: torch.Tensor\n",
        "      Torch Tensor of size([3,4])\n",
        "    C: torch.Tensor\n",
        "      Torch Tensor of size([20,21])\n",
        "    D: torch.Tensor\n",
        "      Torch Tensor of size([19])\n",
        "\n",
        "  Returns:\n",
        "    Nothing.\n",
        "  \"\"\"\n",
        "  assert torch.equal(A.to(int),torch.ones(20, 21).to(int)), \"Got: {A} \\n Expected: {torch.ones(20, 21)} (shape: {torch.ones(20, 21).shape})\"\n",
        "  assert np.array_equal(B.numpy(),np.vander([1, 2, 3], 4)), \"Got: {B} \\n Expected: {np.vander([1, 2, 3], 4)} (shape: {np.vander([1, 2, 3], 4).shape})\"\n",
        "  assert C.shape == (20, 21), \"Got: {C} \\n Expected (shape: {(20, 21)})\"\n",
        "  assert torch.equal(D, torch.arange(4, 41, step=2)), \"Got {D} \\n Expected: {torch.arange(4, 41, step=2)} (shape: {torch.arange(4, 41, step=2).shape})\"\n",
        "  print(\"All correct\")\n",
        "\n",
        "def timeFun(f, dim, iterations, device='cpu'):\n",
        "  \"\"\"\n",
        "  Helper function to calculate amount of time taken per instance on CPU/GPU\n",
        "\n",
        "  Args:\n",
        "    f: BufferedReader IO instance\n",
        "      Function name for which to calculate computational time complexity\n",
        "    dim: Integer\n",
        "      Number of dimensions in instance in question\n",
        "    iterations: Integer\n",
        "      Number of iterations for instance in question\n",
        "    device: String\n",
        "      Device on which respective computation is to be run\n",
        "\n",
        "  Returns:\n",
        "    Nothing\n",
        "  \"\"\"\n",
        "  iterations = iterations\n",
        "  t_total = 0\n",
        "  for _ in range(iterations):\n",
        "    start = time.time()\n",
        "    f(dim, device)\n",
        "    end = time.time()\n",
        "    t_total += end - start\n",
        "\n",
        "  if device == 'cpu':\n",
        "    print(f\"time taken for {iterations} iterations of {f.__name__}({dim}, {device}): {t_total:.5f}\")\n",
        "  else:\n",
        "    print(f\"time taken for {iterations} iterations of {f.__name__}({dim}, {device}): {t_total:.5f}\")"
      ]
    },
    {
      "cell_type": "markdown",
      "metadata": {
        "id": "kGU9Bg09no9e"
      },
      "source": [
        "**Important note: Colab users**\n",
        "\n",
        "*Scratch Code Cells*\n",
        "\n",
        "If you want to quickly try out something or take a look at the data, you can use scratch code cells. They allow you to run Python code, but will not mess up the structure of your notebook.\n",
        "\n",
        "To open a new scratch cell go to *Insert* → *Scratch code cell*."
      ]
    },
    {
      "cell_type": "markdown",
      "metadata": {
        "id": "WvEzTvkmno9g"
      },
      "source": [
        "# Section 1: Welcome to Neuromatch Deep learning course\n",
        "\n",
        "*Time estimate: ~25mins*"
      ]
    },
    {
      "cell_type": "code",
      "execution_count": null,
      "metadata": {
        "cellView": "form",
        "colab": {
          "base_uri": "https://localhost:8080/",
          "height": 597,
          "referenced_widgets": [
            "c56efcf3ce434b6b8d4e26a345fdf6e6",
            "ab676a83e8af4c7aa6f84d2229112afc",
            "a036f3fbcfda42c6a543bba1cd0f17d2",
            "ac7d185ab10e467ab65e3092aa8faf28",
            "f6370802c821437d9fda392f5a457d25",
            "04e53e1c92604bbfaf368a529762b0c8"
          ]
        },
        "id": "PRr6Xag4no9g",
        "outputId": "a462da06-40ab-4d23-f43a-e434fe1e7a82"
      },
      "outputs": [
        {
          "data": {
            "application/vnd.jupyter.widget-view+json": {
              "model_id": "c56efcf3ce434b6b8d4e26a345fdf6e6",
              "version_major": 2,
              "version_minor": 0
            },
            "text/plain": [
              "Tab(children=(Output(), Output()), _titles={'0': 'Youtube', '1': 'Bilibili'})"
            ]
          },
          "metadata": {},
          "output_type": "display_data"
        }
      ],
      "source": [
        "# @title Video 1: Welcome and History\n",
        "from ipywidgets import widgets\n",
        "\n",
        "out2 = widgets.Output()\n",
        "with out2:\n",
        "  from IPython.display import IFrame\n",
        "  class BiliVideo(IFrame):\n",
        "    def __init__(self, id, page=1, width=400, height=300, **kwargs):\n",
        "      self.id=id\n",
        "      src = \"https://player.bilibili.com/player.html?bvid={0}&page={1}\".format(id, page)\n",
        "      super(BiliVideo, self).__init__(src, width, height, **kwargs)\n",
        "\n",
        "  video = BiliVideo(id=f\"BV1Av411n7oL\", width=854, height=480, fs=1)\n",
        "  print(\"Video available at https://www.bilibili.com/video/{0}\".format(video.id))\n",
        "  display(video)\n",
        "\n",
        "out1 = widgets.Output()\n",
        "with out1:\n",
        "  from IPython.display import YouTubeVideo\n",
        "  video = YouTubeVideo(id=f\"ca21SNqt78I\", width=854, height=480, fs=1, rel=0)\n",
        "  print(\"Video available at https://youtube.com/watch?v=\" + video.id)\n",
        "  display(video)\n",
        "\n",
        "out = widgets.Tab([out1, out2])\n",
        "out.set_title(0, 'Youtube')\n",
        "out.set_title(1, 'Bilibili')\n",
        "\n",
        "# add timing\n",
        "atform.add_event('Video 1: Welcome and History')\n",
        "\n",
        "display(out)"
      ]
    },
    {
      "cell_type": "markdown",
      "metadata": {
        "id": "pkkCPM15no9i"
      },
      "source": [
        "This will be an intensive 3 week adventure. We will all learn Deep Learning (DL) in a group. Groups need standards. Read our \n",
        "[Code of Conduct](https://docs.google.com/document/d/1eHKIkaNbAlbx_92tLQelXnicKXEcvFzlyzzeWjEtifM/edit?usp=sharing).\n"
      ]
    },
    {
      "cell_type": "code",
      "execution_count": null,
      "metadata": {
        "cellView": "form",
        "colab": {
          "base_uri": "https://localhost:8080/",
          "height": 597,
          "referenced_widgets": [
            "488baa7cb8e348d08c20d445df58243d",
            "c016e9f52af84f92b459eb80aae3579b",
            "0b9ca152e2434fc68d41b60ec31ef69a",
            "b518d918c6914c1b9d9ce12baca6ea68",
            "fbd6e507130d4209a4b09fe2633ea846",
            "5a8b2cef2a5542418b1200bd5b357138"
          ]
        },
        "id": "httK6AYPno9i",
        "outputId": "b8a6672f-1d0b-44ea-c882-f7cf4a792c40"
      },
      "outputs": [
        {
          "data": {
            "application/vnd.jupyter.widget-view+json": {
              "model_id": "488baa7cb8e348d08c20d445df58243d",
              "version_major": 2,
              "version_minor": 0
            },
            "text/plain": [
              "Tab(children=(Output(), Output()), _titles={'0': 'Youtube', '1': 'Bilibili'})"
            ]
          },
          "metadata": {},
          "output_type": "display_data"
        }
      ],
      "source": [
        "# @title Video 2: Why DL is cool\n",
        "from ipywidgets import widgets\n",
        "\n",
        "out2 = widgets.Output()\n",
        "with out2:\n",
        "  from IPython.display import IFrame\n",
        "  class BiliVideo(IFrame):\n",
        "    def __init__(self, id, page=1, width=400, height=300, **kwargs):\n",
        "      self.id=id\n",
        "      src = \"https://player.bilibili.com/player.html?bvid={0}&page={1}\".format(id, page)\n",
        "      super(BiliVideo, self).__init__(src, width, height, **kwargs)\n",
        "\n",
        "  video = BiliVideo(id=f\"BV1gf4y1j7UZ\", width=854, height=480, fs=1)\n",
        "  print(\"Video available at https://www.bilibili.com/video/{0}\".format(video.id))\n",
        "  display(video)\n",
        "\n",
        "out1 = widgets.Output()\n",
        "with out1:\n",
        "  from IPython.display import YouTubeVideo\n",
        "  video = YouTubeVideo(id=f\"l-K6495BN-4\", width=854, height=480, fs=1, rel=0)\n",
        "  print(\"Video available at https://youtube.com/watch?v=\" + video.id)\n",
        "  display(video)\n",
        "\n",
        "out = widgets.Tab([out1, out2])\n",
        "out.set_title(0, 'Youtube')\n",
        "out.set_title(1, 'Bilibili')\n",
        "\n",
        "# add timing to airtable\n",
        "atform.add_event('Video 2: Why DL is cool')\n",
        "\n",
        "display(out)"
      ]
    },
    {
      "cell_type": "markdown",
      "metadata": {
        "id": "uGt3Jjl0no9j"
      },
      "source": [
        "**Discuss with your pod: What do you hope to get out of this course? [in about 100 words]**"
      ]
    },
    {
      "cell_type": "markdown",
      "metadata": {
        "id": "eJQiupw3no9k"
      },
      "source": [
        "---\n",
        "# Section 2: The Basics of PyTorch\n",
        "\n",
        "*Time estimate: ~2 hours 05 mins*"
      ]
    },
    {
      "cell_type": "markdown",
      "metadata": {
        "id": "TDg-8kkFno9k"
      },
      "source": [
        "PyTorch is a Python-based scientific computing package targeted at two sets of\n",
        "audiences:\n",
        "\n",
        "-  A replacement for NumPy optimized for the power of GPUs\n",
        "-  A deep learning platform that provides significant flexibility\n",
        "   and speed\n",
        "\n",
        "At its core, PyTorch provides a few key features:\n",
        "\n",
        "- A multidimensional [Tensor](https://pytorch.org/docs/stable/tensors.html) object, similar to [NumPy Array](https://numpy.org/doc/stable/reference/generated/numpy.ndarray.html) but with GPU acceleration.\n",
        "- An optimized **autograd** engine for automatically computing derivatives.\n",
        "- A clean, modular API for building and deploying **deep learning models**.\n",
        "\n",
        "You can find more information about PyTorch in the Appendix."
      ]
    },
    {
      "cell_type": "markdown",
      "metadata": {
        "id": "2LkqgQJTno9l"
      },
      "source": [
        "## Section 2.1: Creating Tensors\n"
      ]
    },
    {
      "cell_type": "code",
      "execution_count": null,
      "metadata": {
        "colab": {
          "base_uri": "https://localhost:8080/",
          "height": 597,
          "referenced_widgets": [
            "72f4d52abea943f481da127d17892c78",
            "827bc66e3ea04a22adc3b1445341ceed",
            "c1b68650162a455dbe7c7dfc64e475b2",
            "a44f0967a6e14477b1a314f97855688d",
            "2aa1602689c94826a798ba3ce317a14d",
            "1c08ec5187d34443b53c2f73d1bd4bb9"
          ]
        },
        "id": "3-KGWlszno9l",
        "outputId": "45fcb150-49c8-46e8-df05-7287cece1525"
      },
      "outputs": [
        {
          "data": {
            "application/vnd.jupyter.widget-view+json": {
              "model_id": "72f4d52abea943f481da127d17892c78",
              "version_major": 2,
              "version_minor": 0
            },
            "text/plain": [
              "Tab(children=(Output(), Output()), _titles={'0': 'Youtube', '1': 'Bilibili'})"
            ]
          },
          "metadata": {},
          "output_type": "display_data"
        }
      ],
      "source": [
        "# @title Video 3: Making Tensors\n",
        "from ipywidgets import widgets\n",
        "\n",
        "out2 = widgets.Output()\n",
        "with out2:\n",
        "  from IPython.display import IFrame\n",
        "  class BiliVideo(IFrame):\n",
        "    def __init__(self, id, page=1, width=400, height=300, **kwargs):\n",
        "      self.id=id\n",
        "      src = \"https://player.bilibili.com/player.html?bvid={0}&page={1}\".format(id, page)\n",
        "      super(BiliVideo, self).__init__(src, width, height, **kwargs)\n",
        "\n",
        "  video = BiliVideo(id=f\"BV1Rw411d7Uy\", width=854, height=480, fs=1)\n",
        "  print(\"Video available at https://www.bilibili.com/video/{0}\".format(video.id))\n",
        "  display(video)\n",
        "\n",
        "out1 = widgets.Output()\n",
        "with out1:\n",
        "  from IPython.display import YouTubeVideo\n",
        "  video = YouTubeVideo(id=f\"jGKd_4tPGrw\", width=854, height=480, fs=1, rel=0)\n",
        "  print(\"Video available at https://youtube.com/watch?v=\" + video.id)\n",
        "  display(video)\n",
        "\n",
        "out = widgets.Tab([out1, out2])\n",
        "out.set_title(0, 'Youtube')\n",
        "out.set_title(1, 'Bilibili')\n",
        "\n",
        "# add timing to airtable\n",
        "atform.add_event('Video 3: Making Tensors')\n",
        "\n",
        "display(out)"
      ]
    },
    {
      "cell_type": "markdown",
      "metadata": {
        "id": "ex9azjQano9m"
      },
      "source": [
        "There are various ways of creating tensors, and when doing any real deep learning project, we will usually have to do so."
      ]
    },
    {
      "cell_type": "markdown",
      "metadata": {
        "id": "ssTtwMOAno9n"
      },
      "source": [
        "**Construct tensors directly:**\n",
        "\n",
        "---\n",
        "\n"
      ]
    },
    {
      "cell_type": "code",
      "execution_count": null,
      "metadata": {
        "colab": {
          "base_uri": "https://localhost:8080/"
        },
        "id": "ctB9T5cyno9n",
        "outputId": "e8e81e09-016a-49c7-be9a-1312ba9b18e0"
      },
      "outputs": [
        {
          "name": "stdout",
          "output_type": "stream",
          "text": [
            "Tensor a: tensor([0, 1, 2])\n",
            "Tensor b: tensor([[1.0000, 1.1000],\n",
            "        [1.2000, 1.3000]])\n",
            "Tensor c: tensor([[1., 1., 1.],\n",
            "        [1., 1., 1.]], dtype=torch.float64)\n"
          ]
        }
      ],
      "source": [
        "# We can construct a tensor directly from some common python iterables,\n",
        "# such as list and tuple nested iterables can also be handled as long as the\n",
        "# dimensions are compatible\n",
        "\n",
        "# tensor from a list\n",
        "a = torch.tensor([0, 1, 2])\n",
        "\n",
        "#tensor from a tuple of tuples\n",
        "b = ((1.0, 1.1), (1.2, 1.3))\n",
        "b = torch.tensor(b)\n",
        "\n",
        "# tensor from a numpy array\n",
        "c = np.ones([2, 3])\n",
        "c = torch.tensor(c)\n",
        "\n",
        "print(f\"Tensor a: {a}\")\n",
        "print(f\"Tensor b: {b}\")\n",
        "print(f\"Tensor c: {c}\")"
      ]
    },
    {
      "cell_type": "markdown",
      "metadata": {
        "id": "L30z85Usno9o"
      },
      "source": [
        "**Some common tensor constructors:**\n",
        "\n",
        "---"
      ]
    },
    {
      "cell_type": "code",
      "execution_count": null,
      "metadata": {
        "colab": {
          "base_uri": "https://localhost:8080/"
        },
        "id": "suap0QLeno9o",
        "outputId": "f6c2c470-d4b1-4286-c886-e37887fd32fd"
      },
      "outputs": [
        {
          "name": "stdout",
          "output_type": "stream",
          "text": [
            "Tensor x: tensor([[1., 1., 1.],\n",
            "        [1., 1., 1.],\n",
            "        [1., 1., 1.],\n",
            "        [1., 1., 1.],\n",
            "        [1., 1., 1.]])\n",
            "Tensor y: tensor([0., 0.])\n",
            "Tensor z: tensor([[[1.0683e-34, 0.0000e+00, 0.0000e+00, 1.8750e+00, 0.0000e+00]]])\n"
          ]
        }
      ],
      "source": [
        "# The numerical arguments we pass to these constructors\n",
        "# determine the shape of the output tensor\n",
        "\n",
        "x = torch.ones(5, 3)\n",
        "y = torch.zeros(2)\n",
        "z = torch.empty(1, 1, 5)\n",
        "print(f\"Tensor x: {x}\")\n",
        "print(f\"Tensor y: {y}\")\n",
        "print(f\"Tensor z: {z}\")"
      ]
    },
    {
      "cell_type": "markdown",
      "metadata": {
        "id": "C8R8tspUno9p"
      },
      "source": [
        "Notice that `.empty()` does not return zeros, but seemingly random numbers. Unlike `.zeros()`, which initialises the elements of the tensor with zeros, `.empty()` just allocates the memory. It is hence a bit faster if you are looking to just create a tensor."
      ]
    },
    {
      "cell_type": "markdown",
      "metadata": {
        "id": "nKViEl1dno9p"
      },
      "source": [
        "**Creating random tensors and tensors like other tensors:**\n",
        "\n",
        "---"
      ]
    },
    {
      "cell_type": "code",
      "execution_count": null,
      "metadata": {
        "colab": {
          "base_uri": "https://localhost:8080/"
        },
        "id": "uD4WpwnAno9q",
        "outputId": "2ee77be2-1351-4f7d-b6cc-13023bcc24c9"
      },
      "outputs": [
        {
          "name": "stdout",
          "output_type": "stream",
          "text": [
            "Tensor a: tensor([[0.0362, 0.1852, 0.3734]])\n",
            "Tensor b: tensor([[-0.9528,  0.3717,  0.4087,  1.4214],\n",
            "        [ 0.1494, -0.6709, -0.2142, -0.4320],\n",
            "        [-0.7079, -0.1064, -1.2427, -0.4762]])\n",
            "Tensor c: tensor([[0., 0., 0.]])\n",
            "Tensor d: tensor([[0.8352, 0.2056, 0.5932]])\n"
          ]
        }
      ],
      "source": [
        "# There are also constructors for random numbers\n",
        "\n",
        "# Uniform distribution\n",
        "a = torch.rand(1, 3)\n",
        "\n",
        "# Normal distribution\n",
        "b = torch.randn(3, 4)\n",
        "\n",
        "# There are also constructors that allow us to construct\n",
        "# a tensor according to the above constructors, but with\n",
        "# dimensions equal to another tensor.\n",
        "\n",
        "c = torch.zeros_like(a)\n",
        "d = torch.rand_like(c)\n",
        "\n",
        "print(f\"Tensor a: {a}\")\n",
        "print(f\"Tensor b: {b}\")\n",
        "print(f\"Tensor c: {c}\")\n",
        "print(f\"Tensor d: {d}\")"
      ]
    },
    {
      "cell_type": "markdown",
      "metadata": {
        "id": "SKY3cHEMno9r"
      },
      "source": [
        "*Reproducibility*: \n",
        "\n",
        "- PyTorch Random Number Generator (RNG): You can use `torch.manual_seed()` to seed the RNG for all devices (both CPU and GPU):\n",
        "\n",
        "```python\n",
        "import torch\n",
        "torch.manual_seed(0)\n",
        "```\n",
        "- For custom operators, you might need to set python seed as well:\n",
        "\n",
        "```python\n",
        "import random\n",
        "random.seed(0)\n",
        "```\n",
        "\n",
        "- Random number generators in other libraries (e.g., NumPy):\n",
        "\n",
        "```python\n",
        "import numpy as np\n",
        "np.random.seed(0)\n",
        "```"
      ]
    },
    {
      "cell_type": "markdown",
      "metadata": {
        "id": "Qsl8H8Qqno9r"
      },
      "source": [
        "Here, we define for you a function called `set_seed` that does the job for you!"
      ]
    },
    {
      "cell_type": "code",
      "execution_count": null,
      "metadata": {
        "id": "PfyoHGjZno9s"
      },
      "outputs": [],
      "source": [
        "def set_seed(seed=None, seed_torch=True):\n",
        "  \"\"\"\n",
        "  Function that controls randomness. NumPy and random modules must be imported.\n",
        "\n",
        "  Args:\n",
        "    seed : Integer\n",
        "      A non-negative integer that defines the random state. Default is `None`.\n",
        "    seed_torch : Boolean\n",
        "      If `True` sets the random seed for pytorch tensors, so pytorch module\n",
        "      must be imported. Default is `True`.\n",
        "\n",
        "  Returns:\n",
        "    Nothing.\n",
        "  \"\"\"\n",
        "  if seed is None:\n",
        "    seed = np.random.choice(2 ** 32)\n",
        "  random.seed(seed)\n",
        "  np.random.seed(seed)\n",
        "  if seed_torch:\n",
        "    torch.manual_seed(seed)\n",
        "    torch.cuda.manual_seed_all(seed)\n",
        "    torch.cuda.manual_seed(seed)\n",
        "    torch.backends.cudnn.benchmark = False\n",
        "    torch.backends.cudnn.deterministic = True\n",
        "\n",
        "  print(f'Random seed {seed} has been set.')"
      ]
    },
    {
      "cell_type": "markdown",
      "metadata": {
        "id": "5SUue1xIno9t"
      },
      "source": [
        "Now, let's use the `set_seed` function in the previous example. Execute the cell multiple times to verify that the numbers printed are always the same."
      ]
    },
    {
      "cell_type": "code",
      "execution_count": null,
      "metadata": {
        "id": "x9oTIJ6wno9t"
      },
      "outputs": [],
      "source": [
        "def simplefun(seed=True, my_seed=None):\n",
        "  \"\"\"\n",
        "  Helper function to verify effectiveness of set_seed attribute\n",
        "\n",
        "  Args:\n",
        "    seed: Boolean\n",
        "      Specifies if seed value is provided or not\n",
        "    my_seed: Integer\n",
        "      Initializes seed to specified value\n",
        "\n",
        "  Returns:\n",
        "    Nothing\n",
        "  \"\"\"\n",
        "  if seed:\n",
        "    set_seed(seed=my_seed)\n",
        "\n",
        "  # uniform distribution\n",
        "  a = torch.rand(1, 3)\n",
        "  # normal distribution\n",
        "  b = torch.randn(3, 4)\n",
        "\n",
        "  print(\"Tensor a: \", a)\n",
        "  print(\"Tensor b: \", b)"
      ]
    },
    {
      "cell_type": "code",
      "execution_count": null,
      "metadata": {
        "colab": {
          "base_uri": "https://localhost:8080/"
        },
        "id": "y0yG1W9bno9t",
        "outputId": "f723487c-94c2-4b65-ca45-9146b9b41cfb"
      },
      "outputs": [
        {
          "name": "stdout",
          "output_type": "stream",
          "text": [
            "Random seed 0 has been set.\n",
            "Tensor a:  tensor([[0.4963, 0.7682, 0.0885]])\n",
            "Tensor b:  tensor([[ 0.3643,  0.1344,  0.1642,  0.3058],\n",
            "        [ 0.2100,  0.9056,  0.6035,  0.8110],\n",
            "        [-0.0451,  0.8797,  1.0482, -0.0445]])\n"
          ]
        }
      ],
      "source": [
        "simplefun(seed=True, my_seed=0)  # Turn `seed` to `False` or change `my_seed`"
      ]
    },
    {
      "cell_type": "markdown",
      "metadata": {
        "id": "DwluP64ino9u"
      },
      "source": [
        "**Numpy-like number ranges:**\n",
        "---\n",
        "The ```.arange()``` and ```.linspace()``` behave how you would expect them to if you are familar with numpy."
      ]
    },
    {
      "cell_type": "code",
      "execution_count": null,
      "metadata": {
        "colab": {
          "base_uri": "https://localhost:8080/"
        },
        "id": "HA6Gw6nxno9u",
        "outputId": "82dba62e-c5de-4f34-b44d-c934de40a83e"
      },
      "outputs": [
        {
          "name": "stdout",
          "output_type": "stream",
          "text": [
            "Tensor a: tensor([0, 1, 2, 3, 4, 5, 6, 7, 8, 9])\n",
            "\n",
            "Numpy array b: [0 1 2 3 4 5 6 7 8 9]\n",
            "\n",
            "Tensor c: tensor([0.0000, 0.5000, 1.0000, 1.5000, 2.0000, 2.5000, 3.0000, 3.5000, 4.0000,\n",
            "        4.5000, 5.0000])\n",
            "\n",
            "Numpy array d: [0.  0.5 1.  1.5 2.  2.5 3.  3.5 4.  4.5 5. ]\n",
            "\n"
          ]
        }
      ],
      "source": [
        "a = torch.arange(0, 10, step=1)\n",
        "b = np.arange(0, 10, step=1)\n",
        "\n",
        "c = torch.linspace(0, 5, steps=11)\n",
        "d = np.linspace(0, 5, num=11)\n",
        "\n",
        "print(f\"Tensor a: {a}\\n\")\n",
        "print(f\"Numpy array b: {b}\\n\")\n",
        "print(f\"Tensor c: {c}\\n\")\n",
        "print(f\"Numpy array d: {d}\\n\")"
      ]
    },
    {
      "cell_type": "markdown",
      "metadata": {
        "id": "eMMDusIUno9u"
      },
      "source": [
        "### Coding Exercise 2.1: Creating Tensors\n",
        "\n",
        "Below you will find some incomplete code. Fill in the missing code to construct the specified tensors.\n",
        "\n",
        "We want the tensors: \n",
        "\n",
        "$A:$ 20 by 21 tensor consisting of ones\n",
        "\n",
        "$B:$ a tensor with elements equal to the elements of numpy array $Z$\n",
        "\n",
        "$C:$ a tensor with the same number of elements as $A$ but with values $\n",
        "\\sim \\mathcal{U}(0,1)^\\dagger$\n",
        "\n",
        "$D:$ a 1D tensor containing the even numbers between 4 and 40 inclusive.\n",
        "\n",
        "<br>\n",
        "\n",
        "$^\\dagger$: $\\mathcal{U(\\alpha, \\beta)}$ denotes the [uniform distribution](https://en.wikipedia.org/wiki/Continuous_uniform_distribution) from $\\alpha$ to $\\beta$, with $\\alpha, \\beta \\in \\mathbb{R}$.\n"
      ]
    },
    {
      "cell_type": "code",
      "execution_count": null,
      "metadata": {
        "colab": {
          "base_uri": "https://localhost:8080/"
        },
        "id": "DTIvssERno9v",
        "outputId": "14127e7e-de11-4e1d-8293-34b73f08146c"
      },
      "outputs": [
        {
          "name": "stdout",
          "output_type": "stream",
          "text": [
            "All correct\n"
          ]
        }
      ],
      "source": [
        "def tensor_creation(Z):\n",
        "  \"\"\"\n",
        "  A function that creates various tensors.\n",
        "\n",
        "  Args:\n",
        "    Z: numpy.ndarray\n",
        "      An array of shape (3,4)\n",
        "\n",
        "  Returns:\n",
        "    A : Tensor\n",
        "      20 by 21 tensor consisting of ones\n",
        "    B : Tensor\n",
        "      A tensor with elements equal to the elements of numpy array Z\n",
        "    C : Tensor\n",
        "      A tensor with the same number of elements as A but with values ∼U(0,1)\n",
        "    D : Tensor\n",
        "      A 1D tensor containing the even numbers between 4 and 40 inclusive.\n",
        "  \"\"\"\n",
        "  #################################################\n",
        "  ## TODO for students: fill in the missing code\n",
        "  ## from the first expression\n",
        "  #raise NotImplementedError(\"Student exercise: say what they should have done\")\n",
        "  #################################################\n",
        "  A = torch.ones(20,21)\n",
        "  B = torch.tensor(Z)\n",
        "  C = torch.rand_like(A)\n",
        "  D = torch.arange(4,41,step=2)\n",
        "\n",
        "  return A, B, C, D\n",
        "\n",
        "\n",
        "# add timing to airtable\n",
        "atform.add_event('Coding Exercise 2.1: Creating Tensors')\n",
        "\n",
        "\n",
        "\n",
        "# numpy array to copy later\n",
        "Z = np.vander([1, 2, 3], 4)\n",
        "\n",
        "# Uncomment below to check your function!\n",
        "A, B, C, D = tensor_creation(Z)\n",
        "checkExercise1(A, B, C, D)"
      ]
    },
    {
      "cell_type": "markdown",
      "metadata": {
        "id": "Jf2AZWBtno9v"
      },
      "source": [
        "[*Click for solution*](https://github.com/NeuromatchAcademy/course-content-dl/tree/main//tutorials/W1D1_BasicsAndPytorch/solutions/W1D1_Tutorial1_Solution_231162bb.py)\n",
        "\n"
      ]
    },
    {
      "cell_type": "markdown",
      "metadata": {
        "id": "gNUiSrrMno9w"
      },
      "source": [
        "```\n",
        "All correct!\n",
        "```"
      ]
    },
    {
      "cell_type": "markdown",
      "metadata": {
        "id": "ASGAajTGno9w"
      },
      "source": [
        "## Section 2.2: Operations in PyTorch\n",
        "\n",
        "**Tensor-Tensor operations**\n",
        "\n",
        "We can perform operations on tensors using methods under `torch.`"
      ]
    },
    {
      "cell_type": "code",
      "execution_count": null,
      "metadata": {
        "cellView": "form",
        "id": "vev2e6Ngno9w"
      },
      "outputs": [],
      "source": [
        "# @title Video 4: Tensor Operators\n",
        "from ipywidgets import widgets\n",
        "\n",
        "out2 = widgets.Output()\n",
        "with out2:\n",
        "  from IPython.display import IFrame\n",
        "  class BiliVideo(IFrame):\n",
        "    def __init__(self, id, page=1, width=400, height=300, **kwargs):\n",
        "      self.id=id\n",
        "      src = \"https://player.bilibili.com/player.html?bvid={0}&page={1}\".format(id, page)\n",
        "      super(BiliVideo, self).__init__(src, width, height, **kwargs)\n",
        "\n",
        "  video = BiliVideo(id=f\"BV1G44y127As\", width=854, height=480, fs=1)\n",
        "  print(\"Video available at https://www.bilibili.com/video/{0}\".format(video.id))\n",
        "  display(video)\n",
        "\n",
        "out1 = widgets.Output()\n",
        "with out1:\n",
        "  from IPython.display import YouTubeVideo\n",
        "  video = YouTubeVideo(id=f\"R1R8VoYXBVA\", width=854, height=480, fs=1, rel=0)\n",
        "  print(\"Video available at https://youtube.com/watch?v=\" + video.id)\n",
        "  display(video)\n",
        "\n",
        "out = widgets.Tab([out1, out2])\n",
        "out.set_title(0, 'Youtube')\n",
        "out.set_title(1, 'Bilibili')\n",
        "\n",
        "# add timing to airtable\n",
        "atform.add_event('Video 4: Tensor Operators')\n",
        "\n",
        "display(out)"
      ]
    },
    {
      "cell_type": "markdown",
      "metadata": {
        "id": "ESiyhCdJno9x"
      },
      "source": [
        "**Tensor-Tensor operations**\n",
        "\n",
        "We can perform operations on tensors using methods under `torch.`."
      ]
    },
    {
      "cell_type": "code",
      "execution_count": null,
      "metadata": {
        "colab": {
          "base_uri": "https://localhost:8080/"
        },
        "id": "prMFXSGTno9x",
        "outputId": "879006be-f4cd-4502-82bd-dbbe8c96e681"
      },
      "outputs": [
        {
          "name": "stdout",
          "output_type": "stream",
          "text": [
            "tensor([[1.6464, 1.5228, 1.0491],\n",
            "        [1.9147, 1.7692, 1.9970],\n",
            "        [1.7526, 1.1700, 1.9173],\n",
            "        [1.5269, 1.7371, 1.0991],\n",
            "        [1.3562, 1.0091, 1.3053]])\n",
            "tensor([[0.6464, 0.5228, 0.0491],\n",
            "        [0.9147, 0.7692, 0.9970],\n",
            "        [0.7526, 0.1700, 0.9173],\n",
            "        [0.5269, 0.7371, 0.0991],\n",
            "        [0.3562, 0.0091, 0.3053]])\n"
          ]
        }
      ],
      "source": [
        "a = torch.ones(5, 3)\n",
        "b = torch.rand(5, 3)\n",
        "c = torch.empty(5, 3)\n",
        "d = torch.empty(5, 3)\n",
        "\n",
        "# this only works if c and d already exist\n",
        "torch.add(a, b, out=c)\n",
        "\n",
        "# Pointwise Multiplication of a and b\n",
        "torch.multiply(a, b, out=d)\n",
        "\n",
        "print(c)\n",
        "print(d)"
      ]
    },
    {
      "cell_type": "markdown",
      "metadata": {
        "id": "nQBB_Vxgno9y"
      },
      "source": [
        "However, in PyTorch, most common Python operators are overridden.\n",
        "The common standard arithmetic operators ($+$, $-$, $*$, $/$, and $**$) have all been lifted to elementwise operations"
      ]
    },
    {
      "cell_type": "code",
      "execution_count": null,
      "metadata": {
        "colab": {
          "base_uri": "https://localhost:8080/"
        },
        "id": "B11y-1tOno9y",
        "outputId": "c1752082-8141-4fdd-ec80-2a0848473c2f"
      },
      "outputs": [
        {
          "data": {
            "text/plain": [
              "(tensor([ 2,  4,  7, 12]),\n",
              " tensor([0, 0, 1, 4]),\n",
              " tensor([ 1,  4, 12, 32]),\n",
              " tensor([1.0000, 1.0000, 1.3333, 2.0000]),\n",
              " tensor([   1,    4,   64, 4096]))"
            ]
          },
          "execution_count": 37,
          "metadata": {},
          "output_type": "execute_result"
        }
      ],
      "source": [
        "x = torch.tensor([1, 2, 4, 8])\n",
        "y = torch.tensor([1, 2, 3, 4])\n",
        "x + y, x - y, x * y, x / y, x**y  # The `**` is the exponentiation operator"
      ]
    },
    {
      "cell_type": "markdown",
      "metadata": {
        "id": "2w2tTJr3no9y"
      },
      "source": [
        "**Tensor Methods**"
      ]
    },
    {
      "cell_type": "markdown",
      "metadata": {
        "id": "gV0wded6no9y"
      },
      "source": [
        "Tensors also have a number of common arithmetic operations built in. A full list of **all** methods can be found  in the appendix (there are a lot!) \n",
        "\n",
        "All of these operations should have similar syntax to their numpy equivalents (feel free to skip if you already know this!)."
      ]
    },
    {
      "cell_type": "code",
      "execution_count": null,
      "metadata": {
        "colab": {
          "base_uri": "https://localhost:8080/"
        },
        "id": "kifXaXqEno9z",
        "outputId": "21f8cdcd-2c02-48d2-d440-df5e08817c09"
      },
      "outputs": [
        {
          "name": "stdout",
          "output_type": "stream",
          "text": [
            "tensor([[0.6079, 0.1074, 0.6594],\n",
            "        [0.7684, 0.5697, 0.1655],\n",
            "        [0.1123, 0.3457, 0.7195]])\n",
            "\n",
            "\n",
            "Sum of every element of x: 4.055744171142578\n",
            "Sum of the columns of x: tensor([1.4886, 1.0228, 1.5443])\n",
            "Sum of the rows of x: tensor([1.3747, 1.5035, 1.1776])\n",
            "\n",
            "\n",
            "Mean value of all elements of x 0.4506382346153259\n",
            "Mean values of the columns of x tensor([0.4962, 0.3409, 0.5148])\n",
            "Mean values of the rows of x tensor([0.4582, 0.5012, 0.3925])\n"
          ]
        }
      ],
      "source": [
        "x = torch.rand(3, 3)\n",
        "print(x)\n",
        "print(\"\\n\")\n",
        "# sum() - note the axis is the axis you move across when summing\n",
        "print(f\"Sum of every element of x: {x.sum()}\")\n",
        "print(f\"Sum of the columns of x: {x.sum(axis=0)}\")\n",
        "print(f\"Sum of the rows of x: {x.sum(axis=1)}\")\n",
        "print(\"\\n\")\n",
        "\n",
        "print(f\"Mean value of all elements of x {x.mean()}\")\n",
        "print(f\"Mean values of the columns of x {x.mean(axis=0)}\")\n",
        "print(f\"Mean values of the rows of x {x.mean(axis=1)}\")"
      ]
    },
    {
      "cell_type": "markdown",
      "metadata": {
        "id": "MITrgJnjno9z"
      },
      "source": [
        "**Matrix Operations**\n",
        "\n",
        "The `@` symbol is overridden to represent matrix multiplication. You can also use `torch.matmul()` to multiply tensors. For dot multiplication, you can use `torch.dot()`, or manipulate the axes of your tensors and do matrix multiplication (we will cover that in the next section). \n",
        "\n",
        "Transposes of 2D tensors are obtained using `torch.t()` or `Tensor.T`. Note the lack of brackets for `Tensor.T` - it is an attribute, not a method.\n",
        "\n"
      ]
    },
    {
      "cell_type": "markdown",
      "metadata": {
        "id": "87r2SllYno91"
      },
      "source": [
        "### Coding Exercise 2.2 : Simple tensor operations\n",
        "\n",
        "Below are two expressions involving operations on matrices. \n",
        "\n",
        "\\begin{equation}\n",
        "\\textbf{A} = \n",
        "\\begin{bmatrix}2 &4 \\\\5 & 7 \n",
        "\\end{bmatrix} \n",
        "\\begin{bmatrix} 1 &1 \\\\2 & 3\n",
        "\\end{bmatrix} \n",
        "+ \n",
        "\\begin{bmatrix}10 & 10  \\\\ 12 & 1 \n",
        "\\end{bmatrix} \n",
        "\\end{equation}\n",
        "\n",
        "\n",
        "and\n",
        "\n",
        "\n",
        "\\begin{equation}\n",
        "b = \n",
        "\\begin{bmatrix} 3 \\\\ 5 \\\\ 7\n",
        "\\end{bmatrix} \\cdot \n",
        "\\begin{bmatrix} 2 \\\\ 4 \\\\ 8\n",
        "\\end{bmatrix}\n",
        "\\end{equation}\n",
        "\n",
        "The code block below that computes these expressions using PyTorch is incomplete - fill in the missing lines."
      ]
    },
    {
      "cell_type": "code",
      "execution_count": null,
      "metadata": {
        "colab": {
          "base_uri": "https://localhost:8080/"
        },
        "id": "YQN4y2-lno91",
        "outputId": "f3589079-23b4-403c-c3ca-199706c28a63"
      },
      "outputs": [
        {
          "name": "stdout",
          "output_type": "stream",
          "text": [
            "tensor([[20, 24],\n",
            "        [31, 27]])\n"
          ]
        }
      ],
      "source": [
        "def simple_operations(a1: torch.Tensor, a2: torch.Tensor, a3: torch.Tensor):\n",
        "  \"\"\"\n",
        "  Helper function to demonstrate simple operations\n",
        "  i.e., Multiplication of tensor a1 with tensor a2 and then add it with tensor a3\n",
        "\n",
        "  Args:\n",
        "    a1: Torch tensor\n",
        "      Tensor of size ([2,2])\n",
        "    a2: Torch tensor\n",
        "      Tensor of size ([2,2])\n",
        "    a3: Torch tensor\n",
        "      Tensor of size ([2,2])\n",
        "\n",
        "  Returns:\n",
        "    answer: Torch tensor\n",
        "      Tensor of size ([2,2]) resulting from a1 multiplied with a2, added with a3\n",
        "  \"\"\"\n",
        "  ################################################\n",
        "  ## TODO for students:  complete the first computation using the argument matricies\n",
        "  #raise NotImplementedError(\"Student exercise: fill in the missing code to complete the operation\")\n",
        "  ################################################\n",
        "  #\n",
        "  answer = a1@a2 + a3\n",
        "  return answer\n",
        "\n",
        "# add timing to airtable\n",
        "atform.add_event('Coding Exercise 2.2 : Simple tensor operations-simple_operations')\n",
        "\n",
        "# Computing expression 1:\n",
        "\n",
        "# init our tensors\n",
        "a1 = torch.tensor([[2, 4], [5, 7]])\n",
        "a2 = torch.tensor([[1, 1], [2, 3]])\n",
        "a3 = torch.tensor([[10, 10], [12, 1]])\n",
        "## uncomment to test your function\n",
        "A = simple_operations(a1, a2, a3)\n",
        "print(A)"
      ]
    },
    {
      "cell_type": "markdown",
      "metadata": {
        "id": "p6yZIrBxno92"
      },
      "source": [
        "[*Click for solution*](https://github.com/NeuromatchAcademy/course-content-dl/tree/main//tutorials/W1D1_BasicsAndPytorch/solutions/W1D1_Tutorial1_Solution_665fc374.py)\n",
        "\n"
      ]
    },
    {
      "cell_type": "markdown",
      "metadata": {
        "id": "ctNIFNuBno93"
      },
      "source": [
        "```\n",
        "tensor([[20, 24],\n",
        "        [31, 27]])\n",
        "```"
      ]
    },
    {
      "cell_type": "code",
      "execution_count": null,
      "metadata": {
        "colab": {
          "base_uri": "https://localhost:8080/"
        },
        "id": "pjzSb9sUno93",
        "outputId": "c29a05d6-0e3a-46e6-a958-0a33ce778da6"
      },
      "outputs": [
        {
          "name": "stdout",
          "output_type": "stream",
          "text": [
            "tensor(82)\n"
          ]
        }
      ],
      "source": [
        "def dot_product(b1: torch.Tensor, b2: torch.Tensor):\n",
        "  ###############################################\n",
        "  ## TODO for students:  complete the first computation using the argument matricies\n",
        "  #raise NotImplementedError(\"Student exercise: fill in the missing code to complete the operation\")\n",
        "  ###############################################\n",
        "  \"\"\"\n",
        "  Helper function to demonstrate dot product operation\n",
        "  Dot product is an algebraic operation that takes two equal-length sequences\n",
        "  (usually coordinate vectors), and returns a single number.\n",
        "  Geometrically, it is the product of the Euclidean magnitudes of the\n",
        "  two vectors and the cosine of the angle between them.\n",
        "\n",
        "  Args:\n",
        "    b1: Torch tensor\n",
        "      Tensor of size ([3])\n",
        "    b2: Torch tensor\n",
        "      Tensor of size ([3])\n",
        "\n",
        "  Returns:\n",
        "    product: Tensor\n",
        "      Tensor of size ([1]) resulting from b1 scalar multiplied with b2\n",
        "  \"\"\"\n",
        "  # Use torch.dot() to compute the dot product of two tensors\n",
        "  product = torch.dot(b1, b2)\n",
        "  return product\n",
        "\n",
        "# add timing to airtable\n",
        "atform.add_event('Coding Exercise 2.2 : Simple tensor operations-dot_product')\n",
        "\n",
        "\n",
        "# Computing expression 2:\n",
        "b1 = torch.tensor([3, 5, 7])\n",
        "b2 = torch.tensor([2, 4, 8])\n",
        "## Uncomment to test your function\n",
        "b = dot_product(b1, b2)\n",
        "print(b)"
      ]
    },
    {
      "cell_type": "markdown",
      "metadata": {
        "id": "3BSRGubHno94"
      },
      "source": [
        "[*Click for solution*](https://github.com/NeuromatchAcademy/course-content-dl/tree/main//tutorials/W1D1_BasicsAndPytorch/solutions/W1D1_Tutorial1_Solution_d43f1ed4.py)\n",
        "\n"
      ]
    },
    {
      "cell_type": "markdown",
      "metadata": {
        "id": "i8e7Ev4Gno94"
      },
      "source": [
        "```\n",
        "tensor(82)\n",
        "```"
      ]
    },
    {
      "cell_type": "markdown",
      "metadata": {
        "id": "r8bV__y9no95"
      },
      "source": [
        "## Section 2.3 Manipulating Tensors in Pytorch"
      ]
    },
    {
      "cell_type": "code",
      "execution_count": null,
      "metadata": {
        "cellView": "form",
        "id": "aif3eysgno95"
      },
      "outputs": [],
      "source": [
        "# @title Video 5: Tensor Indexing\n",
        "from ipywidgets import widgets\n",
        "\n",
        "out2 = widgets.Output()\n",
        "with out2:\n",
        "  from IPython.display import IFrame\n",
        "  class BiliVideo(IFrame):\n",
        "    def __init__(self, id, page=1, width=400, height=300, **kwargs):\n",
        "      self.id=id\n",
        "      src = \"https://player.bilibili.com/player.html?bvid={0}&page={1}\".format(id, page)\n",
        "      super(BiliVideo, self).__init__(src, width, height, **kwargs)\n",
        "\n",
        "  video = BiliVideo(id=f\"BV1BM4y1K7pD\", width=854, height=480, fs=1)\n",
        "  print(\"Video available at https://www.bilibili.com/video/{0}\".format(video.id))\n",
        "  display(video)\n",
        "\n",
        "out1 = widgets.Output()\n",
        "with out1:\n",
        "  from IPython.display import YouTubeVideo\n",
        "  video = YouTubeVideo(id=f\"0d0KSJ3lJbg\", width=854, height=480, fs=1, rel=0)\n",
        "  print(\"Video available at https://youtube.com/watch?v=\" + video.id)\n",
        "  display(video)\n",
        "\n",
        "out = widgets.Tab([out1, out2])\n",
        "out.set_title(0, 'Youtube')\n",
        "out.set_title(1, 'Bilibili')\n",
        "\n",
        "# add timing to airtable\n",
        "atform.add_event('Video 5: Tensor Indexing')\n",
        "\n",
        "display(out)"
      ]
    },
    {
      "cell_type": "markdown",
      "metadata": {
        "id": "7bBuUdtnno95"
      },
      "source": [
        "**Indexing**\n",
        "\n",
        "Just as in numpy, elements in a tensor can be accessed by index. As in any numpy array, the first element has index 0 and ranges are specified to include the first to last_element-1. We can access elements according to their relative position to the end of the list by using negative indices. Indexing is also referred to as slicing.\n",
        "\n",
        "For example, `[-1]` selects the last element; `[1:3]` selects the second and the third elements, and `[:-2]` will select all elements excluding the last and second-to-last elements."
      ]
    },
    {
      "cell_type": "code",
      "execution_count": null,
      "metadata": {
        "colab": {
          "base_uri": "https://localhost:8080/"
        },
        "id": "LS-xhCcmno96",
        "outputId": "cf73758e-fb52-4d41-9282-9023b32aec45"
      },
      "outputs": [
        {
          "name": "stdout",
          "output_type": "stream",
          "text": [
            "tensor([0, 1, 2, 3, 4, 5, 6, 7, 8, 9])\n",
            "tensor(9)\n",
            "tensor([1, 2])\n",
            "tensor([0, 1, 2, 3, 4, 5, 6, 7])\n"
          ]
        }
      ],
      "source": [
        "x = torch.arange(0, 10)\n",
        "print(x)\n",
        "print(x[-1])\n",
        "print(x[1:3])\n",
        "print(x[:-2])"
      ]
    },
    {
      "cell_type": "markdown",
      "metadata": {
        "id": "9wuziAYXno96"
      },
      "source": [
        "When we have multidimensional tensors, indexing rules work the same way as NumPy."
      ]
    },
    {
      "cell_type": "code",
      "execution_count": null,
      "metadata": {
        "colab": {
          "base_uri": "https://localhost:8080/"
        },
        "id": "_L6d2N1Gno96",
        "outputId": "d0a9ef6a-8d00-49b1-ca2c-e4cf21d6cbcf"
      },
      "outputs": [
        {
          "name": "stdout",
          "output_type": "stream",
          "text": [
            " shape of x[0]:torch.Size([2, 3, 4, 5])\n",
            " shape of x[0][0]:torch.Size([3, 4, 5])\n",
            " shape of x[0][0][0]:torch.Size([4, 5])\n"
          ]
        }
      ],
      "source": [
        "# make a 5D tensor\n",
        "x = torch.rand(1, 2, 3, 4, 5)\n",
        "\n",
        "print(f\" shape of x[0]:{x[0].shape}\")\n",
        "print(f\" shape of x[0][0]:{x[0][0].shape}\")\n",
        "print(f\" shape of x[0][0][0]:{x[0][0][0].shape}\")"
      ]
    },
    {
      "cell_type": "markdown",
      "metadata": {
        "id": "C8345uzOno97"
      },
      "source": [
        "**Flatten and reshape**\n",
        "\n",
        "There are various methods for reshaping tensors. It is common to have to express 2D data in 1D format. Similarly, it is also common to have to reshape a 1D tensor into a 2D tensor. We can achieve this with the `.flatten()` and `.reshape()` methods."
      ]
    },
    {
      "cell_type": "code",
      "execution_count": null,
      "metadata": {
        "colab": {
          "base_uri": "https://localhost:8080/"
        },
        "id": "VGbT2vwXno97",
        "outputId": "ebe67a00-17b4-4c58-8e88-83dc46758fbe"
      },
      "outputs": [
        {
          "name": "stdout",
          "output_type": "stream",
          "text": [
            "Original z: \n",
            " tensor([[ 0,  1],\n",
            "        [ 2,  3],\n",
            "        [ 4,  5],\n",
            "        [ 6,  7],\n",
            "        [ 8,  9],\n",
            "        [10, 11]])\n",
            "Flattened z: \n",
            " tensor([ 0,  1,  2,  3,  4,  5,  6,  7,  8,  9, 10, 11])\n",
            "Reshaped (3x4) z: \n",
            " tensor([[ 0,  1,  2,  3],\n",
            "        [ 4,  5,  6,  7],\n",
            "        [ 8,  9, 10, 11]])\n"
          ]
        }
      ],
      "source": [
        "z = torch.arange(12).reshape(6, 2)\n",
        "print(f\"Original z: \\n {z}\")\n",
        "\n",
        "# 2D -> 1D\n",
        "z = z.flatten()\n",
        "print(f\"Flattened z: \\n {z}\")\n",
        "\n",
        "# and back to 2D\n",
        "z = z.reshape(3, 4)\n",
        "print(f\"Reshaped (3x4) z: \\n {z}\")"
      ]
    },
    {
      "cell_type": "markdown",
      "metadata": {
        "id": "v5D1pwnkno97"
      },
      "source": [
        "You will also see the `.view()` methods used a lot to reshape tensors. There is a subtle difference between `.view()` and `.reshape()`, though for now we will just use `.reshape()`. The documentation can be found in the Appendix."
      ]
    },
    {
      "cell_type": "markdown",
      "metadata": {
        "id": "a7cDckzRno98"
      },
      "source": [
        "**Squeezing tensors**\n",
        "\n",
        "When processing batches of data, you will quite often be left with singleton dimensions. E.g., `[1,10]` or `[256, 1, 3]`. This dimension can quite easily mess up your matrix operations if you don't plan on it being there...\n",
        "\n",
        "In order to compress tensors along their singleton dimensions we can use the `.squeeze()` method. We can use the `.unsqueeze()` method to do the opposite."
      ]
    },
    {
      "cell_type": "code",
      "execution_count": null,
      "metadata": {
        "colab": {
          "base_uri": "https://localhost:8080/"
        },
        "id": "9WWFdnDcno98",
        "outputId": "feae5bce-0a20-4673-a3cf-ffc3529e2bc2"
      },
      "outputs": [
        {
          "name": "stdout",
          "output_type": "stream",
          "text": [
            "torch.Size([1, 10])\n",
            "x[0]: tensor([-1.6057,  0.2758, -0.0624, -1.5593, -0.8883, -0.7485,  0.1456, -0.6005,\n",
            "         0.8546,  1.1705])\n"
          ]
        }
      ],
      "source": [
        "x = torch.randn(1, 10)\n",
        "# printing the zeroth element of the tensor will not give us the first number!\n",
        "\n",
        "print(x.shape)\n",
        "print(f\"x[0]: {x[0]}\")"
      ]
    },
    {
      "cell_type": "markdown",
      "metadata": {
        "id": "8RXEnYxcno98"
      },
      "source": [
        "Because of that pesky singleton dimension, `x[0]` gave us the first row instead!"
      ]
    },
    {
      "cell_type": "code",
      "execution_count": null,
      "metadata": {
        "colab": {
          "base_uri": "https://localhost:8080/"
        },
        "id": "mi2jXoWxno99",
        "outputId": "6d5cf180-237a-4218-868a-ed0619a151e7"
      },
      "outputs": [
        {
          "name": "stdout",
          "output_type": "stream",
          "text": [
            "torch.Size([10])\n",
            "x[0]: -1.6056749820709229\n"
          ]
        }
      ],
      "source": [
        "# Let's get rid of that singleton dimension and see what happens now\n",
        "x = x.squeeze(0)\n",
        "print(x.shape)\n",
        "print(f\"x[0]: {x[0]}\")"
      ]
    },
    {
      "cell_type": "code",
      "execution_count": null,
      "metadata": {
        "colab": {
          "base_uri": "https://localhost:8080/"
        },
        "id": "CXtbpscOno99",
        "outputId": "5a1ecb86-9177-421c-bddf-b4b3f4e87714"
      },
      "outputs": [
        {
          "name": "stdout",
          "output_type": "stream",
          "text": [
            "Shape of y: torch.Size([5, 5])\n",
            "Shape of y: torch.Size([5, 1, 5])\n"
          ]
        }
      ],
      "source": [
        "# Adding singleton dimensions works a similar way, and is often used when tensors\n",
        "# being added need same number of dimensions\n",
        "\n",
        "y = torch.randn(5, 5)\n",
        "print(f\"Shape of y: {y.shape}\")\n",
        "\n",
        "# lets insert a singleton dimension\n",
        "y = y.unsqueeze(1)\n",
        "print(f\"Shape of y: {y.shape}\")"
      ]
    },
    {
      "cell_type": "markdown",
      "metadata": {
        "id": "Ci41r01tno9-"
      },
      "source": [
        "**Permutation**\n",
        "\n",
        "Sometimes our dimensions will be in the wrong order! For example, we may be dealing with RGB images with dim $[3\\times48\\times64]$, but our pipeline expects the colour dimension to be the last dimension, i.e., $[48\\times64\\times3]$. To get around this we can use the `.permute()` method."
      ]
    },
    {
      "cell_type": "code",
      "execution_count": null,
      "metadata": {
        "colab": {
          "base_uri": "https://localhost:8080/"
        },
        "id": "JaCsMvOyno9-",
        "outputId": "06c641bc-bfa9-4196-c9bd-41412d2f87ca"
      },
      "outputs": [
        {
          "name": "stdout",
          "output_type": "stream",
          "text": [
            "torch.Size([48, 64, 3])\n"
          ]
        }
      ],
      "source": [
        "# `x` has dimensions [color,image_height,image_width]\n",
        "x = torch.rand(3, 48, 64)\n",
        "\n",
        "# We want to permute our tensor to be [ image_height , image_width , color ]\n",
        "x = x.permute(1, 2, 0)\n",
        "# permute(1,2,0) means:\n",
        "# The 0th dim of my new tensor = the 1st dim of my old tensor\n",
        "# The 1st dim of my new tensor = the 2nd\n",
        "# The 2nd dim of my new tensor = the 0th\n",
        "print(x.shape)"
      ]
    },
    {
      "cell_type": "markdown",
      "metadata": {
        "id": "psChQVNqno9_"
      },
      "source": [
        "You may also see `.transpose()` used. This works in a similar way as permute, but can only swap two dimensions at once."
      ]
    },
    {
      "cell_type": "markdown",
      "metadata": {
        "id": "ialBGQn8no9_"
      },
      "source": [
        "**Concatenation**"
      ]
    },
    {
      "cell_type": "markdown",
      "metadata": {
        "id": "57IxCz3Fno9_"
      },
      "source": [
        "In this example, we concatenate two matrices along rows (axis 0, the first element of the shape) vs. columns (axis 1, the second element of the shape). We can see that the first output tensor’s axis-0 length (`6`) is the sum of the two input tensors’ axis-0 lengths (`3+3`); while the second output tensor’s axis-1 length (`8`) is the sum of the two input tensors’ axis-1 lengths (`4+4`)."
      ]
    },
    {
      "cell_type": "code",
      "execution_count": null,
      "metadata": {
        "colab": {
          "base_uri": "https://localhost:8080/"
        },
        "id": "fOVjQeOCno9_",
        "outputId": "09af3fd3-8bf4-432a-9553-29ba1f518c1c"
      },
      "outputs": [
        {
          "name": "stdout",
          "output_type": "stream",
          "text": [
            "Concatenated by rows: shape[6, 4] \n",
            " tensor([[ 0.,  1.,  2.,  3.],\n",
            "        [ 4.,  5.,  6.,  7.],\n",
            "        [ 8.,  9., 10., 11.],\n",
            "        [ 2.,  1.,  4.,  3.],\n",
            "        [ 1.,  2.,  3.,  4.],\n",
            "        [ 4.,  3.,  2.,  1.]])\n",
            "\n",
            " Concatenated by colums: shape[3, 8]  \n",
            " tensor([[ 0.,  1.,  2.,  3.,  2.,  1.,  4.,  3.],\n",
            "        [ 4.,  5.,  6.,  7.,  1.,  2.,  3.,  4.],\n",
            "        [ 8.,  9., 10., 11.,  4.,  3.,  2.,  1.]])\n"
          ]
        }
      ],
      "source": [
        "# Create two tensors of the same shape\n",
        "x = torch.arange(12, dtype=torch.float32).reshape((3, 4))\n",
        "y = torch.tensor([[2.0, 1, 4, 3], [1, 2, 3, 4], [4, 3, 2, 1]])\n",
        "\n",
        "\n",
        "# Concatenate along rows\n",
        "cat_rows = torch.cat((x, y), dim=0)\n",
        "\n",
        "# Concatenate along columns\n",
        "cat_cols = torch.cat((x, y), dim=1)\n",
        "\n",
        "# Printing outputs\n",
        "print('Concatenated by rows: shape{} \\n {}'.format(list(cat_rows.shape), cat_rows))\n",
        "print('\\n Concatenated by colums: shape{}  \\n {}'.format(list(cat_cols.shape), cat_cols))"
      ]
    },
    {
      "cell_type": "markdown",
      "metadata": {
        "id": "hDuV40rkno-A"
      },
      "source": [
        "**Conversion to Other Python Objects**\n",
        "\n",
        "Converting a tensor to a numpy.ndarray, or vice versa, is easy, and the converted result does not share memory. This minor inconvenience is quite important: when you perform operations on the CPU or GPUs, you do not want to halt computation, waiting to see whether the NumPy package of Python might want to be doing something else with the same chunk of memory.\n",
        "\n",
        "When converting to a NumPy array, the information being tracked by the tensor will be lost, i.e., the computational graph. This will be covered in detail when you are introduced to autograd tomorrow!"
      ]
    },
    {
      "cell_type": "code",
      "execution_count": null,
      "metadata": {
        "colab": {
          "base_uri": "https://localhost:8080/"
        },
        "id": "cPQ6fES6no-A",
        "outputId": "c05f376d-24b3-4926-c2d5-b5306ecff97f"
      },
      "outputs": [
        {
          "name": "stdout",
          "output_type": "stream",
          "text": [
            "x: tensor([-0.7949, -0.6363, -0.4989, -1.0087,  0.0959])  |  x type:  torch.FloatTensor\n",
            "y: [-0.79485005 -0.63629615 -0.49894938 -1.0087104   0.09593379]  |  y type:  <class 'numpy.ndarray'>\n",
            "z: tensor([-0.7949, -0.6363, -0.4989, -1.0087,  0.0959])  |  z type:  torch.FloatTensor\n"
          ]
        }
      ],
      "source": [
        "x = torch.randn(5)\n",
        "print(f\"x: {x}  |  x type:  {x.type()}\")\n",
        "\n",
        "y = x.numpy()\n",
        "print(f\"y: {y}  |  y type:  {type(y)}\")\n",
        "\n",
        "z = torch.tensor(y)\n",
        "print(f\"z: {z}  |  z type:  {z.type()}\")"
      ]
    },
    {
      "cell_type": "markdown",
      "metadata": {
        "id": "oy6-DxSYno-A"
      },
      "source": [
        "To convert a size-1 tensor to a Python scalar, we can invoke the item function or Python’s built-in functions."
      ]
    },
    {
      "cell_type": "code",
      "execution_count": null,
      "metadata": {
        "colab": {
          "base_uri": "https://localhost:8080/"
        },
        "id": "NrNKYw-Tno-B",
        "outputId": "c825c453-ef57-4a4e-c10b-32964e881a28"
      },
      "outputs": [
        {
          "data": {
            "text/plain": [
              "(tensor([3.5000]), 3.5, 3.5, 3)"
            ]
          },
          "execution_count": 52,
          "metadata": {},
          "output_type": "execute_result"
        }
      ],
      "source": [
        "a = torch.tensor([3.5])\n",
        "a, a.item(), float(a), int(a)"
      ]
    },
    {
      "cell_type": "markdown",
      "metadata": {
        "id": "sGhllKjjno-B"
      },
      "source": [
        "### Coding Exercise 2.3: Manipulating Tensors\n",
        "Using a combination of the methods discussed above, complete the functions below."
      ]
    },
    {
      "cell_type": "markdown",
      "metadata": {
        "id": "zGQ3phklno-B"
      },
      "source": [
        "**Function A** \n",
        "\n",
        "This function takes in two 2D tensors $A$ and $B$ and returns the column sum of A multiplied by the sum of all the elmements of $B$, i.e., a scalar, e.g.,\n",
        "\n",
        "\\begin{equation}\n",
        "  \\text{If }\n",
        "  A = \\begin{bmatrix}\n",
        "  1 & 1 \\\\\n",
        "  1 & 1\n",
        "  \\end{bmatrix}\n",
        "  \\text{and }\n",
        "  B = \\begin{bmatrix}\n",
        "  1 & 2 & 3 \\\\\n",
        "  1 & 2 & 3\n",
        "  \\end{bmatrix}\n",
        "  \\text{ then }\n",
        "  Out =  \\begin{bmatrix}\n",
        "  2 & 2\n",
        "  \\end{bmatrix} \\cdot 12 = \\begin{bmatrix}\n",
        "  24 & 24\n",
        "  \\end{bmatrix}\n",
        "\\end{equation}\n",
        "\n",
        "**Function B** \n",
        "\n",
        "This function takes in a square matrix $C$ and returns a 2D tensor consisting of a flattened $C$ with the index of each element appended to this tensor in the row dimension, e.g.,\n",
        "\n",
        "\\begin{equation}\n",
        "  \\text{If }\n",
        "  C = \\begin{bmatrix}\n",
        "  2 & 3 \\\\\n",
        "  -1 & 10\n",
        "  \\end{bmatrix}\n",
        "  \\text{ then }\n",
        "  Out = \\begin{bmatrix}\n",
        "  0 & 2 \\\\\n",
        "  1 & 3 \\\\\n",
        "  2 & -1 \\\\\n",
        "  3 & 10\n",
        "  \\end{bmatrix}\n",
        "\\end{equation}\n",
        "\n",
        "**Hint:** Pay close attention to singleton dimensions.\n",
        "\n",
        "**Function C**\n",
        "\n",
        "This function takes in two 2D tensors $D$ and $E$. If the dimensions allow it, this function returns the elementwise sum of $D$-shaped $E$, and $D$; else this function returns a 1D tensor that is the concatenation of the two tensors, e.g.,\n",
        "\n",
        "\\begin{equation}\n",
        "  \\text{If }\n",
        "  D = \\begin{bmatrix}\n",
        "  1 & -1 \\\\\n",
        "  -1 & 3\n",
        "  \\end{bmatrix}\n",
        "  \\text{and } \n",
        "  E = \\begin{bmatrix}\n",
        "  2 & 3 & 0 & 2 \\\\\n",
        "  \\end{bmatrix}\n",
        "  \\text{ then } \n",
        "  Out = \\begin{bmatrix}\n",
        "  3 & 2 \\\\\n",
        "  -1 & 5\n",
        "  \\end{bmatrix}\n",
        "\\end{equation}\n",
        "\n",
        "<br>\n",
        "\n",
        "\\begin{equation}\n",
        "  \\text{If }\n",
        "  D = \\begin{bmatrix}\n",
        "  1 & -1 \\\\\n",
        "  -1 & 3\n",
        "  \\end{bmatrix}\n",
        "  \\text{and }\n",
        "  E = \\begin{bmatrix}\n",
        "  2 & 3 & 0  \\\\\n",
        "  \\end{bmatrix}\n",
        "  \\text{ then }\n",
        "  Out = \\begin{bmatrix}\n",
        "  1 & -1 & -1 & 3  & 2 & 3 & 0  \n",
        "  \\end{bmatrix}\n",
        "\\end{equation}\n",
        "\n",
        "<br>\n",
        "\n",
        "**Hint:** `torch.numel()` is an easy way of finding the number of elements in a tensor."
      ]
    },
    {
      "cell_type": "code",
      "execution_count": null,
      "metadata": {
        "colab": {
          "background_save": true
        },
        "id": "fz-KI5ajno-C",
        "outputId": "a879b56c-fb43-4eff-ca6d-d77e0276b3ac"
      },
      "outputs": [
        {
          "ename": "NameError",
          "evalue": "ignored",
          "output_type": "error",
          "traceback": [
            "\u001b[0;31m---------------------------------------------------------------------------\u001b[0m",
            "\u001b[0;31mNameError\u001b[0m                                 Traceback (most recent call last)",
            "\u001b[0;32m<ipython-input-1-3a03dffd8ddb>\u001b[0m in \u001b[0;36m<module>\u001b[0;34m()\u001b[0m\n\u001b[1;32m     88\u001b[0m \u001b[0;34m\u001b[0m\u001b[0m\n\u001b[1;32m     89\u001b[0m \u001b[0;31m# add timing to airtable\u001b[0m\u001b[0;34m\u001b[0m\u001b[0;34m\u001b[0m\u001b[0;34m\u001b[0m\u001b[0m\n\u001b[0;32m---> 90\u001b[0;31m \u001b[0matform\u001b[0m\u001b[0;34m.\u001b[0m\u001b[0madd_event\u001b[0m\u001b[0;34m(\u001b[0m\u001b[0;34m'Coding Exercise 2.3: Manipulating Tensors'\u001b[0m\u001b[0;34m)\u001b[0m\u001b[0;34m\u001b[0m\u001b[0;34m\u001b[0m\u001b[0m\n\u001b[0m\u001b[1;32m     91\u001b[0m \u001b[0;34m\u001b[0m\u001b[0m\n\u001b[1;32m     92\u001b[0m \u001b[0;34m\u001b[0m\u001b[0m\n",
            "\u001b[0;31mNameError\u001b[0m: name 'atform' is not defined"
          ]
        }
      ],
      "source": [
        "def functionA(my_tensor1, my_tensor2):\n",
        "  \"\"\"\n",
        "  This function takes in two 2D tensors `my_tensor1` and `my_tensor2`\n",
        "  and returns the column sum of\n",
        "  `my_tensor1` multiplied by the sum of all the elmements of `my_tensor2`,\n",
        "  i.e., a scalar.\n",
        "\n",
        "  Args:\n",
        "    my_tensor1: torch.Tensor\n",
        "    my_tensor2: torch.Tensor\n",
        "\n",
        "  Retuns:\n",
        "    output: torch.Tensor\n",
        "      The multiplication of the column sum of `my_tensor1` by the sum of\n",
        "      `my_tensor2`.\n",
        "  \"\"\"\n",
        "  ################################################\n",
        "  ## TODO for students: complete functionA\n",
        "  # raise NotImplementedError(\"Student exercise: complete function A\")\n",
        "  ################################################\n",
        "  # TODO multiplication the sum of the tensors\n",
        "  output = my_tensor1.sum(axis=0) * my_tensor2.sum()\n",
        "\n",
        "  return output\n",
        "\n",
        "\n",
        "def functionB(my_tensor):\n",
        "  \"\"\"\n",
        "  This function takes in a square matrix `my_tensor` and returns a 2D tensor\n",
        "  consisting of a flattened `my_tensor` with the index of each element\n",
        "  appended to this tensor in the row dimension.\n",
        "\n",
        "  Args:\n",
        "    my_tensor: torch.Tensor\n",
        "\n",
        "  Returns:\n",
        "    output: torch.Tensor\n",
        "      Concatenated tensor.\n",
        "  \"\"\"\n",
        "  ################################################\n",
        "  ## TODO for students: complete functionB\n",
        "  raise NotImplementedError(\"Student exercise: complete function B\")\n",
        "  ################################################\n",
        "  # TODO flatten the tensor `my_tensor`\n",
        "  my_tensor = ...\n",
        "  # TODO create the idx tensor to be concatenated to `my_tensor`\n",
        "  idx_tensor = ...\n",
        "  # TODO concatenate the two tensors\n",
        "  output = ...\n",
        "\n",
        "  return output\n",
        "\n",
        "\n",
        "def functionC(my_tensor1, my_tensor2):\n",
        "  \"\"\"\n",
        "  This function takes in two 2D tensors `my_tensor1` and `my_tensor2`.\n",
        "  If the dimensions allow it, it returns the\n",
        "  elementwise sum of `my_tensor1`-shaped `my_tensor2`, and `my_tensor2`;\n",
        "  else this function returns a 1D tensor that is the concatenation of the\n",
        "  two tensors.\n",
        "\n",
        "  Args:\n",
        "    my_tensor1: torch.Tensor\n",
        "    my_tensor2: torch.Tensor\n",
        "\n",
        "  Returns:\n",
        "    output: torch.Tensor\n",
        "      Concatenated tensor.\n",
        "  \"\"\"\n",
        "  ################################################\n",
        "  ## TODO for students: complete functionB\n",
        "  raise NotImplementedError(\"Student exercise: complete function C\")\n",
        "  ################################################\n",
        "  # TODO check we can reshape `my_tensor2` into the shape of `my_tensor1`\n",
        "  if ...:\n",
        "    # TODO reshape `my_tensor2` into the shape of `my_tensor1`\n",
        "    my_tensor2 = ...\n",
        "    # TODO sum the two tensors\n",
        "    output = ...\n",
        "  else:\n",
        "    # TODO flatten both tensors\n",
        "    my_tensor1 = ...\n",
        "    my_tensor2 = ...\n",
        "    # TODO concatenate the two tensors in the correct dimension\n",
        "    output = ...\n",
        "\n",
        "  return output\n",
        "\n",
        "# add timing to airtable\n",
        "atform.add_event('Coding Exercise 2.3: Manipulating Tensors')\n",
        "\n",
        "\n",
        "\n",
        "## Implement the functions above and then uncomment the following lines to test your code\n",
        "# print(functionA(torch.tensor([[1, 1], [1, 1]]), torch.tensor([[1, 2, 3], [1, 2, 3]])))\n",
        "# print(functionB(torch.tensor([[2, 3], [-1, 10]])))\n",
        "# print(functionC(torch.tensor([[1, -1], [-1, 3]]), torch.tensor([[2, 3, 0, 2]])))\n",
        "# print(functionC(torch.tensor([[1, -1], [-1, 3]]), torch.tensor([[2, 3, 0]])))"
      ]
    },
    {
      "cell_type": "markdown",
      "metadata": {
        "id": "7Xz7FI0Ono-C"
      },
      "source": [
        "[*Click for solution*](https://github.com/NeuromatchAcademy/course-content-dl/tree/main//tutorials/W1D1_BasicsAndPytorch/solutions/W1D1_Tutorial1_Solution_74d86edd.py)\n",
        "\n"
      ]
    },
    {
      "cell_type": "markdown",
      "metadata": {
        "id": "mCs8-rVKno-D"
      },
      "source": [
        "```\n",
        "tensor([24, 24])\n",
        "tensor([[ 0,  2],\n",
        "        [ 1,  3],\n",
        "        [ 2, -1],\n",
        "        [ 3, 10]])\n",
        "tensor([[ 3,  2],\n",
        "        [-1,  5]])\n",
        "tensor([ 1, -1, -1,  3,  2,  3,  0])\n",
        "```"
      ]
    },
    {
      "cell_type": "markdown",
      "metadata": {
        "id": "Y7yoXtpuno-D"
      },
      "source": [
        "## Section 2.4: GPUs"
      ]
    },
    {
      "cell_type": "code",
      "execution_count": null,
      "metadata": {
        "cellView": "form",
        "id": "CBuw83fdno-E"
      },
      "outputs": [],
      "source": [
        "# @title Video 6: GPU vs CPU\n",
        "from ipywidgets import widgets\n",
        "\n",
        "out2 = widgets.Output()\n",
        "with out2:\n",
        "  from IPython.display import IFrame\n",
        "  class BiliVideo(IFrame):\n",
        "    def __init__(self, id, page=1, width=400, height=300, **kwargs):\n",
        "      self.id=id\n",
        "      src = \"https://player.bilibili.com/player.html?bvid={0}&page={1}\".format(id, page)\n",
        "      super(BiliVideo, self).__init__(src, width, height, **kwargs)\n",
        "\n",
        "  video = BiliVideo(id=f\"BV1nM4y1K7qx\", width=854, height=480, fs=1)\n",
        "  print(\"Video available at https://www.bilibili.com/video/{0}\".format(video.id))\n",
        "  display(video)\n",
        "\n",
        "out1 = widgets.Output()\n",
        "with out1:\n",
        "  from IPython.display import YouTubeVideo\n",
        "  video = YouTubeVideo(id=f\"9Mc9GFUtILY\", width=854, height=480, fs=1, rel=0)\n",
        "  print(\"Video available at https://youtube.com/watch?v=\" + video.id)\n",
        "  display(video)\n",
        "\n",
        "out = widgets.Tab([out1, out2])\n",
        "out.set_title(0, 'Youtube')\n",
        "out.set_title(1, 'Bilibili')\n",
        "\n",
        "# add timing to airtable\n",
        "atform.add_event('Video 6: GPU vs CPU')\n",
        "\n",
        "display(out)"
      ]
    },
    {
      "cell_type": "markdown",
      "metadata": {
        "id": "xBDLWLILno-E"
      },
      "source": [
        "\n",
        "By default, when we create a tensor it will *not* live on the GPU! "
      ]
    },
    {
      "cell_type": "code",
      "execution_count": null,
      "metadata": {
        "id": "ZBod-VGcno-F"
      },
      "outputs": [],
      "source": [
        "x = torch.randn(10)\n",
        "print(x.device)"
      ]
    },
    {
      "cell_type": "markdown",
      "metadata": {
        "id": "azXptcwano-F"
      },
      "source": [
        "When using Colab notebooks, by default, will not have access to a GPU. In order to start using GPUs we need to request one. We can do this by going to the runtime tab at the top of the page. \n",
        "\n",
        "By following *Runtime* → *Change runtime type* and selecting **GPU** from the *Hardware Accelerator* dropdown list, we can start playing with sending tensors to GPUs.\n",
        "\n",
        "Once you have done this your runtime will restart and you will need to rerun the first setup cell to reimport PyTorch. Then proceed to the next cell.\n",
        "\n",
        "For more information on the GPU usage policy you can view in the Appendix."
      ]
    },
    {
      "cell_type": "markdown",
      "metadata": {
        "id": "dPTmruOIno-F"
      },
      "source": [
        "**Now we have a GPU.**\n"
      ]
    },
    {
      "cell_type": "markdown",
      "metadata": {
        "id": "abGcucrWno-G"
      },
      "source": [
        "The cell below should return `True`."
      ]
    },
    {
      "cell_type": "code",
      "execution_count": null,
      "metadata": {
        "id": "puvvuJpKno-G"
      },
      "outputs": [],
      "source": [
        "print(torch.cuda.is_available())"
      ]
    },
    {
      "cell_type": "markdown",
      "metadata": {
        "id": "qpG8rl0Sno-G"
      },
      "source": [
        "[CUDA](https://developer.nvidia.com/cuda-toolkit) is an API developed by Nvidia for interfacing with GPUs. PyTorch provides us with a layer of abstraction, and allows us to launch CUDA kernels using pure Python.\n",
        "\n",
        "In short, we get the power of parallelizing our tensor computations on GPUs, whilst only writing (relatively) simple Python!\n",
        "\n",
        "Here, we define the function `set_device`, which returns the device use in the notebook, i.e., `cpu` or `cuda`. Unless otherwise specified, we use this function on top of every tutorial, and we store the device variable such as\n",
        "\n",
        "```python\n",
        "DEVICE = set_device()\n",
        "```\n",
        "\n",
        "Let's define the function using the PyTorch package `torch.cuda`, which is lazily initialized, so we can always import it, and use `is_available()` to determine if our system supports CUDA."
      ]
    },
    {
      "cell_type": "code",
      "execution_count": null,
      "metadata": {
        "id": "T73m8hXlno-H"
      },
      "outputs": [],
      "source": [
        "def set_device():\n",
        "  \"\"\"\n",
        "  Set the device. CUDA if available, CPU otherwise\n",
        "\n",
        "  Args:\n",
        "    None\n",
        "\n",
        "  Returns:\n",
        "    Nothing\n",
        "  \"\"\"\n",
        "  device = \"cuda\" if torch.cuda.is_available() else \"cpu\"\n",
        "  if device != \"cuda\":\n",
        "    print(\"GPU is not enabled in this notebook. \\n\"\n",
        "          \"If you want to enable it, in the menu under `Runtime` -> \\n\"\n",
        "          \"`Hardware accelerator.` and select `GPU` from the dropdown menu\")\n",
        "  else:\n",
        "    print(\"GPU is enabled in this notebook. \\n\"\n",
        "          \"If you want to disable it, in the menu under `Runtime` -> \\n\"\n",
        "          \"`Hardware accelerator.` and select `None` from the dropdown menu\")\n",
        "\n",
        "  return device"
      ]
    },
    {
      "cell_type": "markdown",
      "metadata": {
        "id": "GGB_Mg18no-H"
      },
      "source": [
        "Let's make some CUDA tensors!"
      ]
    },
    {
      "cell_type": "code",
      "execution_count": null,
      "metadata": {
        "id": "K6aBr-T_no-I"
      },
      "outputs": [],
      "source": [
        "# common device agnostic way of writing code that can run on cpu OR gpu\n",
        "# that we provide for you in each of the tutorials\n",
        "DEVICE = set_device()\n",
        "\n",
        "# we can specify a device when we first create our tensor\n",
        "x = torch.randn(2, 2, device=DEVICE)\n",
        "print(x.dtype)\n",
        "print(x.device)\n",
        "\n",
        "# we can also use the .to() method to change the device a tensor lives on\n",
        "y = torch.randn(2, 2)\n",
        "print(f\"y before calling to() | device: {y.device} | dtype: {y.type()}\")\n",
        "\n",
        "y = y.to(DEVICE)\n",
        "print(f\"y after calling to() | device: {y.device} | dtype: {y.type()}\")"
      ]
    },
    {
      "cell_type": "markdown",
      "metadata": {
        "id": "wVt8JbUfno-I"
      },
      "source": [
        "**Operations between cpu tensors and cuda tensors**\n",
        "\n",
        "Note that the type of the tensor changed after calling `.to()`. What happens if we try and perform operations on tensors on devices?"
      ]
    },
    {
      "cell_type": "code",
      "execution_count": null,
      "metadata": {
        "id": "bLzAif_9no-J"
      },
      "outputs": [],
      "source": [
        "x = torch.tensor([0, 1, 2], device=DEVICE)\n",
        "y = torch.tensor([3, 4, 5], device=\"cpu\")\n",
        "\n",
        "## Uncomment the following line and run this cell\n",
        "# z = x + y"
      ]
    },
    {
      "cell_type": "markdown",
      "metadata": {
        "id": "5Wqjderdno-J"
      },
      "source": [
        "We cannot combine CUDA tensors and CPU tensors in this fashion. If we want to compute an operation that combines tensors on different devices, we need to move them first! We can use the `.to()` method as before, or the `.cpu()` and `.cuda()` methods. Note that using the `.cuda()` will throw an error, if CUDA is not enabled in your machine.\n",
        "\n",
        "Generally, in this course, all Deep Learning is done on the GPU, and any computation is done on the CPU, so sometimes we have to pass things back and forth, so you'll see us call."
      ]
    },
    {
      "cell_type": "code",
      "execution_count": null,
      "metadata": {
        "id": "Xx82fppPno-K"
      },
      "outputs": [],
      "source": [
        "x = torch.tensor([0, 1, 2], device=DEVICE)\n",
        "y = torch.tensor([3, 4, 5], device=\"cpu\")\n",
        "z = torch.tensor([6, 7, 8], device=DEVICE)\n",
        "\n",
        "# moving to cpu\n",
        "x = x.to(\"cpu\")  # alternatively, you can use x = x.cpu()\n",
        "print(x + y)\n",
        "\n",
        "# moving to gpu\n",
        "y = y.to(DEVICE)  # alternatively, you can use y = y.cuda()\n",
        "print(y + z)"
      ]
    },
    {
      "cell_type": "markdown",
      "metadata": {
        "id": "4V1G5Ao1no-K"
      },
      "source": [
        "### Coding Exercise 2.4: Just how much faster are GPUs?\n",
        "\n",
        "Below is a simple function `simpleFun`. Complete this function, such that it performs the operations:\n",
        "\n",
        "- Elementwise multiplication\n",
        "\n",
        "- Matrix multiplication\n",
        "\n",
        "The operations should be able to perfomed on either the CPU or GPU specified by the parameter `device`. We will use the helper function `timeFun(f, dim, iterations, device)`."
      ]
    },
    {
      "cell_type": "code",
      "execution_count": null,
      "metadata": {
        "id": "nO-8Ttg-no-K"
      },
      "outputs": [],
      "source": [
        "dim = 10000\n",
        "iterations = 1"
      ]
    },
    {
      "cell_type": "code",
      "execution_count": null,
      "metadata": {
        "id": "hUJcbrxmno-L"
      },
      "outputs": [],
      "source": [
        "def simpleFun(dim, device):\n",
        "  \"\"\"\n",
        "  Helper function to check device-compatiblity with computations\n",
        "\n",
        "  Args:\n",
        "    dim: Integer\n",
        "    device: String\n",
        "      \"cpu\" or \"cuda\"\n",
        "\n",
        "  Returns:\n",
        "    Nothing.\n",
        "  \"\"\"\n",
        "  ###############################################\n",
        "  ## TODO for students: recreate the function, but\n",
        "  ## ensure all computations happens on the `device`\n",
        "  raise NotImplementedError(\"Student exercise: fill in the missing code to create the tensors\")\n",
        "  ###############################################\n",
        "  # 2D tensor filled with uniform random numbers in [0,1), dim x dim\n",
        "  x = ...\n",
        "  # 2D tensor filled with uniform random numbers in [0,1), dim x dim\n",
        "  y = ...\n",
        "  # 2D tensor filled with the scalar value 2, dim x dim\n",
        "  z = ...\n",
        "\n",
        "  # elementwise multiplication of x and y\n",
        "  a = ...\n",
        "  # matrix multiplication of x and z\n",
        "  b = ...\n",
        "\n",
        "  del x\n",
        "  del y\n",
        "  del z\n",
        "  del a\n",
        "  del b\n",
        "\n",
        "\n",
        "## TODO: Implement the function above and uncomment the following lines to test your code\n",
        "# timeFun(f=simpleFun, dim=dim, iterations=iterations)\n",
        "# timeFun(f=simpleFun, dim=dim, iterations=iterations, device=DEVICE)"
      ]
    },
    {
      "cell_type": "markdown",
      "metadata": {
        "id": "HsmbaBDFno-L"
      },
      "source": [
        "[*Click for solution*](https://github.com/NeuromatchAcademy/course-content-dl/tree/main//tutorials/W1D1_BasicsAndPytorch/solutions/W1D1_Tutorial1_Solution_6284a222.py)\n",
        "\n"
      ]
    },
    {
      "cell_type": "markdown",
      "metadata": {
        "id": "w8fkCE5fno-M"
      },
      "source": [
        "Sample output (depends on your hardware)\n",
        "\n",
        "```\n",
        "time taken for 1 iterations of simpleFun(10000, cpu): 23.74070\n",
        "time taken for 1 iterations of simpleFun(10000, cuda): 0.87535\n",
        "```"
      ]
    },
    {
      "cell_type": "markdown",
      "metadata": {
        "id": "AkncBEwano-M"
      },
      "source": [
        "**Discuss!**\n",
        "\n",
        "Try and reduce the dimensions of the tensors and increase the iterations. You can get to a point where the cpu only function is faster than the GPU function. Why might this be?"
      ]
    },
    {
      "cell_type": "markdown",
      "metadata": {
        "id": "RPqkhOETno-M"
      },
      "source": [
        "[*Click for solution*](https://github.com/NeuromatchAcademy/course-content-dl/tree/main//tutorials/W1D1_BasicsAndPytorch/solutions/W1D1_Tutorial1_Solution_4ee0dee3.py)\n",
        "\n"
      ]
    },
    {
      "cell_type": "markdown",
      "metadata": {
        "id": "mjwmt-w0no-N"
      },
      "source": [
        "## Section 2.5: Datasets and Dataloaders"
      ]
    },
    {
      "cell_type": "code",
      "execution_count": null,
      "metadata": {
        "cellView": "form",
        "id": "JrDLCaO4no-N"
      },
      "outputs": [],
      "source": [
        "# @title Video 7: Getting Data\n",
        "from ipywidgets import widgets\n",
        "\n",
        "out2 = widgets.Output()\n",
        "with out2:\n",
        "  from IPython.display import IFrame\n",
        "  class BiliVideo(IFrame):\n",
        "    def __init__(self, id, page=1, width=400, height=300, **kwargs):\n",
        "      self.id=id\n",
        "      src = \"https://player.bilibili.com/player.html?bvid={0}&page={1}\".format(id, page)\n",
        "      super(BiliVideo, self).__init__(src, width, height, **kwargs)\n",
        "\n",
        "  video = BiliVideo(id=f\"BV1744y127SQ\", width=854, height=480, fs=1)\n",
        "  print(\"Video available at https://www.bilibili.com/video/{0}\".format(video.id))\n",
        "  display(video)\n",
        "\n",
        "out1 = widgets.Output()\n",
        "with out1:\n",
        "  from IPython.display import YouTubeVideo\n",
        "  video = YouTubeVideo(id=f\"LSkjPM1gFu0\", width=854, height=480, fs=1, rel=0)\n",
        "  print(\"Video available at https://youtube.com/watch?v=\" + video.id)\n",
        "  display(video)\n",
        "\n",
        "out = widgets.Tab([out1, out2])\n",
        "out.set_title(0, 'Youtube')\n",
        "out.set_title(1, 'Bilibili')\n",
        "\n",
        "# add timing to airtable\n",
        "atform.add_event('Video 7: Getting Data')\n",
        "\n",
        "display(out)"
      ]
    },
    {
      "cell_type": "markdown",
      "metadata": {
        "id": "y21WECvnno-N"
      },
      "source": [
        "When training neural network models you will be working with large amounts of data. Fortunately, PyTorch offers some great tools that help you organize and manipulate your data samples."
      ]
    },
    {
      "cell_type": "code",
      "execution_count": null,
      "metadata": {
        "colab": {
          "background_save": true
        },
        "id": "2NMujz07no-N"
      },
      "outputs": [],
      "source": [
        "# Import dataset and dataloaders related packages\n",
        "from torchvision import datasets\n",
        "from torchvision.transforms import ToTensor\n",
        "from torch.utils.data import DataLoader\n",
        "from torchvision.transforms import Compose, Grayscale"
      ]
    },
    {
      "cell_type": "markdown",
      "metadata": {
        "id": "GcMQcfqwno-O"
      },
      "source": [
        "**Datasets**\n",
        "\n",
        "The `torchvision` package gives you easy access to many of the publicly available datasets. Let's load the [CIFAR10](https://www.cs.toronto.edu/~kriz/cifar.html) dataset, which contains color images of 10 different classes, like vehicles and animals.\n",
        "\n",
        "Creating an object of type `datasets.CIFAR10` will automatically download and load all images from the dataset. The resulting data structure can be treated as a list containing data samples and their corresponding labels."
      ]
    },
    {
      "cell_type": "code",
      "execution_count": null,
      "metadata": {
        "id": "1kra_tOIno-O"
      },
      "outputs": [],
      "source": [
        "# Download and load the images from the CIFAR10 dataset\n",
        "cifar10_data = datasets.CIFAR10(\n",
        "    root=\"data\",  # path where the images will be stored\n",
        "    download=True,  # all images should be downloaded\n",
        "    transform=ToTensor()  # transform the images to tensors\n",
        "    )\n",
        "\n",
        "# Print the number of samples in the loaded dataset\n",
        "print(f\"Number of samples: {len(cifar10_data)}\")\n",
        "print(f\"Class names: {cifar10_data.classes}\")"
      ]
    },
    {
      "cell_type": "markdown",
      "metadata": {
        "id": "Aj-Y7wyEno-P"
      },
      "source": [
        "We have 50,000 samples loaded. Now, let's take a look at one of them in detail. Each sample consists of an image and its corresponding label."
      ]
    },
    {
      "cell_type": "code",
      "execution_count": null,
      "metadata": {
        "id": "GiGdsfipno-P"
      },
      "outputs": [],
      "source": [
        "# Choose a random sample\n",
        "random.seed(2021)\n",
        "image, label = cifar10_data[random.randint(0, len(cifar10_data))]\n",
        "print(f\"Label: {cifar10_data.classes[label]}\")\n",
        "print(f\"Image size: {image.shape}\")"
      ]
    },
    {
      "cell_type": "markdown",
      "metadata": {
        "id": "hQQck2DWno-P"
      },
      "source": [
        "Color images are modeled as 3 dimensional tensors. The first dimension corresponds to the channels ($\\text{C}$) of the image (in this case we have RGB images). The second dimensions is the height ($\\text{H}$) of the image and the third is the width ($\\text{W}$). We can denote this image format as $\\text{C} \\times \\text{H} \\times \\text{W}$."
      ]
    },
    {
      "cell_type": "markdown",
      "metadata": {
        "id": "u67Tfwknno-W"
      },
      "source": [
        "### Coding Exercise 2.5: Display an image from the dataset\n",
        "\n",
        "Let's try to display the image using `matplotlib`. The code below will not work, because `imshow` expects to have the image in a different format, i.e., $\\text{C} \\times \\text{H} \\times \\text{W}$.\n",
        "\n",
        "You need to reorder the dimensions of the tensor using the `permute` method of the tensor. PyTorch `torch.permute(*dims)` rearranges the original tensor according to the desired ordering and returns a new multidimensional rotated tensor. The size of the returned tensor remains the same as that of the original.\n",
        "\n",
        "**Code hint:**\n",
        "\n",
        "```python\n",
        "# create a tensor of size 2 x 4\n",
        "input_var = torch.randn(2, 4)\n",
        "# print its size and the tensor\n",
        "print(input_var.size())\n",
        "print(input_var)\n",
        "\n",
        "# dimensions permuted\n",
        "input_var = input_var.permute(1, 0)\n",
        "# print its size and the permuted tensor\n",
        "print(input_var.size())\n",
        "print(input_var)\n",
        "```"
      ]
    },
    {
      "cell_type": "code",
      "execution_count": null,
      "metadata": {
        "id": "GjbTmosBno-W"
      },
      "outputs": [],
      "source": [
        "# TODO: Uncomment the following line to see the error that arises from the current image format\n",
        "# plt.imshow(image)\n",
        "\n",
        "# TODO: Comment the above line and fix this code by reordering the tensor dimensions\n",
        "# plt.imshow(image.permute(...))\n",
        "# plt.show()"
      ]
    },
    {
      "cell_type": "markdown",
      "metadata": {
        "id": "JxxS3AAcno-X"
      },
      "source": [
        "[*Click for solution*](https://github.com/NeuromatchAcademy/course-content-dl/tree/main//tutorials/W1D1_BasicsAndPytorch/solutions/W1D1_Tutorial1_Solution_b04bd357.py)\n",
        "\n",
        "*Example output:*\n",
        "\n",
        "<img alt='Solution hint' align='left' width=835.0 height=827.0 src=https://raw.githubusercontent.com/NeuromatchAcademy/course-content-dl/main/tutorials/W1D1_BasicsAndPytorch/static/W1D1_Tutorial1_Solution_b04bd357_0.png>\n",
        "\n"
      ]
    },
    {
      "cell_type": "code",
      "execution_count": null,
      "metadata": {
        "cellView": "form",
        "id": "-NgHie3tno-X"
      },
      "outputs": [],
      "source": [
        "#@title Video 8: Train and Test\n",
        "from ipywidgets import widgets\n",
        "\n",
        "out2 = widgets.Output()\n",
        "with out2:\n",
        "  from IPython.display import IFrame\n",
        "  class BiliVideo(IFrame):\n",
        "    def __init__(self, id, page=1, width=400, height=300, **kwargs):\n",
        "      self.id=id\n",
        "      src = \"https://player.bilibili.com/player.html?bvid={0}&page={1}\".format(id, page)\n",
        "      super(BiliVideo, self).__init__(src, width, height, **kwargs)\n",
        "\n",
        "  video = BiliVideo(id=f\"BV1rV411H7s5\", width=854, height=480, fs=1)\n",
        "  print(\"Video available at https://www.bilibili.com/video/{0}\".format(video.id))\n",
        "  display(video)\n",
        "\n",
        "out1 = widgets.Output()\n",
        "with out1:\n",
        "  from IPython.display import YouTubeVideo\n",
        "  video = YouTubeVideo(id=f\"JokSIuPs-ys\", width=854, height=480, fs=1, rel=0)\n",
        "  print(\"Video available at https://youtube.com/watch?v=\" + video.id)\n",
        "  display(video)\n",
        "\n",
        "out = widgets.Tab([out1, out2])\n",
        "out.set_title(0, 'Youtube')\n",
        "out.set_title(1, 'Bilibili')\n",
        "\n",
        "# add timing to airtable\n",
        "atform.add_event('Video 8: Train and Test')\n",
        "\n",
        "display(out)"
      ]
    },
    {
      "cell_type": "markdown",
      "metadata": {
        "id": "GncBBD4Sno-Z"
      },
      "source": [
        "**Training and Test Datasets**\n",
        "\n",
        "When loading a dataset, you can specify if you want to load the training or the test samples using the `train` argument. We can load the training and test datasets separately. For simplicity, today we will not use both datasets separately, but this topic will be adressed in the next days."
      ]
    },
    {
      "cell_type": "code",
      "execution_count": null,
      "metadata": {
        "id": "wlJCmsgFno-Z"
      },
      "outputs": [],
      "source": [
        "# Load the training samples\n",
        "training_data = datasets.CIFAR10(\n",
        "    root=\"data\",\n",
        "    train=True,\n",
        "    download=True,\n",
        "    transform=ToTensor()\n",
        "    )\n",
        "\n",
        "# Load the test samples\n",
        "test_data = datasets.CIFAR10(\n",
        "    root=\"data\",\n",
        "    train=False,\n",
        "    download=True,\n",
        "    transform=ToTensor()\n",
        "    )"
      ]
    },
    {
      "cell_type": "code",
      "execution_count": null,
      "metadata": {
        "cellView": "form",
        "id": "ORRB0J57no-a"
      },
      "outputs": [],
      "source": [
        "# @title Video 9: Data Augmentation - Transformations\n",
        "from ipywidgets import widgets\n",
        "\n",
        "out2 = widgets.Output()\n",
        "with out2:\n",
        "  from IPython.display import IFrame\n",
        "  class BiliVideo(IFrame):\n",
        "    def __init__(self, id, page=1, width=400, height=300, **kwargs):\n",
        "      self.id=id\n",
        "      src = \"https://player.bilibili.com/player.html?bvid={0}&page={1}\".format(id, page)\n",
        "      super(BiliVideo, self).__init__(src, width, height, **kwargs)\n",
        "\n",
        "  video = BiliVideo(id=f\"BV19B4y1N77t\", width=854, height=480, fs=1)\n",
        "  print(\"Video available at https://www.bilibili.com/video/{0}\".format(video.id))\n",
        "  display(video)\n",
        "\n",
        "out1 = widgets.Output()\n",
        "with out1:\n",
        "  from IPython.display import YouTubeVideo\n",
        "  video = YouTubeVideo(id=f\"sjegA9OBUPw\", width=854, height=480, fs=1, rel=0)\n",
        "  print(\"Video available at https://youtube.com/watch?v=\" + video.id)\n",
        "  display(video)\n",
        "\n",
        "out = widgets.Tab([out1, out2])\n",
        "out.set_title(0, 'Youtube')\n",
        "out.set_title(1, 'Bilibili')\n",
        "\n",
        "# add timing to airtable\n",
        "atform.add_event('Video 9: Data Augmentation - Transformations')\n",
        "\n",
        "display(out)"
      ]
    },
    {
      "cell_type": "markdown",
      "metadata": {
        "id": "UT-B-cXZno-a"
      },
      "source": [
        "**Dataloader**\n",
        "\n",
        "Another important concept is the `Dataloader`. It is a wrapper around the `Dataset` that splits it into minibatches (important for training the neural network) and makes the data iterable. The `shuffle` argument is used to shuffle the order of the samples across the minibatches."
      ]
    },
    {
      "cell_type": "code",
      "execution_count": null,
      "metadata": {
        "id": "wN8GUf3Jno-b"
      },
      "outputs": [],
      "source": [
        "# Create dataloaders with\n",
        "train_dataloader = DataLoader(training_data, batch_size=64, shuffle=True)\n",
        "test_dataloader = DataLoader(test_data, batch_size=64, shuffle=True)"
      ]
    },
    {
      "cell_type": "markdown",
      "metadata": {
        "id": "zJjWQ274no-b"
      },
      "source": [
        "*Reproducibility:* DataLoader will reseed workers following Randomness in multi-process data loading algorithm. Use `worker_init_fn()` and a `generator` to preserve reproducibility:\n",
        "\n",
        "\n",
        "```python\n",
        "def seed_worker(worker_id):\n",
        "  worker_seed = torch.initial_seed() % 2**32\n",
        "  numpy.random.seed(worker_seed)\n",
        "  random.seed(worker_seed)\n",
        "\n",
        "\n",
        "g_seed = torch.Generator()\n",
        "g_seed.manual_seed(my_seed)\n",
        "\n",
        "DataLoader(\n",
        "    train_dataset,\n",
        "    batch_size=batch_size,\n",
        "    num_workers=num_workers,\n",
        "    worker_init_fn=seed_worker,\n",
        "    generator=g_seed\n",
        "    )\n",
        "```"
      ]
    },
    {
      "cell_type": "markdown",
      "metadata": {
        "id": "3Nd4M_blno-c"
      },
      "source": [
        "**Important:** For the `seed_worker` to have an effect, `num_workers` should be 2 or more."
      ]
    },
    {
      "cell_type": "markdown",
      "metadata": {
        "id": "XwmDwnncno-c"
      },
      "source": [
        "We can now query the next batch from the data loader and inspect it. For this we need to convert the dataloader object to a Python iterator using the function `iter` and then we can query the next batch using the function `next`.\n",
        "\n",
        "We can now see that we have a 4D tensor. This is because we have a 64 images in the batch ($B$) and each image has 3 dimensions: channels ($C$), height ($H$) and width ($W$). So, the size of the 4D tensor is $B \\times C \\times H \\times W$."
      ]
    },
    {
      "cell_type": "code",
      "execution_count": null,
      "metadata": {
        "id": "Jh1ihZkTno-d"
      },
      "outputs": [],
      "source": [
        "# Load the next batch\n",
        "batch_images, batch_labels = next(iter(train_dataloader))\n",
        "print('Batch size:', batch_images.shape)\n",
        "\n",
        "# Display the first image from the batch\n",
        "plt.imshow(batch_images[0].permute(1, 2, 0))\n",
        "plt.show()"
      ]
    },
    {
      "cell_type": "markdown",
      "metadata": {
        "id": "jwow1LWano-e"
      },
      "source": [
        "**Transformations**\n",
        "\n",
        "Another useful feature when loading a dataset is applying transformations on the data - color conversions, normalization, cropping, rotation etc. There are many predefined transformations in the `torchvision.transforms` package and you can also combine them using the `Compose` transform. Checkout the [pytorch documentation](https://pytorch.org/vision/stable/transforms.html) for details."
      ]
    },
    {
      "cell_type": "markdown",
      "metadata": {
        "id": "73VxVRHtno-e"
      },
      "source": [
        "### Coding Exercise 2.6: Load the CIFAR10 dataset as grayscale images\n",
        "\n",
        "The goal of this excercise is to load the images from the CIFAR10 dataset as grayscale images. Note that we rerun the `set_seed` function to ensure reproducibility."
      ]
    },
    {
      "cell_type": "code",
      "execution_count": null,
      "metadata": {
        "id": "KNjvp7Fzno-e"
      },
      "outputs": [],
      "source": [
        "def my_data_load():\n",
        "  \"\"\"\n",
        "  Function to load CIFAR10 data as grayscale images\n",
        "\n",
        "  Args:\n",
        "    None\n",
        "\n",
        "  Returns:\n",
        "    data: DataFrame\n",
        "      CIFAR10 loaded Dataframe of shape (3309, 14)\n",
        "  \"\"\"\n",
        "  ###############################################\n",
        "  ## TODO for students: load the CIFAR10 data,\n",
        "  ## but as grayscale images and not as RGB colored.\n",
        "  raise NotImplementedError(\"Student exercise: fill in the missing code to load the data\")\n",
        "  ###############################################\n",
        "  ## TODO Load the CIFAR10 data using a transform that converts the images to grayscale tensors\n",
        "  data = datasets.CIFAR10(...,\n",
        "                          transform=...)\n",
        "  # Display a random grayscale image\n",
        "  image, label = data[random.randint(0, len(data))]\n",
        "  plt.imshow(image.squeeze(), cmap=\"gray\")\n",
        "  plt.show()\n",
        "\n",
        "  return data\n",
        "\n",
        "\n",
        "set_seed(seed=2021)\n",
        "## After implementing the above code, uncomment the following lines to test your code\n",
        "# data = my_data_load()"
      ]
    },
    {
      "cell_type": "markdown",
      "metadata": {
        "id": "T8ZvIAYMno-f"
      },
      "source": [
        "[*Click for solution*](https://github.com/NeuromatchAcademy/course-content-dl/tree/main//tutorials/W1D1_BasicsAndPytorch/solutions/W1D1_Tutorial1_Solution_1c5a709e.py)\n",
        "\n",
        "*Example output:*\n",
        "\n",
        "<img alt='Solution hint' align='left' width=835.0 height=827.0 src=https://raw.githubusercontent.com/NeuromatchAcademy/course-content-dl/main/tutorials/W1D1_BasicsAndPytorch/static/W1D1_Tutorial1_Solution_1c5a709e_1.png>\n",
        "\n"
      ]
    },
    {
      "cell_type": "markdown",
      "metadata": {
        "id": "nKwPeupZno-f"
      },
      "source": [
        "---\n",
        "# Section 3: Neural Networks\n",
        "\n",
        "*Time estimate: ~1 hour 30 mins (excluding video)*"
      ]
    },
    {
      "cell_type": "markdown",
      "metadata": {
        "id": "qcMXMpXnno-g"
      },
      "source": [
        "Now it's time for you to create your first neural network using PyTorch. This section will walk you through the process of:\n",
        "\n",
        "- Creating a simple neural network model\n",
        "- Training the network\n",
        "- Visualizing the results of the network\n",
        "- Tweaking the network"
      ]
    },
    {
      "cell_type": "code",
      "execution_count": null,
      "metadata": {
        "cellView": "form",
        "id": "NVaXoaQono-h"
      },
      "outputs": [],
      "source": [
        "# @title Video 10: CSV Files\n",
        "from ipywidgets import widgets\n",
        "\n",
        "out2 = widgets.Output()\n",
        "with out2:\n",
        "  from IPython.display import IFrame\n",
        "  class BiliVideo(IFrame):\n",
        "    def __init__(self, id, page=1, width=400, height=300, **kwargs):\n",
        "      self.id=id\n",
        "      src = \"https://player.bilibili.com/player.html?bvid={0}&page={1}\".format(id, page)\n",
        "      super(BiliVideo, self).__init__(src, width, height, **kwargs)\n",
        "\n",
        "  video = BiliVideo(id=f\"BV1xy4y1T7kv\", width=854, height=480, fs=1)\n",
        "  print(\"Video available at https://www.bilibili.com/video/{0}\".format(video.id))\n",
        "  display(video)\n",
        "\n",
        "out1 = widgets.Output()\n",
        "with out1:\n",
        "  from IPython.display import YouTubeVideo\n",
        "  video = YouTubeVideo(id=f\"JrC_UAJWYKU\", width=854, height=480, fs=1, rel=0)\n",
        "  print(\"Video available at https://youtube.com/watch?v=\" + video.id)\n",
        "  display(video)\n",
        "\n",
        "out = widgets.Tab([out1, out2])\n",
        "out.set_title(0, 'Youtube')\n",
        "out.set_title(1, 'Bilibili')\n",
        "\n",
        "# add timing to airtable\n",
        "atform.add_event('Video 10: CSV Files')\n",
        "\n",
        "display(out)"
      ]
    },
    {
      "cell_type": "markdown",
      "metadata": {
        "id": "WlqGUpyFno-i"
      },
      "source": [
        "## Section 3.1: Data Loading\n",
        "\n",
        "First we need some sample data to train our network on. You can use the function below to generate an example dataset consisting of 2D points along two interleaving half circles. The data will be stored in a file called `sample_data.csv`. You can inspect the file directly in Colab by going to Files on the left side and opening the CSV file."
      ]
    },
    {
      "cell_type": "code",
      "execution_count": null,
      "metadata": {
        "cellView": "form",
        "id": "eDavRl6-no-i"
      },
      "outputs": [],
      "source": [
        "# @title Generate sample data\n",
        "# @markdown we used `scikit-learn` module\n",
        "from sklearn.datasets import make_moons\n",
        "\n",
        "# Create a dataset of 256 points with a little noise\n",
        "X, y = make_moons(256, noise=0.1)\n",
        "\n",
        "# Store the data as a Pandas data frame and save it to a CSV file\n",
        "df = pd.DataFrame(dict(x0=X[:,0], x1=X[:,1], y=y))\n",
        "df.to_csv('sample_data.csv')"
      ]
    },
    {
      "cell_type": "markdown",
      "metadata": {
        "id": "5Fj75BuHno-j"
      },
      "source": [
        "Now we can load the data from the CSV file using the Pandas library. Pandas provides many functions for reading files in various formats. When loading data from a CSV file, we can reference the columns directly by their names."
      ]
    },
    {
      "cell_type": "code",
      "execution_count": null,
      "metadata": {
        "id": "cS0MUrUgno-k"
      },
      "outputs": [],
      "source": [
        "# Load the data from the CSV file in a Pandas DataFrame\n",
        "data = pd.read_csv(\"sample_data.csv\")\n",
        "\n",
        "# Create a 2D numpy array from the x0 and x1 columns\n",
        "X_orig = data[[\"x0\", \"x1\"]].to_numpy()\n",
        "\n",
        "# Create a 1D numpy array from the y column\n",
        "y_orig = data[\"y\"].to_numpy()\n",
        "\n",
        "# Print the sizes of the generated 2D points X and the corresponding labels Y\n",
        "print(f\"Size X:{X_orig.shape}\")\n",
        "print(f\"Size y:{y_orig.shape}\")\n",
        "\n",
        "# Visualize the dataset. The color of the points is determined by the labels `y_orig`.\n",
        "plt.scatter(X_orig[:, 0], X_orig[:, 1], s=40, c=y_orig)\n",
        "plt.show()"
      ]
    },
    {
      "cell_type": "markdown",
      "metadata": {
        "id": "HMEqbMlxno-k"
      },
      "source": [
        "**Prepare Data for PyTorch**\n",
        "\n",
        "Now let's prepare the data in a format suitable for PyTorch - convert everything into tensors."
      ]
    },
    {
      "cell_type": "code",
      "execution_count": null,
      "metadata": {
        "id": "f0-Mq4wTno-l"
      },
      "outputs": [],
      "source": [
        "# Initialize the device variable\n",
        "DEVICE = set_device()\n",
        "\n",
        "# Convert the 2D points to a float32 tensor\n",
        "X = torch.tensor(X_orig, dtype=torch.float32)\n",
        "\n",
        "# Upload the tensor to the device\n",
        "X = X.to(DEVICE)\n",
        "\n",
        "print(f\"Size X:{X.shape}\")\n",
        "\n",
        "# Convert the labels to a long interger tensor\n",
        "y = torch.from_numpy(y_orig).type(torch.LongTensor)\n",
        "\n",
        "# Upload the tensor to the device\n",
        "y = y.to(DEVICE)\n",
        "\n",
        "print(f\"Size y:{y.shape}\")"
      ]
    },
    {
      "cell_type": "markdown",
      "metadata": {
        "id": "gwmnvBjZno-m"
      },
      "source": [
        "## Section 3.2: Create a Simple Neural Network"
      ]
    },
    {
      "cell_type": "code",
      "execution_count": null,
      "metadata": {
        "cellView": "form",
        "id": "qZuwUl41no-n"
      },
      "outputs": [],
      "source": [
        "# @title Video 11: Generating the Neural Network\n",
        "from ipywidgets import widgets\n",
        "\n",
        "out2 = widgets.Output()\n",
        "with out2:\n",
        "  from IPython.display import IFrame\n",
        "  class BiliVideo(IFrame):\n",
        "    def __init__(self, id, page=1, width=400, height=300, **kwargs):\n",
        "      self.id=id\n",
        "      src = \"https://player.bilibili.com/player.html?bvid={0}&page={1}\".format(id, page)\n",
        "      super(BiliVideo, self).__init__(src, width, height, **kwargs)\n",
        "\n",
        "  video = BiliVideo(id=f\"BV1fK4y1M74a\", width=854, height=480, fs=1)\n",
        "  print(\"Video available at https://www.bilibili.com/video/{0}\".format(video.id))\n",
        "  display(video)\n",
        "\n",
        "out1 = widgets.Output()\n",
        "with out1:\n",
        "  from IPython.display import YouTubeVideo\n",
        "  video = YouTubeVideo(id=f\"PwSzRohUvck\", width=854, height=480, fs=1, rel=0)\n",
        "  print(\"Video available at https://youtube.com/watch?v=\" + video.id)\n",
        "  display(video)\n",
        "\n",
        "out = widgets.Tab([out1, out2])\n",
        "out.set_title(0, 'Youtube')\n",
        "out.set_title(1, 'Bilibili')\n",
        "\n",
        "# add timing to airtable\n",
        "atform.add_event('Video 11: Generating the Neural Network')\n",
        "\n",
        "display(out)"
      ]
    },
    {
      "cell_type": "markdown",
      "metadata": {
        "id": "mzmqrSfVno-o"
      },
      "source": [
        "For this example we want to have a simple neural network consisting of 3 layers:\n",
        "\n",
        "- 1 input layer of size 2 (our points have 2 coordinates)\n",
        "- 1 hidden layer of size 16 (you can play with different numbers here)\n",
        "- 1 output layer of size 2 (we want the have the scores for the two classes)\n",
        "\n",
        "During the course you will deal with differend kinds of neural networks. On Day 2, we will focus on linear networks, but you will work with some more complicated architectures in the next days. The example here is meant to demonstrate the process of creating and training a neural network end-to-end.\n",
        "\n",
        "**Programing the Network**\n",
        "\n",
        "PyTorch provides a base class for all neural network modules called [`nn.Module`](https://pytorch.org/docs/stable/generated/torch.nn.Module.html). You need to inherit from `nn.Module` and implement some important methods:\n",
        "\n",
        "* `__init__`\n",
        "\n",
        "  In the `__init__` method you need to define the structure of your network. Here you will specify what layers will the network consist of, what activation functions will be used etc.\n",
        "\n",
        "* `forward`\n",
        "\n",
        "  All neural network modules need to implement the `forward` method. It specifies the computations the network needs to do when data is passed through it.\n",
        "\n",
        "* `predict`\n",
        "\n",
        "  This is not an obligatory method of a neural network module, but it is a good practice if you want to quickly get the most likely label from the network. It calls the `forward` method and chooses the label with the highest score.\n",
        "\n",
        "* `train`\n",
        "\n",
        "  This is also not an obligatory method, but it is a good practice to have. The method will be used to train the network parameters and will be implemented later in the notebook.\n",
        "\n",
        "<br>\n",
        "\n",
        "**Note:** You can use the `__call__` method of a module directly and it will invoke the `forward` method: `net()` does the same as `net.forward()`."
      ]
    },
    {
      "cell_type": "code",
      "execution_count": null,
      "metadata": {
        "id": "5wHNTzYmno-o"
      },
      "outputs": [],
      "source": [
        "# Inherit from nn.Module - the base class for neural network modules provided by Pytorch\n",
        "class NaiveNet(nn.Module):\n",
        "  \"\"\"\n",
        "  NaiveNet architecture\n",
        "  Structure is as follows:\n",
        "  Linear Layer (2, 16) -> ReLU activation -> Linear Layer (16, 2)\n",
        "  \"\"\"\n",
        "  # Define the structure of your network\n",
        "  def __init__(self):\n",
        "    \"\"\"\n",
        "    Defines the NaiveNet structure by initialising following attributes\n",
        "    nn.Linear (2, 16):  Transformation from the input to the hidden layer\n",
        "    nn.ReLU: Activation function (ReLU) is a non-linearity which is widely used because it reduces computation.\n",
        "             The function returns 0 if it receives any negative input, but for any positive value x, it returns that value back.\n",
        "    nn.Linear (16, 2): Transformation from the hidden to the output layer\n",
        "\n",
        "    Args:\n",
        "      None\n",
        "\n",
        "    Returns:\n",
        "      Nothing\n",
        "    \"\"\"\n",
        "    super(NaiveNet, self).__init__()\n",
        "\n",
        "    # The network is defined as a sequence of operations\n",
        "    self.layers = nn.Sequential(\n",
        "        nn.Linear(2, 16),\n",
        "        nn.ReLU(),\n",
        "        nn.Linear(16, 2),\n",
        "    )\n",
        "\n",
        "  # Specify the computations performed on the data\n",
        "  def forward(self, x):\n",
        "    \"\"\"\n",
        "    Defines the forward pass through the above defined structure\n",
        "\n",
        "    Args:\n",
        "      x: torch.Tensor\n",
        "        Input tensor of size ([3])\n",
        "\n",
        "    Returns:\n",
        "      layers: nn.module\n",
        "        Initialised Layers in order to re-use the same layer for each forward pass of data you make.\n",
        "    \"\"\"\n",
        "    # Pass the data through the layers\n",
        "    return self.layers(x)\n",
        "\n",
        "  # Choose the most likely label predicted by the network\n",
        "  def predict(self, x):\n",
        "    \"\"\"\n",
        "    Performs the prediction task of the network\n",
        "\n",
        "    Args:\n",
        "      x: torch.Tensor\n",
        "        Input tensor of size ([3])\n",
        "\n",
        "    Returns:\n",
        "      Most likely class i.e., Label with the highest score\n",
        "    \"\"\"\n",
        "    # Pass the data through the networks\n",
        "    output = self.forward(x)\n",
        "\n",
        "    # Choose the label with the highest score\n",
        "    return torch.argmax(output, 1)\n",
        "\n",
        "  # Train the neural network (will be implemented later)\n",
        "  def train(self, X, y):\n",
        "    \"\"\"\n",
        "    Training the Neural Network\n",
        "\n",
        "    Args:\n",
        "      X: torch.Tensor\n",
        "        Input data\n",
        "      y: torch.Tensor\n",
        "        Class Labels/Targets\n",
        "\n",
        "    Returns:\n",
        "      Nothing\n",
        "    \"\"\"\n",
        "    pass"
      ]
    },
    {
      "cell_type": "markdown",
      "metadata": {
        "id": "VVNJItVEno-p"
      },
      "source": [
        "**Check that your network works**\n",
        "\n",
        "Create an instance of your model and visualize it."
      ]
    },
    {
      "cell_type": "code",
      "execution_count": null,
      "metadata": {
        "id": "hL8BEEnUno-q"
      },
      "outputs": [],
      "source": [
        "# Create new NaiveNet and transfer it to the device\n",
        "model = NaiveNet().to(DEVICE)\n",
        "\n",
        "# Print the structure of the network\n",
        "print(model)"
      ]
    },
    {
      "cell_type": "markdown",
      "metadata": {
        "id": "Lvvx_6ugno-q"
      },
      "source": [
        "### Coding Exercise 3.2: Classify some samples\n",
        "\n",
        "Now, let's pass some of the points of our dataset through the network and see if it works. You should not expect the network to actually classify the points correctly, because it has not been trained yet. \n",
        "\n",
        "The goal here is just to get some experience with the data structures that are passed to the forward and predict methods and their results."
      ]
    },
    {
      "cell_type": "code",
      "execution_count": null,
      "metadata": {
        "id": "eQVVhZMXno-q"
      },
      "outputs": [],
      "source": [
        "## Get the samples\n",
        "# X_samples = ...\n",
        "# print(\"Sample input:\\n\", X_samples)\n",
        "\n",
        "## Do a forward pass of the network\n",
        "# output = ...\n",
        "# print(\"\\nNetwork output:\\n\", output)\n",
        "\n",
        "## Predict the label of each point\n",
        "# y_predicted = ...\n",
        "# print(\"\\nPredicted labels:\\n\", y_predicted)"
      ]
    },
    {
      "cell_type": "markdown",
      "metadata": {
        "id": "B3nrcK01no-r"
      },
      "source": [
        "[*Click for solution*](https://github.com/NeuromatchAcademy/course-content-dl/tree/main//tutorials/W1D1_BasicsAndPytorch/solutions/W1D1_Tutorial1_Solution_63f6a21a.py)\n",
        "\n"
      ]
    },
    {
      "cell_type": "markdown",
      "metadata": {
        "id": "4zOy1-ILno-r"
      },
      "source": [
        "```\n",
        "Sample input:\n",
        " tensor([[ 0.9066,  0.5052],\n",
        "        [-0.2024,  1.1226],\n",
        "        [ 1.0685,  0.2809],\n",
        "        [ 0.6720,  0.5097],\n",
        "        [ 0.8548,  0.5122]], device='cuda:0')\n",
        "\n",
        "Network output:\n",
        " tensor([[ 0.1543, -0.8018],\n",
        "        [ 2.2077, -2.9859],\n",
        "        [-0.5745, -0.0195],\n",
        "        [ 0.1924, -0.8367],\n",
        "        [ 0.1818, -0.8301]], device='cuda:0', grad_fn=<AddmmBackward>)\n",
        "\n",
        "Predicted labels:\n",
        " tensor([0, 0, 1, 0, 0], device='cuda:0')\n",
        "```"
      ]
    },
    {
      "cell_type": "markdown",
      "metadata": {
        "id": "GpOtED5Ano-r"
      },
      "source": [
        "## Section 3.3: Train Your Neural Network"
      ]
    },
    {
      "cell_type": "code",
      "execution_count": null,
      "metadata": {
        "cellView": "form",
        "id": "dhZsYtxOno-s"
      },
      "outputs": [],
      "source": [
        "# @title Video 12: Train the Network\n",
        "from ipywidgets import widgets\n",
        "\n",
        "out2 = widgets.Output()\n",
        "with out2:\n",
        "  from IPython.display import IFrame\n",
        "  class BiliVideo(IFrame):\n",
        "    def __init__(self, id, page=1, width=400, height=300, **kwargs):\n",
        "      self.id=id\n",
        "      src = \"https://player.bilibili.com/player.html?bvid={0}&page={1}\".format(id, page)\n",
        "      super(BiliVideo, self).__init__(src, width, height, **kwargs)\n",
        "\n",
        "  video = BiliVideo(id=f\"BV1v54y1n7CS\", width=854, height=480, fs=1)\n",
        "  print(\"Video available at https://www.bilibili.com/video/{0}\".format(video.id))\n",
        "  display(video)\n",
        "\n",
        "out1 = widgets.Output()\n",
        "with out1:\n",
        "  from IPython.display import YouTubeVideo\n",
        "  video = YouTubeVideo(id=f\"4MIqnE4XPaA\", width=854, height=480, fs=1, rel=0)\n",
        "  print(\"Video available at https://youtube.com/watch?v=\" + video.id)\n",
        "  display(video)\n",
        "\n",
        "out = widgets.Tab([out1, out2])\n",
        "out.set_title(0, 'Youtube')\n",
        "out.set_title(1, 'Bilibili')\n",
        "\n",
        "# add timing to airtable\n",
        "atform.add_event('Video 12: Train the Network')\n",
        "\n",
        "display(out)"
      ]
    },
    {
      "cell_type": "markdown",
      "metadata": {
        "id": "agBe8gcSno-s"
      },
      "source": [
        "Now it is time to train your network on your dataset. Don't worry if you don't fully understand everything yet - we will cover training in much more details in the next days. For now, the goal is just to see your network in action!\n",
        "\n",
        "You will usually implement the `train` method directly when implementing your class `NaiveNet`. Here, we will implement it as a function outside of the class in order to have it in a separate cell."
      ]
    },
    {
      "cell_type": "code",
      "execution_count": null,
      "metadata": {
        "cellView": "form",
        "id": "7u-7ude3no-s"
      },
      "outputs": [],
      "source": [
        "# @title Helper function to plot the decision boundary\n",
        "\n",
        "# Code adapted from this notebook: https://jonchar.net/notebooks/Artificial-Neural-Network-with-Keras/\n",
        "\n",
        "from pathlib import Path\n",
        "\n",
        "def plot_decision_boundary(model, X, y, device):\n",
        "  \"\"\"\n",
        "  Helper function to plot decision boundary\n",
        "\n",
        "  Args:\n",
        "    model: nn.module\n",
        "      NaiveNet instance\n",
        "    X: torch.tensor\n",
        "      Input CIFAR10 data\n",
        "    y: torch.tensor\n",
        "      Class Labels/Targets\n",
        "    device: String\n",
        "      \"cpu\" or \"cuda\"\n",
        "\n",
        "  Returns:\n",
        "    Nothing\n",
        "  \"\"\"\n",
        "  # Transfer the data to the CPU\n",
        "  X = X.cpu().numpy()\n",
        "  y = y.cpu().numpy()\n",
        "\n",
        "  # Check if the frames folder exists and create it if needed\n",
        "  frames_path = Path(\"frames\")\n",
        "  if not frames_path.exists():\n",
        "    frames_path.mkdir()\n",
        "\n",
        "  # Set min and max values and give it some padding\n",
        "  x_min, x_max = X[:, 0].min() - .5, X[:, 0].max() + .5\n",
        "  y_min, y_max = X[:, 1].min() - .5, X[:, 1].max() + .5\n",
        "  h = 0.01\n",
        "\n",
        "  # Generate a grid of points with distance h between them\n",
        "  xx, yy = np.meshgrid(np.arange(x_min, x_max, h), np.arange(y_min, y_max, h))\n",
        "\n",
        "  # Predict the function value for the whole gid\n",
        "  grid_points = np.c_[xx.ravel(), yy.ravel()]\n",
        "  grid_points = torch.from_numpy(grid_points).type(torch.FloatTensor)\n",
        "  Z = model.predict(grid_points.to(device)).cpu().numpy()\n",
        "  Z = Z.reshape(xx.shape)\n",
        "\n",
        "  # Plot the contour and training examples\n",
        "  plt.contourf(xx, yy, Z, cmap=plt.cm.Spectral)\n",
        "  plt.scatter(X[:, 0], X[:, 1], c=y, cmap=plt.cm.binary)"
      ]
    },
    {
      "cell_type": "code",
      "execution_count": null,
      "metadata": {
        "id": "k46Jojwpno-t"
      },
      "outputs": [],
      "source": [
        "# Implement the train function given a training dataset X and correcsponding labels y\n",
        "def train(model, X, y):\n",
        "  \"\"\"\n",
        "    Training the Neural Network\n",
        "\n",
        "    Args:\n",
        "      X: torch.Tensor\n",
        "        Input data\n",
        "      y: torch.Tensor\n",
        "        Class Labels/Targets\n",
        "\n",
        "    Returns:\n",
        "      losses: Float\n",
        "        Cross Entropy Loss; Cross-entropy builds upon the idea of entropy\n",
        "        from information theory and calculates the number of bits required\n",
        "        to represent or transmit an average event from one distribution\n",
        "        compared to another distribution.\n",
        "    \"\"\"\n",
        "  # The Cross Entropy Loss is suitable for classification problems\n",
        "  loss_function = nn.CrossEntropyLoss()\n",
        "\n",
        "  # Create an optimizer (Stochastic Gradient Descent) that will be used to train the network\n",
        "  learning_rate = 1e-2\n",
        "  optimizer = torch.optim.SGD(model.parameters(), lr=learning_rate)\n",
        "\n",
        "  # Number of epochs\n",
        "  epochs = 15000\n",
        "\n",
        "  # List of losses for visualization\n",
        "  losses = []\n",
        "\n",
        "  for i in range(epochs):\n",
        "    # Pass the data through the network and compute the loss\n",
        "    # We'll use the whole dataset during the training instead of using batches\n",
        "    # in to order to keep the code simple for now.\n",
        "    y_logits = model.forward(X)\n",
        "    loss = loss_function(y_logits, y)\n",
        "\n",
        "    # Clear the previous gradients and compute the new ones\n",
        "    optimizer.zero_grad()\n",
        "    loss.backward()\n",
        "\n",
        "    # Adapt the weights of the network\n",
        "    optimizer.step()\n",
        "\n",
        "    # Store the loss\n",
        "    losses.append(loss.item())\n",
        "\n",
        "    # Print the results at every 1000th epoch\n",
        "    if i % 1000 == 0:\n",
        "      print(f\"Epoch {i} loss is {loss.item()}\")\n",
        "\n",
        "      plot_decision_boundary(model, X, y, DEVICE)\n",
        "      plt.savefig('frames/{:05d}.png'.format(i))\n",
        "\n",
        "  return losses\n",
        "\n",
        "\n",
        "# Create a new network instance a train it\n",
        "model = NaiveNet().to(DEVICE)\n",
        "losses = train(model, X, y)"
      ]
    },
    {
      "cell_type": "markdown",
      "metadata": {
        "id": "i15SED4Ono-t"
      },
      "source": [
        "**Plot the loss during training**\n",
        "\n",
        "Plot the loss during the training to see how it reduces and converges."
      ]
    },
    {
      "cell_type": "code",
      "execution_count": null,
      "metadata": {
        "id": "gltQ5tf-no-u"
      },
      "outputs": [],
      "source": [
        "plt.plot(np.linspace(1, len(losses), len(losses)), losses)\n",
        "plt.xlabel(\"Epoch\")\n",
        "plt.ylabel(\"Loss\")"
      ]
    },
    {
      "cell_type": "code",
      "execution_count": null,
      "metadata": {
        "cellView": "form",
        "id": "__e_4OSGno-u"
      },
      "outputs": [],
      "source": [
        "# @title Visualize the training process\n",
        "# @markdown Execute this cell!\n",
        "!pip install imageio --quiet\n",
        "!pip install pathlib --quiet\n",
        "\n",
        "import imageio\n",
        "from IPython.core.interactiveshell import InteractiveShell\n",
        "from IPython.display import Image, display\n",
        "from pathlib import Path\n",
        "\n",
        "InteractiveShell.ast_node_interactivity = \"all\"\n",
        "\n",
        "# Make a list with all images\n",
        "images = []\n",
        "for i in range(10):\n",
        "  filename = Path(\"frames/0\"+str(i)+\"000.png\")\n",
        "  images.append(imageio.imread(filename))\n",
        "# Save the gif\n",
        "imageio.mimsave('frames/movie.gif', images)\n",
        "gifPath = Path(\"frames/movie.gif\")\n",
        "with open(gifPath,'rb') as f:\n",
        "  display(Image(data=f.read(), format='png'))"
      ]
    },
    {
      "cell_type": "code",
      "execution_count": null,
      "metadata": {
        "cellView": "form",
        "id": "E-ebdRGwno-v"
      },
      "outputs": [],
      "source": [
        "# @title Video 13: Play with it\n",
        "from ipywidgets import widgets\n",
        "\n",
        "out2 = widgets.Output()\n",
        "with out2:\n",
        "  from IPython.display import IFrame\n",
        "  class BiliVideo(IFrame):\n",
        "    def __init__(self, id, page=1, width=400, height=300, **kwargs):\n",
        "      self.id=id\n",
        "      src = \"https://player.bilibili.com/player.html?bvid={0}&page={1}\".format(id, page)\n",
        "      super(BiliVideo, self).__init__(src, width, height, **kwargs)\n",
        "\n",
        "  video = BiliVideo(id=f\"BV1Cq4y1W7BH\", width=854, height=480, fs=1)\n",
        "  print(\"Video available at https://www.bilibili.com/video/{0}\".format(video.id))\n",
        "  display(video)\n",
        "\n",
        "out1 = widgets.Output()\n",
        "with out1:\n",
        "  from IPython.display import YouTubeVideo\n",
        "  video = YouTubeVideo(id=f\"_GGkapdOdSY\", width=854, height=480, fs=1, rel=0)\n",
        "  print(\"Video available at https://youtube.com/watch?v=\" + video.id)\n",
        "  display(video)\n",
        "\n",
        "out = widgets.Tab([out1, out2])\n",
        "out.set_title(0, 'Youtube')\n",
        "out.set_title(1, 'Bilibili')\n",
        "\n",
        "# add timing to airtable\n",
        "atform.add_event('Video 13: Play with it')\n",
        "\n",
        "display(out)"
      ]
    },
    {
      "cell_type": "markdown",
      "metadata": {
        "id": "u0VWrZJvno-v"
      },
      "source": [
        "### Exercise 3.3: Tweak your Network\n",
        "\n",
        "You can now play around with the network a little bit to get a feeling of what different parameters are doing. Here are some ideas what you could try:\n",
        "\n",
        "- Increase or decrease the number of epochs for training\n",
        "- Increase or decrease the size of the hidden layer\n",
        "- Add one additional hidden layer\n",
        "\n",
        "Can you get the network to better fit the data?"
      ]
    },
    {
      "cell_type": "markdown",
      "metadata": {
        "id": "gi-OHtigno-v"
      },
      "source": [
        "[*Click for solution*](https://github.com/NeuromatchAcademy/course-content-dl/tree/main//tutorials/W1D1_BasicsAndPytorch/solutions/W1D1_Tutorial1_Solution_fd3bd4a1.py)\n",
        "\n"
      ]
    },
    {
      "cell_type": "code",
      "execution_count": null,
      "metadata": {
        "cellView": "form",
        "id": "pKd95xGwno-w"
      },
      "outputs": [],
      "source": [
        "# @title Video 14: XOR Widget\n",
        "from ipywidgets import widgets\n",
        "\n",
        "out2 = widgets.Output()\n",
        "with out2:\n",
        "  from IPython.display import IFrame\n",
        "  class BiliVideo(IFrame):\n",
        "    def __init__(self, id, page=1, width=400, height=300, **kwargs):\n",
        "      self.id=id\n",
        "      src = \"https://player.bilibili.com/player.html?bvid={0}&page={1}\".format(id, page)\n",
        "      super(BiliVideo, self).__init__(src, width, height, **kwargs)\n",
        "\n",
        "  video = BiliVideo(id=f\"BV1mB4y1N7QS\", width=854, height=480, fs=1)\n",
        "  print(\"Video available at https://www.bilibili.com/video/{0}\".format(video.id))\n",
        "  display(video)\n",
        "\n",
        "out1 = widgets.Output()\n",
        "with out1:\n",
        "  from IPython.display import YouTubeVideo\n",
        "  video = YouTubeVideo(id=f\"oTr1nE2rCWg\", width=854, height=480, fs=1, rel=0)\n",
        "  print(\"Video available at https://youtube.com/watch?v=\" + video.id)\n",
        "  display(video)\n",
        "\n",
        "out = widgets.Tab([out1, out2])\n",
        "out.set_title(0, 'Youtube')\n",
        "out.set_title(1, 'Bilibili')\n",
        "\n",
        "# add timing to airtable\n",
        "atform.add_event('Video 14: XOR Widget')\n",
        "\n",
        "display(out)"
      ]
    },
    {
      "cell_type": "markdown",
      "metadata": {
        "id": "ZExhu9xpno-w"
      },
      "source": [
        "Exclusive OR (XOR) logical operation gives a true (`1`) output when the number of true inputs is odd. That is, a true output result if one, and only one, of the inputs to the gate is true. If both inputs are false (`0`) or both are true or false output results. Mathematically speaking, XOR represents the inequality function, i.e., the output is true if the inputs are not alike; otherwise, the output is false.\n",
        "\n",
        "In case of two inputs ($X$ and $Y$) the following truth table is applied:\n",
        "\n",
        "\\begin{matrix}\n",
        "  X & Y & \\text{XOR}\\\\\n",
        "  \\hline\n",
        "  0 & 0 & 0\\\\\n",
        "  0 & 1 & 1\\\\\n",
        "  1 & 0 & 1\\\\\n",
        "  1 & 1 & 0\n",
        "\\end{matrix}\n",
        "\n",
        "Here, with `0`, we denote `False`, and with `1` we denote `True` in boolean terms."
      ]
    },
    {
      "cell_type": "markdown",
      "metadata": {
        "id": "oWwRZ2Cqno-w"
      },
      "source": [
        "### Interactive Demo 3.3: Solving XOR\n",
        "\n",
        "Here we use an open source and famous visualization widget developed by Tensorflow team available [here](https://github.com/tensorflow/playground).\n",
        "* Play with the widget and observe if you can solve the continuous XOR dataset.\n",
        "* Now add one hidden layer with three units, play with the widget, and set weights by hand to solve this dataset perfectly.\n",
        "\n",
        "For the second part, you should set the weights by clicking on the connections and either type the value or use the up and down keys to change it by one increment. You could also do the same for the biases by clicking on the tiny square to each neuron's bottom left.\n",
        "Even though there are infinitely many solutions, a neat solution when $f(x)$ is ReLU is: \n",
        "\n",
        "\\begin{equation}\n",
        "  y = f(x_1)+f(x_2)-f(x_1+x_2)\n",
        "\\end{equation}\n",
        "\n",
        "Try to set the weights and biases to implement this function after you played enough :)"
      ]
    },
    {
      "cell_type": "code",
      "execution_count": null,
      "metadata": {
        "cellView": "form",
        "id": "kdJmvSvGno-x"
      },
      "outputs": [],
      "source": [
        "# @markdown Play with the parameters to solve XOR\n",
        "from IPython.display import IFrame\n",
        "IFrame(\"https://playground.arashash.com/#activation=relu&batchSize=10&dataset=xor&regDataset=reg-plane&learningRate=0.03&regularizationRate=0&noise=0&networkShape=&seed=0.91390&showTestData=false&discretize=false&percTrainData=90&x=true&y=true&xTimesY=false&xSquared=false&ySquared=false&cosX=false&sinX=false&cosY=false&sinY=false&collectStats=false&problem=classification&initZero=false&hideText=false\", width=1020, height=660)"
      ]
    },
    {
      "cell_type": "code",
      "execution_count": null,
      "metadata": {
        "cellView": "form",
        "id": "MLMZveZpno-x"
      },
      "outputs": [],
      "source": [
        "# @markdown Do you think we can solve the discrete XOR (only 4 possibilities) with only 2 hidden units?\n",
        "w1_min_xor = 'Select' #@param ['Select', 'Yes', 'No']\n",
        "if w1_min_xor == 'Yes':\n",
        "  print(\"Awesome. Indeed, yes. We take the two points for which the output should be 1 and dedicate one of the hidden units to each of them. Each of theses  ReLU functions are diagonal and tuned so that only for one of those two points the output is 1. In the end, we add these two together. And voila - discrete xor.\")\n",
        "else:\n",
        "  print(\"How about giving it another try?\")"
      ]
    },
    {
      "cell_type": "markdown",
      "metadata": {
        "id": "BeZmvulano-x"
      },
      "source": [
        "---\n",
        "# Section 4: Ethics And Course Info"
      ]
    },
    {
      "cell_type": "code",
      "execution_count": null,
      "metadata": {
        "cellView": "form",
        "id": "TwfGEt0Zno-y"
      },
      "outputs": [],
      "source": [
        "# @title Video 15: Ethics\n",
        "from ipywidgets import widgets\n",
        "\n",
        "out2 = widgets.Output()\n",
        "with out2:\n",
        "  from IPython.display import IFrame\n",
        "  class BiliVideo(IFrame):\n",
        "    def __init__(self, id, page=1, width=400, height=300, **kwargs):\n",
        "      self.id=id\n",
        "      src = \"https://player.bilibili.com/player.html?bvid={0}&page={1}\".format(id, page)\n",
        "      super(BiliVideo, self).__init__(src, width, height, **kwargs)\n",
        "\n",
        "  video = BiliVideo(id=f\"BV1Hw41197oB\", width=854, height=480, fs=1)\n",
        "  print(\"Video available at https://www.bilibili.com/video/{0}\".format(video.id))\n",
        "  display(video)\n",
        "\n",
        "out1 = widgets.Output()\n",
        "with out1:\n",
        "  from IPython.display import YouTubeVideo\n",
        "  video = YouTubeVideo(id=f\"Kt6JLi3rUFU\", width=854, height=480, fs=1, rel=0)\n",
        "  print(\"Video available at https://youtube.com/watch?v=\" + video.id)\n",
        "  display(video)\n",
        "\n",
        "out = widgets.Tab([out1, out2])\n",
        "out.set_title(0, 'Youtube')\n",
        "out.set_title(1, 'Bilibili')\n",
        "\n",
        "display(out)"
      ]
    },
    {
      "cell_type": "code",
      "execution_count": null,
      "metadata": {
        "cellView": "form",
        "id": "Wj3NDDWJno-y"
      },
      "outputs": [],
      "source": [
        "# @title Video 16: Be a group\n",
        "from ipywidgets import widgets\n",
        "\n",
        "out2 = widgets.Output()\n",
        "with out2:\n",
        "  from IPython.display import IFrame\n",
        "  class BiliVideo(IFrame):\n",
        "    def __init__(self, id, page=1, width=400, height=300, **kwargs):\n",
        "      self.id=id\n",
        "      src = \"https://player.bilibili.com/player.html?bvid={0}&page={1}\".format(id, page)\n",
        "      super(BiliVideo, self).__init__(src, width, height, **kwargs)\n",
        "\n",
        "  video = BiliVideo(id=f\"BV1j44y1272h\", width=854, height=480, fs=1)\n",
        "  print(\"Video available at https://www.bilibili.com/video/{0}\".format(video.id))\n",
        "  display(video)\n",
        "\n",
        "out1 = widgets.Output()\n",
        "with out1:\n",
        "  from IPython.display import YouTubeVideo\n",
        "  video = YouTubeVideo(id=f\"Sfp6--d_H1A\", width=854, height=480, fs=1, rel=0)\n",
        "  print(\"Video available at https://youtube.com/watch?v=\" + video.id)\n",
        "  display(video)\n",
        "\n",
        "out = widgets.Tab([out1, out2])\n",
        "out.set_title(0, 'Youtube')\n",
        "out.set_title(1, 'Bilibili')\n",
        "\n",
        "display(out)"
      ]
    },
    {
      "cell_type": "code",
      "execution_count": null,
      "metadata": {
        "cellView": "form",
        "id": "5xqByEMYno-y"
      },
      "outputs": [],
      "source": [
        "# @title Video 17: Syllabus\n",
        "from ipywidgets import widgets\n",
        "\n",
        "out2 = widgets.Output()\n",
        "with out2:\n",
        "  from IPython.display import IFrame\n",
        "  class BiliVideo(IFrame):\n",
        "    def __init__(self, id, page=1, width=400, height=300, **kwargs):\n",
        "      self.id=id\n",
        "      src = \"https://player.bilibili.com/player.html?bvid={0}&page={1}\".format(id, page)\n",
        "      super(BiliVideo, self).__init__(src, width, height, **kwargs)\n",
        "\n",
        "  video = BiliVideo(id=f\"BV1iB4y1N7uQ\", width=854, height=480, fs=1)\n",
        "  print(\"Video available at https://www.bilibili.com/video/{0}\".format(video.id))\n",
        "  display(video)\n",
        "\n",
        "out1 = widgets.Output()\n",
        "with out1:\n",
        "  from IPython.display import YouTubeVideo\n",
        "  video = YouTubeVideo(id=f\"cDvAqG_hAvQ\", width=854, height=480, fs=1, rel=0)\n",
        "  print(\"Video available at https://youtube.com/watch?v=\" + video.id)\n",
        "  display(video)\n",
        "\n",
        "out = widgets.Tab([out1, out2])\n",
        "out.set_title(0, 'Youtube')\n",
        "out.set_title(1, 'Bilibili')\n",
        "\n",
        "display(out)"
      ]
    },
    {
      "cell_type": "markdown",
      "metadata": {
        "id": "lMxpVTStno-z"
      },
      "source": [
        "## Meet our lecturers\n",
        "\n",
        "### Week 1: the building blocks\n",
        "* [Konrad Kording](https://kordinglab.com)\n",
        "* [Andrew Saxe](https://www.saxelab.org/)\n",
        "* [Surya Ganguli](https://ganguli-gang.stanford.edu/)\n",
        "* [Ioannis Mitliagkas](http://mitliagkas.github.io/)\n",
        "* [Lyle Ungar](https://www.cis.upenn.edu/~ungar/)\n",
        "\n",
        "### Week 2: making things work\n",
        "* [Alona Fyshe](https://webdocs.cs.ualberta.ca/~alona/)\n",
        "* [Alexander Ecker](https://eckerlab.org/)\n",
        "* [James Evans](https://sociology.uchicago.edu/directory/james-evans)\n",
        "* [He He](https://hhexiy.github.io/)\n",
        "* [Vikash Gilja](https://tnel.ucsd.edu/bio) and [Akash Srivastava](https://akashgit.github.io/)\n",
        "\n",
        "### Week 3: more magic\n",
        "* [Tim Lillicrap](https://contrastiveconvergence.net/~timothylillicrap/index.php) and [Blake Richards](https://www.mcgill.ca/neuro/blake-richards-phd)\n",
        "* [Jane Wang](http://www.janexwang.com/) and [Feryal Behbahani](https://feryal.github.io/)\n",
        "* [Tim Lillicrap](https://contrastiveconvergence.net/~timothylillicrap/index.php) and [Blake Richards](https://www.mcgill.ca/neuro/blake-richards-phd)\n",
        "* [Josh Vogelstein](https://jovo.me/) and [Vincenzo Lamonaco](https://www.vincenzolomonaco.com/)"
      ]
    },
    {
      "cell_type": "markdown",
      "metadata": {
        "id": "MuVU00s6no-z"
      },
      "source": [
        "Now, go to the [visualization of ICLR papers](https://iclr.cc/virtual/2021/paper_vis.html). Read a few abstracts. Look at the various clusters. Where do you see yourself in this map?"
      ]
    },
    {
      "cell_type": "markdown",
      "metadata": {
        "id": "gvhyAuhsno-z"
      },
      "source": [
        "---\n",
        "# Submit to Airtable"
      ]
    },
    {
      "cell_type": "code",
      "execution_count": null,
      "metadata": {
        "cellView": "form",
        "id": "yR-RvIqCno-z"
      },
      "outputs": [],
      "source": [
        "# @title Video 18: Submission info\n",
        "from ipywidgets import widgets\n",
        "\n",
        "out2 = widgets.Output()\n",
        "with out2:\n",
        "  from IPython.display import IFrame\n",
        "  class BiliVideo(IFrame):\n",
        "    def __init__(self, id, page=1, width=400, height=300, **kwargs):\n",
        "      self.id=id\n",
        "      src = \"https://player.bilibili.com/player.html?bvid={0}&page={1}\".format(id, page)\n",
        "      super(BiliVideo, self).__init__(src, width, height, **kwargs)\n",
        "\n",
        "  video = BiliVideo(id=f\"BV1e44y127ti\", width=854, height=480, fs=1)\n",
        "  print(\"Video available at https://www.bilibili.com/video/{0}\".format(video.id))\n",
        "  display(video)\n",
        "\n",
        "out1 = widgets.Output()\n",
        "with out1:\n",
        "  from IPython.display import YouTubeVideo\n",
        "  video = YouTubeVideo(id=f\"JwTn7ej2dq8\", width=854, height=480, fs=1, rel=0)\n",
        "  print(\"Video available at https://youtube.com/watch?v=\" + video.id)\n",
        "  display(video)\n",
        "\n",
        "out = widgets.Tab([out1, out2])\n",
        "out.set_title(0, 'Youtube')\n",
        "out.set_title(1, 'Bilibili')\n",
        "\n",
        "display(out)"
      ]
    },
    {
      "cell_type": "markdown",
      "metadata": {
        "id": "RuXLUPySno-0"
      },
      "source": [
        "This is Darryl, the Deep Learning Dapper Lion, and he's here to teach you about content submission to airtable.\n",
        "<br>\n",
        "<img src=\"https://raw.githubusercontent.com/NeuromatchAcademy/course-content-dl/main/tutorials/static/DapperLion.png\" alt=\"Darryl\"> \n",
        "<br><br>\n",
        "At the end of each tutorial there will be an <b>Airtable Submission Cell</b>. Run the cell to generate the airtable submission button and click on it to submit your information to airtable.\n",
        "<br><br>\n",
        "if it is the last tutorial of the day your button will look like this and take you to the end of day survey: \n",
        "<br>\n",
        "<img src=\"https://raw.githubusercontent.com/NeuromatchAcademy/course-content-dl/main/tutorials/static/SurveyButton.png?raw=1\" alt=\"Survey Button\">\n",
        "\n",
        "Otherwise it look like this: \n",
        "<br>\n",
        "\n",
        "<img src=\"https://raw.githubusercontent.com/NeuromatchAcademy/course-content-dl/main/tutorials/static/AirtableSubmissionButton.png?raw=1\" alt=\"Submission Button\"> \n",
        "<br><br>\n",
        "\n",
        "It is critical that you push the submit button for every tutorial you run. **Even if you don't finish the tutorial, still submit!**\n",
        "Submitting is the only way we can verify that you attempted each tutorial, which is critical for us to be able to track your progress."
      ]
    },
    {
      "cell_type": "markdown",
      "metadata": {
        "id": "F8pYgMowno-0"
      },
      "source": [
        "### TL;DR: Basic tutorial workflow\n",
        "\n",
        "1. Work through the tutorial, answering **Think!** questions and **Coding Exercises**.\n",
        "\n",
        "2. At the end of each tutorial, (even if the tutorial is incomplete) run the airtable submission code cell.\n",
        "\n",
        "3. Push the *Submission* button.\n",
        "\n",
        "4. If the last tutorial of the day, *Submission* button will also take you to the end of the day survey on a new page. Complete that and submit."
      ]
    },
    {
      "cell_type": "markdown",
      "metadata": {
        "id": "Kfr_1YA7no-1"
      },
      "source": [
        "### Submission FAQs: \n",
        "\n",
        "1. What if I want to change my answers to previous discussion questions? \n",
        "> You are free to change and resubmit any of the answers and Think! questions as many times as you like. However, **please only run the airtable submission code and click on the link once you are ready to submit**.\n",
        "\n",
        "2. Okay, but what if I submitted my airtable anyway and really want to resubmit?\n",
        "> After making changes, you can re-run the airtable submission cell code cell. This will result in a second submission from you for our database. But, this will make Darryl sad as it will be more work for him to clean up the data later. \n",
        "\n",
        "3. HELP! I accidentally ran the code to generate the airtable submission button before I was ready to submit! what do I do?\n",
        "> If you run the code to generate the link, anything that happens afterwards will not be captured. Complete the tutorial and make sure to re-run the airtable submission again when you are finished before pressing the submission button. \n",
        "\n",
        "4. What if I want to work on this on my own later, should I wait to submit until I'm finished?\n",
        ">  Please submit wherever you are at the end of the day. It's great that you want to keep working on this, but it's important to see the places where we tried things that didn't quite work out, so we can fix them for next year.  \n",
        "\n",
        "Finally, we try to keep the airtable code as hidden as possible, but if you ever see any calls to `atform`  such as `atform.add_event()` in the coding exercises, just know that is for saving airtable information only. **It will not affect the code that is being run around it in any way**, so please do not modify, comment out, or worry about any of those lines of code.\n",
        "<br><br><br>\n",
        "\n",
        "Now, lets try submitting today's course to Airtable by running the next cell and clicking the button when it appears. "
      ]
    },
    {
      "cell_type": "code",
      "execution_count": null,
      "metadata": {
        "cellView": "form",
        "id": "ydWVo-ZLno-2"
      },
      "outputs": [],
      "source": [
        "# @title Airtable Submission Link\n",
        "from IPython import display as IPyDisplay\n",
        "IPyDisplay.HTML(\n",
        "    f\"\"\"\n",
        "  <div>\n",
        "    <a href= \"{atform.url()}\" target=\"_blank\">\n",
        "    <img src=\"https://github.com/NeuromatchAcademy/course-content-dl/blob/main/tutorials/static/SurveyButton.png?raw=1\"\n",
        "  alt=\"button link to survey\" style=\"width:410px\"></a>\n",
        "    </div>\"\"\" )"
      ]
    },
    {
      "cell_type": "markdown",
      "metadata": {
        "id": "XXTdNkqWno-2"
      },
      "source": [
        "---\n",
        "# Bonus - 60 years of Machine Learning Research in one Plot\n",
        "\n",
        "By [Hendrik Strobelt](http://hendrik.strobelt.com) (MIT-IBM Watson AI Lab) with support from Benjamin Hoover.\n",
        "\n",
        "In this notebook we visualize a subset* of 3,300 articles retreived from the AllenAI [S2ORC dataset](https://github.com/allenai/s2orc). We represent each paper by a position that is output of a dimensionality reduction method applied to a vector representation of each paper. The vector representation is the output of a neural network.\n",
        "\n",
        "**Note:** The selection is very biased on the keywords and methodology we used to filter. Please see the details section to learn about what we did. "
      ]
    },
    {
      "cell_type": "code",
      "execution_count": null,
      "metadata": {
        "cellView": "form",
        "id": "KckdgJLnno-3"
      },
      "outputs": [],
      "source": [
        "# @title Install and Import `altair` and `vega_datasets`.\n",
        "!pip install altair vega_datasets --quiet\n",
        "\n",
        "import altair as alt  # altair is defining data visualizations\n",
        "\n",
        "# Source data files\n",
        "# Position data file maps ID to x,y positions\n",
        "# original link: http://gltr.io/temp/ml_regexv1_cs_ma_citation+_99perc.pos_umap_cosine_100_d0.1.json\n",
        "POS_FILE = 'https://osf.io/qyrfn/download'\n",
        "# original link: http://gltr.io/temp/ml_regexv1_cs_ma_citation+_99perc_clean.csv\n",
        "# Metadata file maps ID to title, abstract, author,....\n",
        "META_FILE = 'https://osf.io/vfdu6/download'\n",
        "\n",
        "# data loading and wrangling\n",
        "def load_data():\n",
        "  \"\"\"\n",
        "  Loading the data\n",
        "\n",
        "  Args:\n",
        "    None\n",
        "\n",
        "  Returns:\n",
        "    Merged read dataFrame combining id and paper_id;\n",
        "  \"\"\"\n",
        "  positions = pd.read_json(POS_FILE)\n",
        "  positions[['x', 'y']] = positions['pos'].to_list()\n",
        "  meta = pd.read_csv(META_FILE)\n",
        "  return positions.merge(meta, left_on='id', right_on='paper_id')\n",
        "\n",
        "\n",
        "# load data\n",
        "data = load_data()"
      ]
    },
    {
      "cell_type": "code",
      "execution_count": null,
      "metadata": {
        "cellView": "form",
        "id": "5pKXqGX7no-3"
      },
      "outputs": [],
      "source": [
        "# @title Define Visualization using ALtair\n",
        "YEAR_PERIOD = \"quinquennial\"  # @param\n",
        "selection = alt.selection_multi(fields=[YEAR_PERIOD], bind='legend')\n",
        "data[YEAR_PERIOD] = (data[\"year\"] / 5.0).apply(np.floor) * 5\n",
        "chart = alt.Chart(data[[\"x\", \"y\", \"authors\", \"title\", YEAR_PERIOD, \"citation_count\"]], width=800,\n",
        "                  height=800).mark_circle(radius=2, opacity=0.2).encode(\n",
        "    alt.Color(YEAR_PERIOD+':O',\n",
        "              scale=alt.Scale(scheme='viridis', reverse=False, clamp=True, domain=list(range(1955,2020,5))),\n",
        "              # legend=alt.Legend(title='Total Records')\n",
        "              ),\n",
        "    alt.Size('citation_count',\n",
        "              scale=alt.Scale(type=\"pow\", exponent=1, range=[15, 300])\n",
        "              ),\n",
        "       alt.X('x:Q',\n",
        "        scale=alt.Scale(zero=False), axis=alt.Axis(labels=False)\n",
        "    ),\n",
        "       alt.Y('y:Q',\n",
        "        scale=alt.Scale(zero=False), axis=alt.Axis(labels=False)\n",
        "    ),\n",
        "    tooltip=['title', 'authors'],\n",
        "    # size='citation_count',\n",
        "    # color=\"decade:O\",\n",
        "    opacity=alt.condition(selection, alt.value(.8), alt.value(0.2)),\n",
        "\n",
        ").add_selection(\n",
        "    selection\n",
        ").interactive()"
      ]
    },
    {
      "cell_type": "markdown",
      "metadata": {
        "id": "StuiuBwqno-4"
      },
      "source": [
        "Lets look at the Visualization. Each dot represents one paper. Close dots mean that the respective papers are closer related than distant ones. The color indicates the 5-year period of when the paper was published. The dot size indicates the citation count (within S2ORC corpus) as of July 2020. \n",
        "\n",
        "The view is **interactive** and allows for three main interactions. Try them and play around:\n",
        "1. Hover over a dot to see a tooltip (title, author)\n",
        "2. Select a year in the legend (right) to filter dots\n",
        "3. Zoom in/out with scroll -- double click resets view"
      ]
    },
    {
      "cell_type": "code",
      "execution_count": null,
      "metadata": {
        "id": "WmUyC2C0no-4"
      },
      "outputs": [],
      "source": [
        "chart"
      ]
    },
    {
      "cell_type": "markdown",
      "metadata": {
        "id": "VNMNhEzKno-5"
      },
      "source": [
        "## Questions\n",
        "\n",
        "By playing around, can you find some answers to the following questions?\n",
        "\n",
        "1. Can you find topical clusters? What cluster might occur because of a filtering error?\n",
        "2. Can you see a temporal trend in the data and clusters?\n",
        "3. Can you determine when deep learning methods started booming ?\n",
        "4. Can you find the key papers that where written before the DL \"winter\" that define milestones for a cluster? (tip: look for large dots of different color)"
      ]
    },
    {
      "cell_type": "markdown",
      "metadata": {
        "id": "Kevj9gYCno-6"
      },
      "source": [
        "[*Click for solution*](https://github.com/NeuromatchAcademy/course-content-dl/tree/main//tutorials/W1D1_BasicsAndPytorch/solutions/W1D1_Tutorial1_Solution_21a88cd0.py)\n",
        "\n"
      ]
    },
    {
      "cell_type": "markdown",
      "metadata": {
        "id": "IqR8UxOXno-6"
      },
      "source": [
        "## Methods\n",
        "\n",
        "Here is what we did:\n",
        "1. Filtering of all papers who fullfilled the criterria:\n",
        "  - are categorized as `Computer Science` or `Mathematics` \n",
        "  - one of the following keywords appearing in title or abstract: `\"machine learning|artificial intelligence|neural network|(machine|computer) vision|perceptron|network architecture| RNN | CNN | LSTM | BLEU | MNIST | CIFAR |reinforcement learning|gradient descent| Imagenet \"`\n",
        "2. Per year, remove all papers that are below the 99 percentile of citation count in that year\n",
        "3. Embed each paper by using abstract + title in SPECTER model\n",
        "4. Project based on embedding using UMAP\n",
        "5. Visualize using Altair"
      ]
    },
    {
      "cell_type": "markdown",
      "metadata": {
        "id": "SR4hhxavno-7"
      },
      "source": [
        "### Find Authors"
      ]
    },
    {
      "cell_type": "code",
      "execution_count": null,
      "metadata": {
        "cellView": "form",
        "id": "SgURWDDlno-7"
      },
      "outputs": [],
      "source": [
        "# @title Edit the `AUTHOR_FILTER` variable to full text search for authors.\n",
        "\n",
        "AUTHOR_FILTER = \"Rush \"  # @param space at the end means \"word border\"\n",
        "\n",
        "### Don't ignore case when searching...\n",
        "FLAGS = 0\n",
        "### uncomment do ignore case\n",
        "# FLAGS = re.IGNORECASE\n",
        "\n",
        "## --- FILTER CODE.. make it your own ---\n",
        "data['issel'] = data['authors'].str.contains(AUTHOR_FILTER, na=False, flags=FLAGS, )\n",
        "if data['issel'].mean()<0.0000000001:\n",
        "  print('No match found')\n",
        "\n",
        "## --- FROM HERE ON VIS CODE ---\n",
        "alt.Chart(data[[\"x\", \"y\", \"authors\", \"title\", YEAR_PERIOD, \"citation_count\", \"issel\"]], width=800,\n",
        "                  height=800) \\\n",
        "    .mark_circle(stroke=\"black\", strokeOpacity=1).encode(\n",
        "    alt.Color(YEAR_PERIOD+':O',\n",
        "              scale=alt.Scale(scheme='viridis', reverse=False),\n",
        "              # legend=alt.Legend(title='Total Records')\n",
        "              ),\n",
        "    alt.Size('citation_count',\n",
        "              scale=alt.Scale(type=\"pow\", exponent=1, range=[15, 300])\n",
        "              ),\n",
        "    alt.StrokeWidth('issel:Q', scale=alt.Scale(type=\"linear\", domain=[0,1], range=[0, 2]), legend=None),\n",
        "\n",
        "    alt.Opacity('issel:Q', scale=alt.Scale(type=\"linear\", domain=[0,1], range=[.2, 1]), legend=None),\n",
        "    alt.X('x:Q',\n",
        "        scale=alt.Scale(zero=False), axis=alt.Axis(labels=False)\n",
        "    ),\n",
        "    alt.Y('y:Q',\n",
        "        scale=alt.Scale(zero=False), axis=alt.Axis(labels=False)\n",
        "    ),\n",
        "    tooltip=['title', 'authors'],\n",
        ").interactive()"
      ]
    },
    {
      "cell_type": "markdown",
      "metadata": {
        "id": "1mHGGd3ino-8"
      },
      "source": [
        "---\n",
        "# Appendix\n",
        "\n",
        "## Official PyTorch resources:\n",
        "\n",
        "### Tutorials\n",
        "- [https://pytorch.org/tutorials/](https://pytorch.org/tutorials/)\n",
        "\n",
        "### Documentation\n",
        "- [https://pytorch.org/docs/stable/tensors.html](https://pytorch.org/docs/stable/tensors.html) (tensor methods)\n",
        "\n",
        "- [https://pytorch.org/docs/stable/generated/torch.Tensor.view.html#torch.Tensor.view](https://pytorch.org/docs/stable/generated/torch.Tensor.view.html#torch.Tensor.view) (The view method in particular)\n",
        "\n",
        "- [https://pytorch.org/vision/stable/datasets.html](https://pytorch.org/vision/stable/datasets.html) (pre-loaded image datasets)\n",
        "\n",
        "## Google Colab Resources:\n",
        "- [https://research.google.com/colaboratory/faq.html](https://research.google.com/colaboratory/faq.html) (FAQ including guidance on GPU usage)\n",
        "\n",
        "## Books for reference:\n",
        "- [https://www.deeplearningbook.org/](https://www.deeplearningbook.org/) (Deep Learning by Ian Goodfellow, Yoshua Bengio and Aaron Courville)"
      ]
    }
  ],
  "metadata": {
    "accelerator": "GPU",
    "colab": {
      "collapsed_sections": [],
      "provenance": [],
      "toc_visible": true,
      "include_colab_link": true
    },
    "kernel": {
      "display_name": "Python 3",
      "language": "python",
      "name": "python3"
    },
    "kernelspec": {
      "display_name": "Python 3",
      "name": "python3"
    },
    "language_info": {
      "codemirror_mode": {
        "name": "ipython",
        "version": 3
      },
      "file_extension": ".py",
      "mimetype": "text/x-python",
      "name": "python",
      "nbconvert_exporter": "python",
      "pygments_lexer": "ipython3",
      "version": "3.7.11"
    },
    "widgets": {
      "application/vnd.jupyter.widget-state+json": {
        "04e53e1c92604bbfaf368a529762b0c8": {
          "model_module": "@jupyter-widgets/base",
          "model_module_version": "1.2.0",
          "model_name": "LayoutModel",
          "state": {
            "_model_module": "@jupyter-widgets/base",
            "_model_module_version": "1.2.0",
            "_model_name": "LayoutModel",
            "_view_count": null,
            "_view_module": "@jupyter-widgets/base",
            "_view_module_version": "1.2.0",
            "_view_name": "LayoutView",
            "align_content": null,
            "align_items": null,
            "align_self": null,
            "border": null,
            "bottom": null,
            "display": null,
            "flex": null,
            "flex_flow": null,
            "grid_area": null,
            "grid_auto_columns": null,
            "grid_auto_flow": null,
            "grid_auto_rows": null,
            "grid_column": null,
            "grid_gap": null,
            "grid_row": null,
            "grid_template_areas": null,
            "grid_template_columns": null,
            "grid_template_rows": null,
            "height": null,
            "justify_content": null,
            "justify_items": null,
            "left": null,
            "margin": null,
            "max_height": null,
            "max_width": null,
            "min_height": null,
            "min_width": null,
            "object_fit": null,
            "object_position": null,
            "order": null,
            "overflow": null,
            "overflow_x": null,
            "overflow_y": null,
            "padding": null,
            "right": null,
            "top": null,
            "visibility": null,
            "width": null
          }
        },
        "0b9ca152e2434fc68d41b60ec31ef69a": {
          "model_module": "@jupyter-widgets/output",
          "model_module_version": "1.0.0",
          "model_name": "OutputModel",
          "state": {
            "_dom_classes": [],
            "_model_module": "@jupyter-widgets/output",
            "_model_module_version": "1.0.0",
            "_model_name": "OutputModel",
            "_view_count": null,
            "_view_module": "@jupyter-widgets/output",
            "_view_module_version": "1.0.0",
            "_view_name": "OutputView",
            "layout": "IPY_MODEL_5a8b2cef2a5542418b1200bd5b357138",
            "msg_id": "",
            "outputs": [
              {
                "name": "stdout",
                "output_type": "stream",
                "text": [
                  "Video available at https://www.bilibili.com/video/BV1gf4y1j7UZ\n"
                ]
              },
              {
                "data": {
                  "text/html": "\n        <iframe\n            width=\"854\"\n            height=\"480\"\n            src=\"https://player.bilibili.com/player.html?bvid=BV1gf4y1j7UZ&page=1?fs=1\"\n            frameborder=\"0\"\n            allowfullscreen\n        ></iframe>\n        ",
                  "text/plain": "<__main__.BiliVideo at 0x7f7fc7cb3850>"
                },
                "metadata": {},
                "output_type": "display_data"
              }
            ]
          }
        },
        "1c08ec5187d34443b53c2f73d1bd4bb9": {
          "model_module": "@jupyter-widgets/base",
          "model_module_version": "1.2.0",
          "model_name": "LayoutModel",
          "state": {
            "_model_module": "@jupyter-widgets/base",
            "_model_module_version": "1.2.0",
            "_model_name": "LayoutModel",
            "_view_count": null,
            "_view_module": "@jupyter-widgets/base",
            "_view_module_version": "1.2.0",
            "_view_name": "LayoutView",
            "align_content": null,
            "align_items": null,
            "align_self": null,
            "border": null,
            "bottom": null,
            "display": null,
            "flex": null,
            "flex_flow": null,
            "grid_area": null,
            "grid_auto_columns": null,
            "grid_auto_flow": null,
            "grid_auto_rows": null,
            "grid_column": null,
            "grid_gap": null,
            "grid_row": null,
            "grid_template_areas": null,
            "grid_template_columns": null,
            "grid_template_rows": null,
            "height": null,
            "justify_content": null,
            "justify_items": null,
            "left": null,
            "margin": null,
            "max_height": null,
            "max_width": null,
            "min_height": null,
            "min_width": null,
            "object_fit": null,
            "object_position": null,
            "order": null,
            "overflow": null,
            "overflow_x": null,
            "overflow_y": null,
            "padding": null,
            "right": null,
            "top": null,
            "visibility": null,
            "width": null
          }
        },
        "2aa1602689c94826a798ba3ce317a14d": {
          "model_module": "@jupyter-widgets/base",
          "model_module_version": "1.2.0",
          "model_name": "LayoutModel",
          "state": {
            "_model_module": "@jupyter-widgets/base",
            "_model_module_version": "1.2.0",
            "_model_name": "LayoutModel",
            "_view_count": null,
            "_view_module": "@jupyter-widgets/base",
            "_view_module_version": "1.2.0",
            "_view_name": "LayoutView",
            "align_content": null,
            "align_items": null,
            "align_self": null,
            "border": null,
            "bottom": null,
            "display": null,
            "flex": null,
            "flex_flow": null,
            "grid_area": null,
            "grid_auto_columns": null,
            "grid_auto_flow": null,
            "grid_auto_rows": null,
            "grid_column": null,
            "grid_gap": null,
            "grid_row": null,
            "grid_template_areas": null,
            "grid_template_columns": null,
            "grid_template_rows": null,
            "height": null,
            "justify_content": null,
            "justify_items": null,
            "left": null,
            "margin": null,
            "max_height": null,
            "max_width": null,
            "min_height": null,
            "min_width": null,
            "object_fit": null,
            "object_position": null,
            "order": null,
            "overflow": null,
            "overflow_x": null,
            "overflow_y": null,
            "padding": null,
            "right": null,
            "top": null,
            "visibility": null,
            "width": null
          }
        },
        "488baa7cb8e348d08c20d445df58243d": {
          "model_module": "@jupyter-widgets/controls",
          "model_module_version": "1.5.0",
          "model_name": "TabModel",
          "state": {
            "_dom_classes": [],
            "_model_module": "@jupyter-widgets/controls",
            "_model_module_version": "1.5.0",
            "_model_name": "TabModel",
            "_titles": {
              "0": "Youtube",
              "1": "Bilibili"
            },
            "_view_count": null,
            "_view_module": "@jupyter-widgets/controls",
            "_view_module_version": "1.5.0",
            "_view_name": "TabView",
            "box_style": "",
            "children": [
              "IPY_MODEL_c016e9f52af84f92b459eb80aae3579b",
              "IPY_MODEL_0b9ca152e2434fc68d41b60ec31ef69a"
            ],
            "layout": "IPY_MODEL_b518d918c6914c1b9d9ce12baca6ea68",
            "selected_index": 0
          }
        },
        "5a8b2cef2a5542418b1200bd5b357138": {
          "model_module": "@jupyter-widgets/base",
          "model_module_version": "1.2.0",
          "model_name": "LayoutModel",
          "state": {
            "_model_module": "@jupyter-widgets/base",
            "_model_module_version": "1.2.0",
            "_model_name": "LayoutModel",
            "_view_count": null,
            "_view_module": "@jupyter-widgets/base",
            "_view_module_version": "1.2.0",
            "_view_name": "LayoutView",
            "align_content": null,
            "align_items": null,
            "align_self": null,
            "border": null,
            "bottom": null,
            "display": null,
            "flex": null,
            "flex_flow": null,
            "grid_area": null,
            "grid_auto_columns": null,
            "grid_auto_flow": null,
            "grid_auto_rows": null,
            "grid_column": null,
            "grid_gap": null,
            "grid_row": null,
            "grid_template_areas": null,
            "grid_template_columns": null,
            "grid_template_rows": null,
            "height": null,
            "justify_content": null,
            "justify_items": null,
            "left": null,
            "margin": null,
            "max_height": null,
            "max_width": null,
            "min_height": null,
            "min_width": null,
            "object_fit": null,
            "object_position": null,
            "order": null,
            "overflow": null,
            "overflow_x": null,
            "overflow_y": null,
            "padding": null,
            "right": null,
            "top": null,
            "visibility": null,
            "width": null
          }
        },
        "72f4d52abea943f481da127d17892c78": {
          "model_module": "@jupyter-widgets/controls",
          "model_module_version": "1.5.0",
          "model_name": "TabModel",
          "state": {
            "_dom_classes": [],
            "_model_module": "@jupyter-widgets/controls",
            "_model_module_version": "1.5.0",
            "_model_name": "TabModel",
            "_titles": {
              "0": "Youtube",
              "1": "Bilibili"
            },
            "_view_count": null,
            "_view_module": "@jupyter-widgets/controls",
            "_view_module_version": "1.5.0",
            "_view_name": "TabView",
            "box_style": "",
            "children": [
              "IPY_MODEL_827bc66e3ea04a22adc3b1445341ceed",
              "IPY_MODEL_c1b68650162a455dbe7c7dfc64e475b2"
            ],
            "layout": "IPY_MODEL_a44f0967a6e14477b1a314f97855688d",
            "selected_index": 0
          }
        },
        "827bc66e3ea04a22adc3b1445341ceed": {
          "model_module": "@jupyter-widgets/output",
          "model_module_version": "1.0.0",
          "model_name": "OutputModel",
          "state": {
            "_dom_classes": [],
            "_model_module": "@jupyter-widgets/output",
            "_model_module_version": "1.0.0",
            "_model_name": "OutputModel",
            "_view_count": null,
            "_view_module": "@jupyter-widgets/output",
            "_view_module_version": "1.0.0",
            "_view_name": "OutputView",
            "layout": "IPY_MODEL_2aa1602689c94826a798ba3ce317a14d",
            "msg_id": "",
            "outputs": [
              {
                "name": "stdout",
                "output_type": "stream",
                "text": [
                  "Video available at https://youtube.com/watch?v=jGKd_4tPGrw\n"
                ]
              },
              {
                "data": {
                  "image/jpeg": "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\n",
                  "text/html": "\n        <iframe\n            width=\"854\"\n            height=\"480\"\n            src=\"https://www.youtube.com/embed/jGKd_4tPGrw?fs=1&rel=0\"\n            frameborder=\"0\"\n            allowfullscreen\n        ></iframe>\n        ",
                  "text/plain": "<IPython.lib.display.YouTubeVideo at 0x7f80a1b05550>"
                },
                "metadata": {},
                "output_type": "display_data"
              }
            ]
          }
        },
        "a036f3fbcfda42c6a543bba1cd0f17d2": {
          "model_module": "@jupyter-widgets/output",
          "model_module_version": "1.0.0",
          "model_name": "OutputModel",
          "state": {
            "_dom_classes": [],
            "_model_module": "@jupyter-widgets/output",
            "_model_module_version": "1.0.0",
            "_model_name": "OutputModel",
            "_view_count": null,
            "_view_module": "@jupyter-widgets/output",
            "_view_module_version": "1.0.0",
            "_view_name": "OutputView",
            "layout": "IPY_MODEL_04e53e1c92604bbfaf368a529762b0c8",
            "msg_id": "",
            "outputs": [
              {
                "name": "stdout",
                "output_type": "stream",
                "text": [
                  "Video available at https://www.bilibili.com/video/BV1Av411n7oL\n"
                ]
              },
              {
                "data": {
                  "text/html": "\n        <iframe\n            width=\"854\"\n            height=\"480\"\n            src=\"https://player.bilibili.com/player.html?bvid=BV1Av411n7oL&page=1?fs=1\"\n            frameborder=\"0\"\n            allowfullscreen\n        ></iframe>\n        ",
                  "text/plain": "<__main__.BiliVideo at 0x7f80a1b0e550>"
                },
                "metadata": {},
                "output_type": "display_data"
              }
            ]
          }
        },
        "a44f0967a6e14477b1a314f97855688d": {
          "model_module": "@jupyter-widgets/base",
          "model_module_version": "1.2.0",
          "model_name": "LayoutModel",
          "state": {
            "_model_module": "@jupyter-widgets/base",
            "_model_module_version": "1.2.0",
            "_model_name": "LayoutModel",
            "_view_count": null,
            "_view_module": "@jupyter-widgets/base",
            "_view_module_version": "1.2.0",
            "_view_name": "LayoutView",
            "align_content": null,
            "align_items": null,
            "align_self": null,
            "border": null,
            "bottom": null,
            "display": null,
            "flex": null,
            "flex_flow": null,
            "grid_area": null,
            "grid_auto_columns": null,
            "grid_auto_flow": null,
            "grid_auto_rows": null,
            "grid_column": null,
            "grid_gap": null,
            "grid_row": null,
            "grid_template_areas": null,
            "grid_template_columns": null,
            "grid_template_rows": null,
            "height": null,
            "justify_content": null,
            "justify_items": null,
            "left": null,
            "margin": null,
            "max_height": null,
            "max_width": null,
            "min_height": null,
            "min_width": null,
            "object_fit": null,
            "object_position": null,
            "order": null,
            "overflow": null,
            "overflow_x": null,
            "overflow_y": null,
            "padding": null,
            "right": null,
            "top": null,
            "visibility": null,
            "width": null
          }
        },
        "ab676a83e8af4c7aa6f84d2229112afc": {
          "model_module": "@jupyter-widgets/output",
          "model_module_version": "1.0.0",
          "model_name": "OutputModel",
          "state": {
            "_dom_classes": [],
            "_model_module": "@jupyter-widgets/output",
            "_model_module_version": "1.0.0",
            "_model_name": "OutputModel",
            "_view_count": null,
            "_view_module": "@jupyter-widgets/output",
            "_view_module_version": "1.0.0",
            "_view_name": "OutputView",
            "layout": "IPY_MODEL_f6370802c821437d9fda392f5a457d25",
            "msg_id": "",
            "outputs": [
              {
                "name": "stdout",
                "output_type": "stream",
                "text": [
                  "Video available at https://youtube.com/watch?v=ca21SNqt78I\n"
                ]
              },
              {
                "data": {
                  "image/jpeg": "/9j/4AAQSkZJRgABAQAAAQABAAD/2wCEABALDBkYFhoaGRkdHRofITIlICAiIC0mKCUlMC4yMDAnLS81SFBCNDhLOS0tRGFFS1NWW11bMkFlbWVYbFBZW1cBERISGRYYLRoaLVc2NTdXV1dXV1dXV1dXV1dXV1dXV1dXV1dXV1dXV1dXV1dXV1dXV1dXV1dXV1dXV11XV1dXV//AABEIAWgB4AMBIgACEQEDEQH/xAAbAAEAAQUBAAAAAAAAAAAAAAAABQEDBAYHAv/EAEoQAAIBAwAFBwkDCQYGAwEAAAABAgMEEQUSITFRBhMUQVOS0RUWIjJUYXGRoVKBsSMzNUJyc7LB8AdiosLS4SU0dIKT8TZDsyT/xAAYAQEBAQEBAAAAAAAAAAAAAAAAAgEDBP/EAB8RAQADAAICAwEAAAAAAAAAAAABAhESIQMxIkFRE//aAAwDAQACEQMRAD8A5+AAAAAAAAAAAAAAAAAAAAAAAAAAAAAAAAAAAAAAAAAAAAAAAAAAAAAAAAAAAAAAAAAAAAAAAAAAAAAAAAAAAAAAAAAAAAAAAAAAAAAAAAAAAAAAAAAAAAAAAAAAAAAAAAAAAAAAAAAAAAAAAAAAAAAAAAAAAAAAAAC/0WXFDosuKAsAv9FlxQ6LLigLAL/RZcUOiy4oCwC/0WXFDosuKAsAv9FlxQ6LLigLAL/RZcUOiy4oCwC/0WXFDosuKAsAv9FlxQ6LLigLAL/RZcUOiy4oCwC/0WXFDosuKAsAv9FlxQ6LLigLAL/RZcUOiy4oCwC/0WXFDosuKAsAv9FlxQ6LLigLAL/RZcUOiy4oCwC/0WXFDosuKAsAv9FlxQ6LLigLAL/RZcUOiy4oCwC/0WXFDosuKAsAv9FlxQ6LLigLAL/RZcUOiy4oCwDJpWM5yjFOOZNJZzvbwTXmVddpQ70v9IGuA2TzKuu0od6X+keZV12lDvS/0ma3Gtg2TzKuu0od6X+keZV12lDvS/0jTGtg2TzKuu0od6X+keZV12lHvS/0m6zGtg2PzLuu0o96X+kp5mXX26Pel/pM0a6DYfM25+3R70v9JTzPuft0e9L/AEjRr4J/zQuft0e9LwKPklcfbpd6XgbogQTvmncfbpd6XgUfJW4+3S+cvAaIME2+S9x9ul85eB5fJquv16fzl4AWAAEgAAAAAAAAAAAAAAAAAAAAAAAAAAAAAAAAAAAAAAAAAAAAAAAAAAAAC9ZfnqX7yP8AEjoSmc9svz1L95H+JHRFAyy6qKZ61z0qZ6VMlS3rFdYuc2V5sC3rFHIu82UcALLkeXL3F50zy4Biw5e48uRfcDw4hiy2eGy84nhxDFls8tl1o8NAWmzGrvDMxoxbyHo54GsagACmAAAAAAAAAAAAAAAAAAAAAAAAAAAAAAAAAAAAAAAAAAAAAAAAAAAAAC/Y/n6P7yP8SOlqBzSw/P0f3kf4kdPRNl0UUT1qnpI9EreNUrqHoqaPGoUcS4Axh3deNKDnN7F9SAq8o3l6sY79mcmTpuMq9ZUYP0Y41vi/9ir0BQSWYyl95XKtI7TwvefitWun4yeKkce9bSWjiSTW1PczXL/R8YZVPMWupvKM/k9WlzDUs5jIbW0bVOWrOWSUolp4PUtpbaJao0eXE9YPWALDiWqsMpriZMkW2gNCAPdCjOpOMIRcpyeIxW9stLwCT83r72Wr8jCurOrRlq1qc6be5Si1n4cQLIAAAAAC7K2qKnGq6clTk8RnqvVb4JloAAAAAAAJZ2F66tKlGepVhKEsZxLfh9YFkHqnTlOUYxTcpNJJb23uRdlZ1VV5l05c7nGpj0s4zjHwAsA9VKcoScZRcZReGmsNPg0eQAKN43lQAAAAAAAAABlXWja9GMZ1aU4Rl6ra2PZn8AMUAyamjq8aKrSpTVKWGptbHncBjAAAAAADCYAAAAABfsPz9H95H+JHT0cwsPz9H95H+JHTUybLouork8JnpErehk85KOQHvJTWPDkU1jRr2lFON1LUcoptazWOtYxkwpq5dSCU5RbezM3LPFuPBLJN3cNSo5PDUurj8fw+4iavNxy4yVOb4b8cDnNtl2rTIR7lWlKWtKTak08P+RNaAy6dTO9VMburC/3ImEY6z1vTfHrNg0NS1aTe5SlsXuWwqJ+nG8fbIcTy4l9ottFOa1gHtorqhi00W5IvtFuSA54SnJf9I2v7z/LIiyU5L/pG1/ef5ZFsZendK3cLy4jCvWUVUaSUnhL3Gdc3FWroScrzLmqyVCUliUl6O33/AK6zwRTTHKy9o3VenCcFCE3GOYJ7ELiu9JaNrXFaKVe1lsnHKUo7G1jjt/ANQ+jtC89SdapXpW9FS1VOby3Lgol295P6lvK4oXNO5pReJuCw4fFZZeo2Ftb2VK5uoTrTrN81SjNwikt7bW3qX0M3Rc7eVjpKVCFSm3R9OnKWvFbJYcZb317+AEPo3QrrUpV6laFvQjLV5yazmXCK6yt9oaNOi61G6o3FOLSlq+jKLe70WXdGaXoK26Jd0ZVKOvrwlB4nCT/p9fWXLzQ1vO3qXNlXlOFL85TqRxOKfXnZ/XWBZuYXHkyhOVfNu6rUKWrtjJa23PWtj2e8po7QE6tF3FWtTtqGcKpU/WfuWzPzMq9/Qdp+/n/nPfK/ZT0fGH5lW6cMbs4WX8cY+YYwdIaEVKi69K5pXFFS1ZShscW9yayy7Hk9GFOnK5u6VtKpHWjCUXOWr1NpNYIN7dnE2SWl7G8jT6bSqQrQioc9SeU0t2V8+phqK0po12zh+Vp1YVFrQnTllNLY9nUYJK6a0PG2VKrSqqtQrJuE8Yezen/XEigx7o+vH9pfibFy8g3frCb/ACMer3yNdo+vH9pfibtyr5RXVrdqlRnFQ5uMsOCe1t+Aa1TQ1OXTLb0X+eh1P7SJbScaj07NUZ83VdWKjPGcPm11dezJc0bytvalzRpyqQcZ1Ixl6CWxySZ6uP8A5Ev30f8A80BFeTa91f1qLmp1VOXOVJbI4i8Ob4L3F+PJ+lN6tDSFvVq9UMOGs+EZNtM9eVXZ6Tu56iqQnUqQnBvGYub3PjsL9DRujb2WpbVatvWl6tOqtaLe/Cf+4F/kRYwdSdR1qTk6c4ui8OSWV6fw8TX7jR2rXhQo1YXLklqypbU28+j8dmfvJnkZScL6vCWyUaNSL+KlFMs8gUunRzjKoy1c/a9H+WQKy5MwhJU62kLalXeM03tw31N5X4EVpXR1W0qunWjhpZTW1SXFMxqkpOUnU9dtueftZ9LP35Nh5QtvROjpT/OYkk3v5vGz6agY81eSc6bTrXNGlScU+dnsTb/USb2tfzI7SGipUKNvW11Up145i0sarWPRfv3/ACZJcuG+lUVnYraGPdlyz+CPWhf/AOvR9zZ76lP8tQ9/2or+v1w1F6I0TK7lUSnGnCnBznOSykuH4/IjzY6j6JoiEVsq3stZ8eaW757O8zXAx5qeq/gdL0xTVzQdnhc50aNal75RbTX4L/uZzSp6r+BuvKG/drfWFfqjRWt74NtSXyDWq6Ks3c3FKjH/AOySTfCO9v5ZN15U3MKmjKyppKFKvGlHH9xpP65X3HipYR0fUvr5Y1XHFv8AtVNr+uPuyRUf/j88vL6Rtb6/SW0CL0ZoadxCdWVSFChB4lVqbs8Eut7i/X5P5pTq21zTulTWakYJxnFcdVt5RLXMLXyVYKtKtGm8v8iotOptzrZ6/W+pi6IvtG2ldVoVLuTw4uMoQw0+p4AhdGaNq3VVU6STeMtvZGMeLZJw5OU6ktSjpC3q1uqnhx1muqMsvJm8nI0eg6SbdSMMpSdNLXVLbjGf+76kdTjouMoyVa9Ti009SnsaeUBXk3o9O+iqtSFKdKpH8nU9aby8xj79n1R65WWUKdzVnGvSm51HmlH1qez9YvSvqVzpmhWoqSjOpTzrLDclsb+SRHco/wDn7r96wI0ABgAAL9j+fo/vI/xI6Umc1sfz9L95H+JHRosmy6ryZ61i1krrErXdYo2W9Yo5Gj22Ey25FUwMXSL9DPBkHc2sKiy6cZP3onLx5jjia5cxqwk1F+ic59utZyvalCglNRjFRcnjC+RuGooQjFborBqdjlVITm90l8smydMp1NkJxk1vSe35FVcby96x5cjxkZLcnpFzB4i0eshry0W5IuNniRg5uZWi7zo9zSrautzcs6ucZ2Nb/vMUFsbJX5Q2VScpz0ZTlOTzKTqbW+O4xtJ8oedodGoUIW1DOXGDy5PfteF1kIAJmz01T6MrW7oOtSg805Rlqzg+C921nuGnKNOhcUKFrqQrQ1dZ1HKfXtk2vfuRBgCW0fpShGjzFzaRqwTcozjLUqJvft6/mtyPd1pmkredvaW7o06jTqSlNznLH6vuX+5DACRraU17GjaamObqOevrb862zGNnrGTYadjGgra6oK4oReYelqzh+y//AEQoAltI6Ut5UOYtrSNGDkpSnJ69RtbsN7vnxL8tL2VZRdzY/lEktajN01JJY2rZ/MggBJ6W0t0jmoQpRpUKKxTpp537231t4Mrla6XPUlTowozVJc7CGMRk9qi2tjaX8iCAFYSw0+DySOn9K9NuOe1NT0FHV1tbc3tzhcSNAF6yr81WpVcZ1JqWM4zh5wZ9TTOtpHpvN/rqeprcIqOM493AigBKUNMRjdV68renVhWctanPbiMpa2E8bH9xmUdNWVvLnbaykqyzqupVcowb2ZS/9GvgCT0NpiVtdOvKPOa6kqizjOs8t/HJS40hShXpVbKk7fm92Za7b9/uw8Y4EaANiqacsasudr6P1q72y1ajUJPjJf7Mi9M6UqXlTXmlFKOrCEfVhHgjBAEjpzSnS6sKmpqatONPGc51W3nq4l/kkqvlCg6Se963DUx6Wf634IckrfT11SocxTqalPbuitba8v0t/WBd5VaQVxeVHF/k6f5OGN2I72vvz9C/ymdHm7RRoQo1uazUhDGxPGrlrre1/eQKAFJLKaJTTul+mSpS5vU5umoetnOOvciMAEnf6aqV7W3tpL0aO95zrY2R+SygtL/8Pdnze+pr6+t708Yx7uJGACW0XpvmaUretRjXtpPOo3hxfGL6i5U0pZwhONtYpSnFxc603U1U9j1VtIUAZ2iNK1LOq500pKS1Zwl6s48GZ/lTR0Zc5DRz5zeoyqt00/hw92CCAGVC+lG5VxGMVJVOc1YrEc5zhLqRnac0nbXLc6dtKlWnLWqTc852Ywl/63EOAAAAAAC9ZfnqX7yP8SOhxkc4hNxkpLenlfFEl5wXX213ImTGqrON4Uhk0fzhuu0XciPOK77RdyJnFXKG86xRyNH84rvtF3Ilq50zcVYOE6novfiKWfkMOUNnveUVvSbim6kl1R3fMg73lRXnlU8Uo+7bL5kI0MG4zk2DQunYRjzVw3vzGpv371Lr+8mpxoVIpxrU2v2kaLqopqLgTPjiZ1ceXrG06Qv6FHYpqpJdUNv13Gr1a7lUc90m87Or4DVQ1EbWuIm2s2hpy5p7FUclwl6X47TYNE8oIV5KFRalR7tvoy+HBmpaqCjgrEujnpGlR0/dJJc4tnGESvnDdfbj3ImYluuTyzTPOG67SPciPOG6+3HuRGNRYBdtaUZ1YQnNU4SeJTayorizRaBsFNaH11SzdPbjnspLO7Orw+4w7/RHR7+NtKWtGU4JSWxuE2ln3Pf8gIsGy6Q0do2zuJ06s69VprEIYWoml60tmX17Opow+UOi6NCNCvbzlKhXi5R1t8WsbPr9GBDGZZ6NnWo3FWLio0IqU085aed3yZLrRNpaUKdS+lVlVqrWjRptLVjxb4/eZdlRtlo/Sc7WpOUZUUnTqLE4NKW9rY087H7mGtRLlCjOpOMKcXOcnhRSy2WzaOT8laaOur5JOtnmqbazq5ws/N5+5BiyuSFWKXPXFtRk90J1NpH6W0HcWmHVinCXq1IPMX9/U/iYap1a0pSUalWTeZSUXN5fW8GTKd5C3dGSrxt86zjKElFP4tbFnq3AYANgs9C2srCndV60qSdSUZ4w3JJtKMFj1nhfUx7TRdO7u5QtnKnbxjrSnU2uMUllv353f7AQ4J+MdESlzSd1HLwq7ccZ4uPD7iPvdEVaV30XGtUckoNbpKW6XuXHhhgYANhubPRtpPmazr160fzkqbUYxfBZ3/Ux9IaKo0ZW9aNSdSyrP1kkpxx60H1a2/5PgBF1bapCMJzhKMKizCTWyS4rjvRaNy08rHoNll3GOal0fGrwj+c+m400ATlhyXrV6EK6q0YQnnGvJp7G1w9xBmz31GU9B2ajCU3z0niMXL7fADHrcj7pQcqcqVbG+NOeZfcsbSANh5H2Fyr6lOFOpCEc85JxcVq4ex537cbD3e6PoXMdIV6DlztGs5aqa1ZU29sksZ+0/u94Gtl63talVtU4Sm4rWais4XEyNCaOd1dUqO1KTzJreoLa3/L7zaeTULGNe6jRddyjTmm5OLi6aaWVs3gaQCTo6OpXV3CjZc5zcor0quMxx60njq3GfVo6IpTdGUrmo09WVaLWqn14XWvuf3ga6CR09ol2c1iaqUpx16VT7Uff793zJjSmhdH2dVKtWrSUoJxpQw5Z25lJ4WFwXuYGrAmdEaHpyt5Xd3UdO3i9VKHrVJ8F7v8Afdg9XFPRlSlUdGdahVgsxjV9KNT+6sdYGDLRk1aRusx5uVTUS/Wys+BhG12lGjPQtPn6rp043Em9VZlLetWK47S1b6LsLylWVrz9OvSg5pVGmppfD+toGsgJgAAAAAAAAAAAAAAAk7Tk9eVqcalOjrQluetFZ6utl7zUv/Z334eIEMCZ81L/ANnffh4jzUv/AGf/ABw8QIYEvPkxex30UvjUgv5lryDdfYj/AOSHiNhuI0EuuTF61lUdn7cPE9eat/2H+OHiNYhgTPmpf9h/jh4jzUv+w/xw8RrUMCZ81L/sP8cPEw9IaJuLZRdenqa2dXannG/cwxhAAAS3Jewp3N7Tp1dsMOTj9rCzq/1wIkuUK86c41KcnGcXmMlvTAmbvlBKVSVOVrbuipuCo81hpJ4wpLape9dZm8qP0zQ+NH+Mja3KW4m3LUt41WsOtGilU73UYl5pStXuI3FRxdWOrhpYXovK2AZXK39JXP7S/giZenP0Xoz4S/kQl9dzuKs6tTDnN5lhYWxJbvuPdxpGrVo0aM2ubo51Elh7eL6wJvlxButRuFto1KMdSXVlZePk0edAUpeTdKT1XqSpJRljY2lLOOO9GDo7lFc29PmouE6XVCpHWS+AuOUd1UjVhKcdSrHUlFRxGMduyK6t+/4cA1FG0cnMXVlc2GslVb5ylnc2sPHzS+Zq56pzlGSlFuMk8qSeGnxTDGbQvbqwnOEZSoTeFNOKy8bt6fHqNkp3l1W0PeTupSeWlTcoqOY+juwlnbki6XLG8UUpc1Ua3SnTy/o0R2k9MXF2069RyS3RWyK+7+bDUndfoO2/6iX+cvci5xcb2lqRqTnRzGEnhTS1k45/7l8yCnpCpK3hbNrmoTc4rG3Weev72WaFedOcZ05OE4vKknhoCUemLdNxei6ClnDi5zynwxjeZ9rpd1dLWk69FUHT/JauXsypKOc7tskYr5W3WdbVt+c7TmVr/Pd9CGua86s5VKknOcnmUnvYGw6avqVC6rQq6NoOWu3rOclrpvKl95h6S0u6lrToRtIUKTnzkHFyabWU8ZXvFHlRdRhGE+arKPqutT12vvyYWktKV7qSlWnraqxFJYjFe5L4BiV5Qfo/RX7qX+QgXSlqqerLUbwpYeq3wzuySdrykuaVBUFzcoJNR14azin1J/ey5PSiWiYWrmpydTKio45uClrbX1tv6MCFNw8pVrXQtpOhPUk6kot4T2Zm+v4GnmXV0lVnb07aTXNU5a0Vjbl56/vYGVdcpL2tBwncS1XvSSjlcG0snrktfq3vKet+aqfkqi6sS2L64+7JEGZo/RVe6bjQpuWGlKWUlHO5v5MDY1YvRdC/qvZOcuYt3/de3WX3P/AYfIhflrn/AKaX4octNIc5Xp26nrxoRSlL7VRr0n8sfUh9GaRq2tVVaLSljDyspp9TX3INSfIOpFXmq2k6lCUIP+96L/CLISrbzpTdKcWqkXquONud2xdZlaQ0pVuKsastWE4pKPNx1MYeVjrzkkYcsLxJZ5mUksKpKmnP55x9Axd5VRdKxsLef56FNykuuKa2J/h9x55c/wDPr9xD8ZEHd3E685VKs3Oct7f9bC7pHSFS6qc7Vac9VR2LCws4/FgTd3B1tCW0qayqFWXOpb1nW9J/NfM12lRnNScIykoLWk4rOquL4GTozSte0m5UZ6udkotZjJe9GZecprqtTdPNOnCXrKlDU1vc3kDJq/oKl/1L/wAx75Ef8xcf9PL8UQr0hVdtG2yuajPXSxt1tvX95XR2kattKUqTScouDys+i/8A0BhQ9VfA9BIAAAAAAAAAAAAAAHUeSf6Ot/2X/EyXIjkn+jrf9l/xMlyVwEDprTih+SovWm97T3feXOU2keapKEZYlPe+Ef8Ac0iveuUWo5bns3dREz9QqEjWrQXrybl1/ExXVjvjGT29TI+m6r9CSUsbk+pHp3cIboyg+tZyvkTitT1PSNRRxrNpvO1rqJChpuUIpLZxztNLhpDWTWMrgeqdxNJ4zj3srGOnaP0lGssbpcDNOd6G0jNSys5i8m/2lbnKUZ/aWSoTK6ad/aH6tt8ZfgjcTTv7Q/VtvjL8EbHtMtJABSQGZ5KuOzXfh4jyVcdmu/DxAwwZnkq47Nd+HiPJVx2a78PEDDBmeSrjs134eI8lXHZrvw8QMMGZ5KuOzXfh4jyVcdmu/DxAwwZnkq47Nd+HiPJVx2a78PEDDBmeSrjs134eI8lXHZrvw8QMMGZ5KuOzXfh4jyVcdmu/DxAwwZnkq47Nd+HiPJVx2a78PEDDBmeSrjs134eI8lXHZrvw8QMMGZ5KuOzXfh4jyVcdmu/DxAwwZnkq47Nd+HiPJVx2a78PEDDPdOvOGdSc4Z36snHPxxvMnyVcdmu/DxHkq47Nd+HiBhgzPJVx2a78PEeSrjs134eIGGDM8lXHZrvw8R5KuOzXfh4gYYMzyVcdmu/DxHkq47Nd+HiBhgzPJVx2a78PEeSrjs134eIGGDM8lXHZrvw8R5KuOzXfh4gYYMzyVcdmu/DxHkq47Nd+HiBhgzPJVx2a78PEeSrjs134eIGGDM8lXHZrvw8R5KuOzXfh4gYYMzyVcdmu/DxHkq47Nd+HiBhgzPJVx2a78PEeSrjs134eIGGDM8lXHZrvw8R5KuOzXfh4gdF5J/o63/Zf8TJci+TFKULChGSxJReVlP8AWfAk6jxF/BkyuHPtNXEq9arNvZrYivcti8SPjGOcp5ecY4/1hF6tl8Et54s6WJ53nNbPoWetLOOr59e0xb2wjnOrtJ2zWFuLtW1U+o5cu3aKxjTuhqKylszt9xkPR0njr8CfeierGwyrXRqhHGW/iXFtZNUHZ2GpJKWzP4G9aOWKMVwIarZqUqex51lH7mzYYQUUktyOkONno03+0P1bb4y/BG5Gp8u7WpVjb6kc4cs+kl1Li0VCJaGDM8k3HZr/AMkPEeSbjs1/5IeJaWFhDCKgwUwhhFQBTCGEVAFMIYRUAUwhhFQBTCGEVAFMIYRUAUwhhFQBTCGEVAFMIYRUAUwhhFQBTCGEVAFMIYRUAUwhhFQBTCGEVAFMLgMLgVAFMLgMLgVAFMLgMLgVAFMLgMLgVAFMLgMLgVAFMLgMIqAKYXAYXAqAKYXAYXAqAOo8kv0db/sv+JktPc87sENyUl/w6h7ov+Jl7ytSqOVJTWXF5e73EyuGn3trhqVOecbMOOPvTyebaMtdZ2LrwtuPcSdajPWhTwtRbG8e7iXqFuoxlGW3Jwi3Xb0Wp308RvqMY72ls3rre5Fqpplp+iljg9h4ubNzai5NRym8Y6txZqaJUJa0cS9+fxMyrfky6GmNaWGtV/EznfwjtlJJGv22j5yqwg3hN5bXUk9x6uLGarzjnMdfe+GE8fJlRWGTM/jbNHXMKs4uDzv/AAJc0aDubeDqUYpqLxJra8Pc8da4m4WVWcqNOU8OUoptpYW06xHTjb2yDTv7RF6Nt+1L8EbhrPgaf/aH6tt8ZfgioRLSMIYRUGpAAADAYG1R0RF1KMVYKVGcIOdbnZxa1opyl62Nm17iAqWD/JOm9eFaco02k85UtXEuD2xf3mdPSNpKtRryjc85TjBYi4KLcElv3pPBdsLyUKNxcTgknUdS327q8taL1V1pRk3/ANqDWBZWkXfU6E2px59U5YbSktbDw9jwXL6yjbRdOcHK5qbYx2/kqeXq/tTlw6l7zE0dcKjXo1Wm1TnGTS3vDyZHlLWg41FKUoT5yhPfKEtbWcZZ3we/HUwwraJlHnIqrTnVpRcqlKOtrRS9bDxqya60meoaHb1I89S5ydJVYU/SzKLhr4zjCeM7G+ouVNI0FOtWpwqqtWjJNScXCDn67T3ve8Z49Zbp6SirihV1ZYp0Y02tmW1SdPK92XkCxOw1aVKpKrTXOpOEW3nGs4tvZiKWM5bLlfRcoxUqdSNX01BqKlFqUvV2TSynh4aFPSEYys5amt0eKUk90sTlLZ8/mjKqaZShJQnXqS56FWLrNNJwbersb4rwQHmnounFXSlVpVJ0qMm4xcswqKUVnLSUsbU8ZLWhLeNR126PPOFFzhT9LbLXgv1Gm9jZ7lfWy6TKnCsp16co4k46sHKSk8Y2tbPcYtjecyq/rZqUnTi4vGHrRln/AAgZt5YQdOhJ0uiVKlSUXCbnhwST5zEsyW30cdb3FjyPJzoxhUhJVXJRliUcSisuMlJJrZjq6y1o6+5qtzk9eXoyjrJ5nHWTWtFvrWTNhpmEZWv56rzNScpSqNa0lNJYW14xt3sDD0bZ846U5YdN3EKUo7cvW2/LCZ6s7eEr6FKSzTdfUay/V1sYzv3F6lfW9KFOFKNZqNxCs3PVTaimtVJbvmYttdqF1Gu03FVecx141s4+IGTf2ULaLhODdxUeYR24pU9Z6r98pY3dS37S3V0TKPORVWnKtTi5VKK1taKW2WHjVk0t6T6nwKy0nrxnGopSam6lCe+UJOWXF53xfWuO4uz0jQU6tenCqq9WM1huPNwlUTU5J73vlhPiBZ8kT1qMFUpupWjGUYJvKhJZ1pPGIpfHJchYUuYqTjVp1mqtKEXHXjjWc9ZNNLY8R2+54PMNKKNehVUG406UaU4t41koOEsPqym8BXVvTpSp0VWetUpzcqmotlNy9HEf2t/4BpV0ak6s5VKVGnCvKlt15YktuI4TbWOt8Np5loiUZVlUqQpwotRlUetJNyWYqKim3lbd2xbzzf30atOrBRac7mdZZxsUlhR+JIRuFeSuI81UlCUoVEqbhzkZRhqZUW/STWc43ZQYib2zdFwTnGanBTjKLbWq20t+PsmOSWnVFVKMI/8A10IwknJScZa0nhtbM4ks4I0AAAAAAAAAAAAAAAAAAAAAAAAAAAOnclEvJ1D9l57zM92lJ7ebhn9lGByU/R1D9l/xMlMmLRWlKap4a2KWxLHWjDzsyTGkoJ0ZNratxB1p7MHnvXJd6W2HmdRL4litWWOL+BZqS2GPRrpyccSyvcQ66l7GVOCTcll7XguXkIykpxe2Wx/FERCjDW2bH71gy6+IwjqyTae7JcRnbJlN2FDMXGUm01tSws+4k2sYS3JGJoyDVJOW97TLlvO8enmt7Eal/aH6tt8ZfgjbMGp/2h+rbfGX4I1EtJABqQAAAAAAAAAAAAAAAAAAAAAAAAAAAAADQAAApN7H8AKgsU1Un6uWXXbV/sv5ozYXFLT6h6B46NW4P5oqrav9l/NDlB/O349A8dGrcH80OjVuD+aHKD+dvx7B4lQrJZcXj7jxRm29rN3WTWY9rwACQAAAAAAAAAAAAB07kp+jqH7L/iZKEVyUf/DqH7L/AImYHKvlCraDo0n+Xktr+xF9fx4GLZ97pWlNzoQlrVI7ZY3RWet8ckNUqbcGDydpxjRqT3ynLa/ctyMmuzz3nZd6R8XmZbdKO95T4p4ZRVsPaX1OEt7IdIl7t5NLCqPPVrJPDJCw0XFzWzYnrTf2pMx7KjHWXW+o2WnSUIqK+/4nasa53tnpcS9xWR5yHvOrgqkal/aH6tt8ZfgjbPvNT/tD9W2+MvwRrJaSAAkAAAAAAAAAAAAAAAAAAAAAAAAAAAAAAAAPNT1X8D0eZ+q/gBt39n9KjKp6STmoZgnxz6T+P+5O8taVPo8ZtJVddKL62utfA5fbXdSk8wk11/B8VwNu0FpGekbatZ1Z5uIrnLecm221vi2/6w3wI4zkw7xeNifxGG/8lKVJWcJQS1pZ5x9etnc/ocxhdVctTSTTw1jamt6L9HSVannUqShnfqycc/Jm08Vva/L5qWjE7ymp043lRUkksJyS3KXX/IwrCMHXpKp+bc0pfDJFu6n7iW5K03VrVK9fCtrZa83jfLfGP8/uXEm3itE7Kq+enHHQ9IUKLt5xqRiqSi+rCikt64HHKiXPTx/T2ZMzSvKO4ualSTnJQlLMYZeIrqWN2cYI2g/SfwLzt55mOOMgAGuYAAAAAAAAAAAAA2+z5RdH0fRp0Yp1dVpyl6sfSfef0NZ0jNzqTnN60p7ZPiz1F5jTX9by3dPOfc/6/AxST5O3OyVN/FErVWTVbOepVjJM2hTUllPKOHkr3rv47dYxKtNrcUoW85SSWUZVSL3mZa4UcvCMiFSjNK1J206EYVJKUouTa2bU1jH1Muz5Z1aeI16aqL7SerLwb+REco7tSuKTW6Kf1wR85Rbe9rb8fcj0V9OFvbo1nyltKuPT1HwmsfXcS0WpLKaafWtqOPUKvUyRt9I1qLzSqSg/c9j+K3G4l1HVNP8A7QvVtvjL8EW9FctZ85GFzGOq9mulhr3tbsF3+0P1Lb4y/BAlpIACQAAAAAAAAAAAAAAAAAAAAAAAAAAAAAAAA8z9V/A9Hmfqv4AYhk6OualGvSqUvzkZJx973Y+/d95jHulUcJRkt8Wmvigp0rTfI/pM516U1TqzSbptZi5427erJz24k4S1WsSTw1wxsaOjaD5aUrqcKMounXmmk3hwcsfPac30lTqQuKsayxVU3r/HOcr3bcnTlMRicTvJ3k/O/lJqahThjWljLbe5JEjywtpWNhQtKWXTqTcqtTc5yW1Jr+vVRXkNeu0s7q4rbLaLWrxlPc1H5pf+iL5W8plf6kKcHGlB5Wd7fF43GTbSIxrZdt97+BaLtvv+4hTIAASAAAAAAAAAAAAAMilJbMvcv5s81/7uHnftx8iyA3XulFb3vXU8GbbV1u18P44I8GTGkSmlePdzkfvaLsbpNbakfmiABnBXOWTpOSlVi0017nkxpJ7cMAqIxOqQfop4w1sfvMinLb1FgGmrlfBNaZvo1rCwWunUgpRms+ktXEU2vekQIMNAAGAAAAAAAAAAAAAAAAAAAAAAAAAAAAAAAAB5n6r+B6PM/VfwAxAAFPVOpKMoyi2pRacWt6a2pm5aU0dLS9K3vLaK56X5K4jlLVkv137l+DRpZ0zkJpW2VjGk6kIVKbevGTUW8tvW279n4AazyxuoU3S0fR2UbZLW/vVGt7+b++TNZNh5cX9G4vnKi1KMYKEprdKSb2p9e9LPuNeAF239Z/AtF233/cBkAAJAAAAAAAAAAAAAAAAAAAAAAAAAAAAAAAASfm5fey1Pp4lfNy+9lqfTxOolA3HL/Ny+9lqfTxHm5fey1Pp4nUQDHLfNy+9lqfTxK+bl97LU+nidQKgxy7zcvvZan08Snm5fey1Pp4nUSoMct83L72Wp9PEr5uX3stT6eJ1AAxy/zcvvZan08R5uX3stT6eJ1EAxy7zcvvZan08Snm5fey1Pp4nUSoMcu83L72Wp9PEebl97LU+nidQAMcu83L72Wp9PEebl97LU+nidSKAxy/zcvvZan08R5uX3stT6eJ1AqDHLvNy+9lqfTxKebl97LU+nidSAMcu83L72Wp9PEebl97LU+nidRKAxy/zcvvZan08Sj5OX3stT6eJ1IAxyvzYvPZJ/4fEebF57JP8Aw+J1MqDHK/Ni89kn/h8R5sXnsk/8PidUAMcr82Lz2Sf08R5sXnsk/p4nUyoMcr82Lz2Sf08Sq5NXq3Ws/p4nUgDHL/Ny+9lqfTxKebl97LU+nidRAMcv83L72Wp9PEebl97LU+nidRAMcu83L72Wp9PEebl97LU+nidRKAxy7zcvvZan08Svm5fey1Pp4nUQDHLvNy+9lqfTxKebl97LU+nidRAMcu83L72Wp9PEr5uX3stT6eJ1AqDHLvNy+9lqfTxHm5fey1Pp4nUSgMcv83L72Wp9PEp5uX3stT6eJ1IAxy7zcvvZan08R5uX3stT6eJ1AAxy/wA3L72Wp9PEp5uX3stT6eJ1EAxy/wA3L72Wp9PEebl97LU+nidRAMcu83L72Wp9PEp5uX3stT6eJ1IoDHLvNy+9lqfTxHm5fey1Pp4nUgDAABoAAAAAAAAAAAAAAAAAAAAAAAAAAAAAAAAAAAAAAAAAAAAAAAAAAAAAAAAAAAAAAAAAAAAAAAAAAAAAs9KpdrT76HSqXa0++jhwA7j0ql2tPvodKpdrT76OHADuPSqXa0++h0ql2tPvo4cAO49KpdrT76HSqXa0++jhwA7j0ql2tPvodKpdrT76OHADuPSqXa0++h0ql2tPvo4cAO49KpdrT76HSqXa0++jhwA7j0ql2tPvodKpdrT76OHADuPSqXa0++h0ql2tPvo4cAO49KpdrT76HSqXa0++jhwA7j0ql2tPvodKpdrT76OHADuPSqXa0++h0ql2tPvo4cAO49KpdrT76HSqXa0++jhwA7j0ql2tPvodKpdrT76OHADuPSqXa0++h0ql2tPvo4cAO49KpdrT76HSqXa0++jhwA7j0ql2tPvodKpdrT76OHADuPSqXa0++h0ql2tPvo4cAO49KpdrT76HSqXa0++jhwA7j0ql2tPvodKpdrT76OHADuPSqXa0++h0ql2tPvo4cAO49KpdrT76HSqXa0++jhwA7j0ql2tPvodKpdrT76OHADuPSqXa0++h0ql2tPvo4cAO49KpdrT76HSqXa0++jhwA7j0ql2tPvodKpdrT76OHADuPSqXa0++h0ql2tPvo4cAO49KpdrT76HSqXa0++jhwA7j0ql2tPvodKpdrT76OHADuPSqXa0++h0ql2tPvo4cAAAAAAAAAAAAAAAAAAAAAAAAAAAAAAAAAAAAAAAAAAAAAAAAAAAAAAAAAAAAAAAAAAAAAAAAAAAAAAAAAAAAAAAAAAAAAAAAAAAAAAAAAAAAAAAAAAAAAAAAAAAAAAAAAAAAAAAAAAAAAAAAAAAAAAAAAAAAAAAAAAAAAAAAAAAAAAAAAAAAAAAAAAAAAAAAAAAAAAAAAAAAAAAAAAAAAAAAAAAAAAAAAAAAAAAAAAAAAAAAAP/Z\n",
                  "text/html": "\n        <iframe\n            width=\"854\"\n            height=\"480\"\n            src=\"https://www.youtube.com/embed/ca21SNqt78I?fs=1&rel=0\"\n            frameborder=\"0\"\n            allowfullscreen\n        ></iframe>\n        ",
                  "text/plain": "<IPython.lib.display.YouTubeVideo at 0x7f80a1b0e650>"
                },
                "metadata": {},
                "output_type": "display_data"
              }
            ]
          }
        },
        "ac7d185ab10e467ab65e3092aa8faf28": {
          "model_module": "@jupyter-widgets/base",
          "model_module_version": "1.2.0",
          "model_name": "LayoutModel",
          "state": {
            "_model_module": "@jupyter-widgets/base",
            "_model_module_version": "1.2.0",
            "_model_name": "LayoutModel",
            "_view_count": null,
            "_view_module": "@jupyter-widgets/base",
            "_view_module_version": "1.2.0",
            "_view_name": "LayoutView",
            "align_content": null,
            "align_items": null,
            "align_self": null,
            "border": null,
            "bottom": null,
            "display": null,
            "flex": null,
            "flex_flow": null,
            "grid_area": null,
            "grid_auto_columns": null,
            "grid_auto_flow": null,
            "grid_auto_rows": null,
            "grid_column": null,
            "grid_gap": null,
            "grid_row": null,
            "grid_template_areas": null,
            "grid_template_columns": null,
            "grid_template_rows": null,
            "height": null,
            "justify_content": null,
            "justify_items": null,
            "left": null,
            "margin": null,
            "max_height": null,
            "max_width": null,
            "min_height": null,
            "min_width": null,
            "object_fit": null,
            "object_position": null,
            "order": null,
            "overflow": null,
            "overflow_x": null,
            "overflow_y": null,
            "padding": null,
            "right": null,
            "top": null,
            "visibility": null,
            "width": null
          }
        },
        "b518d918c6914c1b9d9ce12baca6ea68": {
          "model_module": "@jupyter-widgets/base",
          "model_module_version": "1.2.0",
          "model_name": "LayoutModel",
          "state": {
            "_model_module": "@jupyter-widgets/base",
            "_model_module_version": "1.2.0",
            "_model_name": "LayoutModel",
            "_view_count": null,
            "_view_module": "@jupyter-widgets/base",
            "_view_module_version": "1.2.0",
            "_view_name": "LayoutView",
            "align_content": null,
            "align_items": null,
            "align_self": null,
            "border": null,
            "bottom": null,
            "display": null,
            "flex": null,
            "flex_flow": null,
            "grid_area": null,
            "grid_auto_columns": null,
            "grid_auto_flow": null,
            "grid_auto_rows": null,
            "grid_column": null,
            "grid_gap": null,
            "grid_row": null,
            "grid_template_areas": null,
            "grid_template_columns": null,
            "grid_template_rows": null,
            "height": null,
            "justify_content": null,
            "justify_items": null,
            "left": null,
            "margin": null,
            "max_height": null,
            "max_width": null,
            "min_height": null,
            "min_width": null,
            "object_fit": null,
            "object_position": null,
            "order": null,
            "overflow": null,
            "overflow_x": null,
            "overflow_y": null,
            "padding": null,
            "right": null,
            "top": null,
            "visibility": null,
            "width": null
          }
        },
        "c016e9f52af84f92b459eb80aae3579b": {
          "model_module": "@jupyter-widgets/output",
          "model_module_version": "1.0.0",
          "model_name": "OutputModel",
          "state": {
            "_dom_classes": [],
            "_model_module": "@jupyter-widgets/output",
            "_model_module_version": "1.0.0",
            "_model_name": "OutputModel",
            "_view_count": null,
            "_view_module": "@jupyter-widgets/output",
            "_view_module_version": "1.0.0",
            "_view_name": "OutputView",
            "layout": "IPY_MODEL_fbd6e507130d4209a4b09fe2633ea846",
            "msg_id": "",
            "outputs": [
              {
                "name": "stdout",
                "output_type": "stream",
                "text": [
                  "Video available at https://youtube.com/watch?v=l-K6495BN-4\n"
                ]
              },
              {
                "data": {
                  "image/jpeg": "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\n",
                  "text/html": "\n        <iframe\n            width=\"854\"\n            height=\"480\"\n            src=\"https://www.youtube.com/embed/l-K6495BN-4?fs=1&rel=0\"\n            frameborder=\"0\"\n            allowfullscreen\n        ></iframe>\n        ",
                  "text/plain": "<IPython.lib.display.YouTubeVideo at 0x7f7fc7d5d290>"
                },
                "metadata": {},
                "output_type": "display_data"
              }
            ]
          }
        },
        "c1b68650162a455dbe7c7dfc64e475b2": {
          "model_module": "@jupyter-widgets/output",
          "model_module_version": "1.0.0",
          "model_name": "OutputModel",
          "state": {
            "_dom_classes": [],
            "_model_module": "@jupyter-widgets/output",
            "_model_module_version": "1.0.0",
            "_model_name": "OutputModel",
            "_view_count": null,
            "_view_module": "@jupyter-widgets/output",
            "_view_module_version": "1.0.0",
            "_view_name": "OutputView",
            "layout": "IPY_MODEL_1c08ec5187d34443b53c2f73d1bd4bb9",
            "msg_id": "",
            "outputs": [
              {
                "name": "stdout",
                "output_type": "stream",
                "text": [
                  "Video available at https://www.bilibili.com/video/BV1Rw411d7Uy\n"
                ]
              },
              {
                "data": {
                  "text/html": "\n        <iframe\n            width=\"854\"\n            height=\"480\"\n            src=\"https://player.bilibili.com/player.html?bvid=BV1Rw411d7Uy&page=1?fs=1\"\n            frameborder=\"0\"\n            allowfullscreen\n        ></iframe>\n        ",
                  "text/plain": "<__main__.BiliVideo at 0x7f80a1b1b190>"
                },
                "metadata": {},
                "output_type": "display_data"
              }
            ]
          }
        },
        "c56efcf3ce434b6b8d4e26a345fdf6e6": {
          "model_module": "@jupyter-widgets/controls",
          "model_module_version": "1.5.0",
          "model_name": "TabModel",
          "state": {
            "_dom_classes": [],
            "_model_module": "@jupyter-widgets/controls",
            "_model_module_version": "1.5.0",
            "_model_name": "TabModel",
            "_titles": {
              "0": "Youtube",
              "1": "Bilibili"
            },
            "_view_count": null,
            "_view_module": "@jupyter-widgets/controls",
            "_view_module_version": "1.5.0",
            "_view_name": "TabView",
            "box_style": "",
            "children": [
              "IPY_MODEL_ab676a83e8af4c7aa6f84d2229112afc",
              "IPY_MODEL_a036f3fbcfda42c6a543bba1cd0f17d2"
            ],
            "layout": "IPY_MODEL_ac7d185ab10e467ab65e3092aa8faf28",
            "selected_index": 0
          }
        },
        "f6370802c821437d9fda392f5a457d25": {
          "model_module": "@jupyter-widgets/base",
          "model_module_version": "1.2.0",
          "model_name": "LayoutModel",
          "state": {
            "_model_module": "@jupyter-widgets/base",
            "_model_module_version": "1.2.0",
            "_model_name": "LayoutModel",
            "_view_count": null,
            "_view_module": "@jupyter-widgets/base",
            "_view_module_version": "1.2.0",
            "_view_name": "LayoutView",
            "align_content": null,
            "align_items": null,
            "align_self": null,
            "border": null,
            "bottom": null,
            "display": null,
            "flex": null,
            "flex_flow": null,
            "grid_area": null,
            "grid_auto_columns": null,
            "grid_auto_flow": null,
            "grid_auto_rows": null,
            "grid_column": null,
            "grid_gap": null,
            "grid_row": null,
            "grid_template_areas": null,
            "grid_template_columns": null,
            "grid_template_rows": null,
            "height": null,
            "justify_content": null,
            "justify_items": null,
            "left": null,
            "margin": null,
            "max_height": null,
            "max_width": null,
            "min_height": null,
            "min_width": null,
            "object_fit": null,
            "object_position": null,
            "order": null,
            "overflow": null,
            "overflow_x": null,
            "overflow_y": null,
            "padding": null,
            "right": null,
            "top": null,
            "visibility": null,
            "width": null
          }
        },
        "fbd6e507130d4209a4b09fe2633ea846": {
          "model_module": "@jupyter-widgets/base",
          "model_module_version": "1.2.0",
          "model_name": "LayoutModel",
          "state": {
            "_model_module": "@jupyter-widgets/base",
            "_model_module_version": "1.2.0",
            "_model_name": "LayoutModel",
            "_view_count": null,
            "_view_module": "@jupyter-widgets/base",
            "_view_module_version": "1.2.0",
            "_view_name": "LayoutView",
            "align_content": null,
            "align_items": null,
            "align_self": null,
            "border": null,
            "bottom": null,
            "display": null,
            "flex": null,
            "flex_flow": null,
            "grid_area": null,
            "grid_auto_columns": null,
            "grid_auto_flow": null,
            "grid_auto_rows": null,
            "grid_column": null,
            "grid_gap": null,
            "grid_row": null,
            "grid_template_areas": null,
            "grid_template_columns": null,
            "grid_template_rows": null,
            "height": null,
            "justify_content": null,
            "justify_items": null,
            "left": null,
            "margin": null,
            "max_height": null,
            "max_width": null,
            "min_height": null,
            "min_width": null,
            "object_fit": null,
            "object_position": null,
            "order": null,
            "overflow": null,
            "overflow_x": null,
            "overflow_y": null,
            "padding": null,
            "right": null,
            "top": null,
            "visibility": null,
            "width": null
          }
        }
      }
    }
  },
  "nbformat": 4,
  "nbformat_minor": 0
}